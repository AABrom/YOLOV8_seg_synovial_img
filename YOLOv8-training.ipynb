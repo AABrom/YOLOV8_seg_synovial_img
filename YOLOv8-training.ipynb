{
 "cells": [
  {
   "cell_type": "code",
   "execution_count": 2,
   "metadata": {},
   "outputs": [],
   "source": [
    "from ultralytics import YOLO"
   ]
  },
  {
   "cell_type": "code",
   "execution_count": 3,
   "metadata": {},
   "outputs": [
    {
     "name": "stdout",
     "output_type": "stream",
     "text": [
      "env: CLEARML_WEB_HOST=https://app.clear.ml\n",
      "env: CLEARML_API_HOST=https://api.clear.ml\n",
      "env: CLEARML_FILES_HOST=https://files.clear.ml\n",
      "env: CLEARML_API_ACCESS_KEY=1DZRQ8B5W9FGMLRHRORQ\n",
      "env: CLEARML_API_SECRET_KEY=1TBs0M9kVNS6keRLwPPlFmP0G8sRRWiQJTmVKiVBfR2t1bEMus\n",
      "ClearML Task: overwriting (reusing) task id=1a97c1a375a0413ba456faa8e87e34f9\n",
      "2024-07-24 22:02:23,996 - clearml.Repository Detection - WARNING - Could not read Jupyter Notebook: No module named 'nbconvert'\n",
      "2024-07-24 22:02:23,999 - clearml.Task - INFO - Storing jupyter notebook directly as code\n",
      "ClearML results page: https://app.clear.ml/projects/a687c96073f244f88cd14a000c46f0ae/experiments/1a97c1a375a0413ba456faa8e87e34f9/output/log\n"
     ]
    }
   ],
   "source": [
    "%env CLEARML_WEB_HOST=https://app.clear.ml\n",
    "%env CLEARML_API_HOST=https://api.clear.ml\n",
    "%env CLEARML_FILES_HOST=https://files.clear.ml\n",
    "%env CLEARML_API_ACCESS_KEY=1DZRQ8B5W9FGMLRHRORQ\n",
    "%env CLEARML_API_SECRET_KEY=1TBs0M9kVNS6keRLwPPlFmP0G8sRRWiQJTmVKiVBfR2t1bEMus\n",
    "\n",
    "from clearml import Task\n",
    "task = Task.init(project_name=\"synovial_img_segmentation\", task_name=\"yolo8s-seg_vessels\")"
   ]
  },
  {
   "cell_type": "code",
   "execution_count": 4,
   "metadata": {},
   "outputs": [
    {
     "name": "stdout",
     "output_type": "stream",
     "text": [
      "2024-07-24 22:02:29,055 - clearml.model - INFO - Selected model id: b0cbe272f9fd4b358bebebf0f107b4a5\n",
      "ClearML Monitor: GPU monitoring failed getting GPU reading, switching off GPU monitoring\n"
     ]
    }
   ],
   "source": [
    "seg_s_model = YOLO('yolov8s-seg.pt') "
   ]
  },
  {
   "cell_type": "code",
   "execution_count": 1,
   "metadata": {},
   "outputs": [],
   "source": [
    "PATH_TO_DATA = \"C:/ide/github/yolo_v8/config.yaml\""
   ]
  },
  {
   "cell_type": "code",
   "execution_count": 5,
   "metadata": {},
   "outputs": [
    {
     "name": "stdout",
     "output_type": "stream",
     "text": [
      "New https://pypi.org/project/ultralytics/8.2.64 available 😃 Update with 'pip install -U ultralytics'\n",
      "Ultralytics YOLOv8.1.15 🚀 Python-3.9.10 torch-2.1.1+cpu CPU (Intel Core(TM) i3-10110U 2.10GHz)\n",
      "\u001b[34m\u001b[1mengine\\trainer: \u001b[0mtask=segment, mode=train, model=yolov8s-seg.pt, data=C:/ide/github/yolo_v8/config.yaml, epochs=100, time=None, patience=50, batch=16, imgsz=640, save=True, save_period=-1, cache=False, device=None, workers=8, project=None, name=train17, exist_ok=False, pretrained=True, optimizer=auto, verbose=True, seed=0, deterministic=True, single_cls=False, rect=False, cos_lr=False, close_mosaic=10, resume=False, amp=True, fraction=1.0, profile=False, freeze=None, multi_scale=False, overlap_mask=True, mask_ratio=4, dropout=0.0, val=True, split=val, save_json=False, save_hybrid=False, conf=None, iou=0.7, max_det=300, half=False, dnn=False, plots=True, source=None, vid_stride=1, stream_buffer=False, visualize=False, augment=False, agnostic_nms=False, classes=None, retina_masks=False, embed=None, show=False, save_frames=False, save_txt=False, save_conf=False, save_crop=False, show_labels=True, show_conf=True, show_boxes=True, line_width=None, format=torchscript, keras=False, optimize=False, int8=False, dynamic=False, simplify=False, opset=None, workspace=4, nms=False, lr0=0.01, lrf=0.01, momentum=0.937, weight_decay=0.0005, warmup_epochs=3.0, warmup_momentum=0.8, warmup_bias_lr=0.1, box=7.5, cls=0.5, dfl=1.5, pose=12.0, kobj=1.0, label_smoothing=0.0, nbs=64, hsv_h=0.015, hsv_s=0.7, hsv_v=0.4, degrees=360, translate=0.1, scale=0.5, shear=0.0, perspective=0.0, flipud=0.2, fliplr=0.2, mosaic=1.0, mixup=0.0, copy_paste=0.0, auto_augment=randaugment, erasing=0.4, crop_fraction=1.0, cfg=None, tracker=botsort.yaml, save_dir=runs\\segment\\train17\n",
      "Overriding model.yaml nc=80 with nc=1\n",
      "\n",
      "                   from  n    params  module                                       arguments                     \n",
      "  0                  -1  1       928  ultralytics.nn.modules.conv.Conv             [3, 32, 3, 2]                 \n",
      "  1                  -1  1     18560  ultralytics.nn.modules.conv.Conv             [32, 64, 3, 2]                \n",
      "  2                  -1  1     29056  ultralytics.nn.modules.block.C2f             [64, 64, 1, True]             \n",
      "  3                  -1  1     73984  ultralytics.nn.modules.conv.Conv             [64, 128, 3, 2]               \n",
      "  4                  -1  2    197632  ultralytics.nn.modules.block.C2f             [128, 128, 2, True]           \n",
      "  5                  -1  1    295424  ultralytics.nn.modules.conv.Conv             [128, 256, 3, 2]              \n",
      "  6                  -1  2    788480  ultralytics.nn.modules.block.C2f             [256, 256, 2, True]           \n",
      "  7                  -1  1   1180672  ultralytics.nn.modules.conv.Conv             [256, 512, 3, 2]              \n",
      "  8                  -1  1   1838080  ultralytics.nn.modules.block.C2f             [512, 512, 1, True]           \n",
      "  9                  -1  1    656896  ultralytics.nn.modules.block.SPPF            [512, 512, 5]                 \n",
      " 10                  -1  1         0  torch.nn.modules.upsampling.Upsample         [None, 2, 'nearest']          \n",
      " 11             [-1, 6]  1         0  ultralytics.nn.modules.conv.Concat           [1]                           \n",
      " 12                  -1  1    591360  ultralytics.nn.modules.block.C2f             [768, 256, 1]                 \n",
      " 13                  -1  1         0  torch.nn.modules.upsampling.Upsample         [None, 2, 'nearest']          \n",
      " 14             [-1, 4]  1         0  ultralytics.nn.modules.conv.Concat           [1]                           \n",
      " 15                  -1  1    148224  ultralytics.nn.modules.block.C2f             [384, 128, 1]                 \n",
      " 16                  -1  1    147712  ultralytics.nn.modules.conv.Conv             [128, 128, 3, 2]              \n",
      " 17            [-1, 12]  1         0  ultralytics.nn.modules.conv.Concat           [1]                           \n",
      " 18                  -1  1    493056  ultralytics.nn.modules.block.C2f             [384, 256, 1]                 \n",
      " 19                  -1  1    590336  ultralytics.nn.modules.conv.Conv             [256, 256, 3, 2]              \n",
      " 20             [-1, 9]  1         0  ultralytics.nn.modules.conv.Concat           [1]                           \n",
      " 21                  -1  1   1969152  ultralytics.nn.modules.block.C2f             [768, 512, 1]                 \n",
      " 22        [15, 18, 21]  1   2770931  ultralytics.nn.modules.head.Segment          [1, 32, 128, [128, 256, 512]] \n",
      "YOLOv8s-seg summary: 261 layers, 11790483 parameters, 11790467 gradients, 42.7 GFLOPs\n",
      "\n",
      "Transferred 411/417 items from pretrained weights\n",
      "Freezing layer 'model.22.dfl.conv.weight'\n"
     ]
    },
    {
     "name": "stderr",
     "output_type": "stream",
     "text": [
      "\u001b[34m\u001b[1mtrain: \u001b[0mScanning C:\\ide\\github\\yolo_v8\\train\\labels.cache... 168 images, 5 backgrounds, 0 corrupt: 100%|██████████| 168/168 [00:00<?, ?it/s]\n",
      "\u001b[34m\u001b[1mval: \u001b[0mScanning C:\\ide\\github\\yolo_v8\\valid\\labels.cache... 43 images, 2 backgrounds, 0 corrupt: 100%|██████████| 43/43 [00:00<?, ?it/s]\n"
     ]
    },
    {
     "name": "stdout",
     "output_type": "stream",
     "text": [
      "Plotting labels to runs\\segment\\train17\\labels.jpg... \n",
      "\u001b[34m\u001b[1moptimizer:\u001b[0m 'optimizer=auto' found, ignoring 'lr0=0.01' and 'momentum=0.937' and determining best 'optimizer', 'lr0' and 'momentum' automatically... \n",
      "\u001b[34m\u001b[1moptimizer:\u001b[0m AdamW(lr=0.002, momentum=0.9) with parameter groups 66 weight(decay=0.0), 77 weight(decay=0.0005), 76 bias(decay=0.0)\n",
      "Image sizes 640 train, 640 val\n",
      "Using 0 dataloader workers\n",
      "Logging results to \u001b[1mruns\\segment\\train17\u001b[0m\n",
      "Starting training for 100 epochs...\n",
      "\n",
      "      Epoch    GPU_mem   box_loss   seg_loss   cls_loss   dfl_loss  Instances       Size\n"
     ]
    },
    {
     "name": "stderr",
     "output_type": "stream",
     "text": [
      "      1/100         0G      2.801      4.609       4.16      1.726        521        640:   9%|▉         | 1/11 [01:13<12:11, 73.19s/it]"
     ]
    },
    {
     "name": "stdout",
     "output_type": "stream",
     "text": [
      "ClearML Monitor: Could not detect iteration reporting, falling back to iterations as seconds-from-start\n"
     ]
    },
    {
     "name": "stderr",
     "output_type": "stream",
     "text": [
      "      1/100         0G      2.671      4.118       3.04      1.483        296        640: 100%|██████████| 11/11 [14:52<00:00, 81.16s/it]\n",
      "                 Class     Images  Instances      Box(P          R      mAP50  mAP50-95)     Mask(P          R      mAP50  mAP50-95):   0%|          | 0/2 [00:00<?, ?it/s]"
     ]
    },
    {
     "name": "stdout",
     "output_type": "stream",
     "text": [
      "ClearML Monitor: Reporting detected, reverting back to iteration based reporting\n"
     ]
    },
    {
     "name": "stderr",
     "output_type": "stream",
     "text": [
      "                 Class     Images  Instances      Box(P          R      mAP50  mAP50-95)     Mask(P          R      mAP50  mAP50-95): 100%|██████████| 2/2 [00:25<00:00, 12.86s/it]"
     ]
    },
    {
     "name": "stdout",
     "output_type": "stream",
     "text": [
      "                   all         43        826      0.348       0.28      0.189     0.0744       0.32      0.252      0.158     0.0448\n"
     ]
    },
    {
     "name": "stderr",
     "output_type": "stream",
     "text": [
      "\n"
     ]
    },
    {
     "name": "stdout",
     "output_type": "stream",
     "text": [
      "\n",
      "      Epoch    GPU_mem   box_loss   seg_loss   cls_loss   dfl_loss  Instances       Size\n"
     ]
    },
    {
     "name": "stderr",
     "output_type": "stream",
     "text": [
      "      2/100         0G      2.245      3.297      1.922      1.234        220        640: 100%|██████████| 11/11 [13:57<00:00, 76.14s/it]\n",
      "                 Class     Images  Instances      Box(P          R      mAP50  mAP50-95)     Mask(P          R      mAP50  mAP50-95): 100%|██████████| 2/2 [00:37<00:00, 18.91s/it]"
     ]
    },
    {
     "name": "stdout",
     "output_type": "stream",
     "text": [
      "                   all         43        826      0.354      0.375      0.288      0.108      0.241      0.292      0.176     0.0453\n"
     ]
    },
    {
     "name": "stderr",
     "output_type": "stream",
     "text": [
      "\n"
     ]
    },
    {
     "name": "stdout",
     "output_type": "stream",
     "text": [
      "\n",
      "      Epoch    GPU_mem   box_loss   seg_loss   cls_loss   dfl_loss  Instances       Size\n"
     ]
    },
    {
     "name": "stderr",
     "output_type": "stream",
     "text": [
      "      3/100         0G      2.227      3.199      1.826      1.233        218        640: 100%|██████████| 11/11 [15:05<00:00, 82.33s/it]\n",
      "                 Class     Images  Instances      Box(P          R      mAP50  mAP50-95)     Mask(P          R      mAP50  mAP50-95): 100%|██████████| 2/2 [00:29<00:00, 14.58s/it]"
     ]
    },
    {
     "name": "stdout",
     "output_type": "stream",
     "text": [
      "                   all         43        826      0.176      0.177       0.12     0.0494      0.175      0.142     0.0869     0.0264\n"
     ]
    },
    {
     "name": "stderr",
     "output_type": "stream",
     "text": [
      "\n"
     ]
    },
    {
     "name": "stdout",
     "output_type": "stream",
     "text": [
      "\n",
      "      Epoch    GPU_mem   box_loss   seg_loss   cls_loss   dfl_loss  Instances       Size\n"
     ]
    },
    {
     "name": "stderr",
     "output_type": "stream",
     "text": [
      "      4/100         0G      2.177       3.14      1.722      1.227        375        640: 100%|██████████| 11/11 [15:08<00:00, 82.60s/it]\n",
      "                 Class     Images  Instances      Box(P          R      mAP50  mAP50-95)     Mask(P          R      mAP50  mAP50-95): 100%|██████████| 2/2 [00:28<00:00, 14.48s/it]"
     ]
    },
    {
     "name": "stdout",
     "output_type": "stream",
     "text": [
      "                   all         43        826      0.199      0.202     0.0998      0.029      0.134      0.108     0.0479     0.0113\n"
     ]
    },
    {
     "name": "stderr",
     "output_type": "stream",
     "text": [
      "\n"
     ]
    },
    {
     "name": "stdout",
     "output_type": "stream",
     "text": [
      "\n",
      "      Epoch    GPU_mem   box_loss   seg_loss   cls_loss   dfl_loss  Instances       Size\n"
     ]
    },
    {
     "name": "stderr",
     "output_type": "stream",
     "text": [
      "      5/100         0G      2.257      3.292      1.691      1.225        283        640: 100%|██████████| 11/11 [16:15<00:00, 88.67s/it]\n",
      "                 Class     Images  Instances      Box(P          R      mAP50  mAP50-95)     Mask(P          R      mAP50  mAP50-95): 100%|██████████| 2/2 [00:30<00:00, 15.00s/it]"
     ]
    },
    {
     "name": "stdout",
     "output_type": "stream",
     "text": [
      "                   all         43        826      0.154      0.254     0.0918     0.0263     0.0833      0.128     0.0328    0.00707\n"
     ]
    },
    {
     "name": "stderr",
     "output_type": "stream",
     "text": [
      "\n"
     ]
    },
    {
     "name": "stdout",
     "output_type": "stream",
     "text": [
      "\n",
      "      Epoch    GPU_mem   box_loss   seg_loss   cls_loss   dfl_loss  Instances       Size\n"
     ]
    },
    {
     "name": "stderr",
     "output_type": "stream",
     "text": [
      "      6/100         0G      2.229      3.161      1.769      1.238        357        640: 100%|██████████| 11/11 [15:14<00:00, 83.18s/it]\n",
      "                 Class     Images  Instances      Box(P          R      mAP50  mAP50-95)     Mask(P          R      mAP50  mAP50-95): 100%|██████████| 2/2 [00:29<00:00, 14.71s/it]"
     ]
    },
    {
     "name": "stdout",
     "output_type": "stream",
     "text": [
      "                   all         43        826      0.324      0.285      0.195     0.0587      0.194      0.173     0.0736     0.0173\n"
     ]
    },
    {
     "name": "stderr",
     "output_type": "stream",
     "text": [
      "\n"
     ]
    },
    {
     "name": "stdout",
     "output_type": "stream",
     "text": [
      "\n",
      "      Epoch    GPU_mem   box_loss   seg_loss   cls_loss   dfl_loss  Instances       Size\n"
     ]
    },
    {
     "name": "stderr",
     "output_type": "stream",
     "text": [
      "      7/100         0G        2.2      3.079      1.741      1.202        485        640: 100%|██████████| 11/11 [15:49<00:00, 86.33s/it]\n",
      "                 Class     Images  Instances      Box(P          R      mAP50  mAP50-95)     Mask(P          R      mAP50  mAP50-95): 100%|██████████| 2/2 [00:29<00:00, 14.75s/it]"
     ]
    },
    {
     "name": "stdout",
     "output_type": "stream",
     "text": [
      "                   all         43        826      0.368      0.391       0.29      0.107      0.297      0.293        0.2     0.0567\n"
     ]
    },
    {
     "name": "stderr",
     "output_type": "stream",
     "text": [
      "\n"
     ]
    },
    {
     "name": "stdout",
     "output_type": "stream",
     "text": [
      "\n",
      "      Epoch    GPU_mem   box_loss   seg_loss   cls_loss   dfl_loss  Instances       Size\n"
     ]
    },
    {
     "name": "stderr",
     "output_type": "stream",
     "text": [
      "      8/100         0G      2.242      3.107      1.719      1.251        246        640: 100%|██████████| 11/11 [16:33<00:00, 90.30s/it] \n",
      "                 Class     Images  Instances      Box(P          R      mAP50  mAP50-95)     Mask(P          R      mAP50  mAP50-95): 100%|██████████| 2/2 [00:29<00:00, 14.69s/it]"
     ]
    },
    {
     "name": "stdout",
     "output_type": "stream",
     "text": [
      "                   all         43        826      0.276      0.419      0.175     0.0656      0.239       0.36       0.14     0.0442\n"
     ]
    },
    {
     "name": "stderr",
     "output_type": "stream",
     "text": [
      "\n"
     ]
    },
    {
     "name": "stdout",
     "output_type": "stream",
     "text": [
      "\n",
      "      Epoch    GPU_mem   box_loss   seg_loss   cls_loss   dfl_loss  Instances       Size\n"
     ]
    },
    {
     "name": "stderr",
     "output_type": "stream",
     "text": [
      "      9/100         0G      2.245      3.138      1.675       1.23        421        640: 100%|██████████| 11/11 [16:36<00:00, 90.63s/it]\n",
      "                 Class     Images  Instances      Box(P          R      mAP50  mAP50-95)     Mask(P          R      mAP50  mAP50-95): 100%|██████████| 2/2 [00:29<00:00, 14.94s/it]"
     ]
    },
    {
     "name": "stdout",
     "output_type": "stream",
     "text": [
      "                   all         43        826      0.119      0.426     0.0812       0.03     0.0905      0.323     0.0532     0.0162\n"
     ]
    },
    {
     "name": "stderr",
     "output_type": "stream",
     "text": [
      "\n"
     ]
    },
    {
     "name": "stdout",
     "output_type": "stream",
     "text": [
      "\n",
      "      Epoch    GPU_mem   box_loss   seg_loss   cls_loss   dfl_loss  Instances       Size\n"
     ]
    },
    {
     "name": "stderr",
     "output_type": "stream",
     "text": [
      "     10/100         0G      2.283      3.109      1.638      1.264        365        640: 100%|██████████| 11/11 [17:24<00:00, 94.97s/it] \n",
      "                 Class     Images  Instances      Box(P          R      mAP50  mAP50-95)     Mask(P          R      mAP50  mAP50-95): 100%|██████████| 2/2 [00:29<00:00, 14.61s/it]"
     ]
    },
    {
     "name": "stdout",
     "output_type": "stream",
     "text": [
      "                   all         43        826      0.117      0.155     0.0501     0.0166     0.0489      0.122     0.0167    0.00444\n"
     ]
    },
    {
     "name": "stderr",
     "output_type": "stream",
     "text": [
      "\n"
     ]
    },
    {
     "name": "stdout",
     "output_type": "stream",
     "text": [
      "\n",
      "      Epoch    GPU_mem   box_loss   seg_loss   cls_loss   dfl_loss  Instances       Size\n"
     ]
    },
    {
     "name": "stderr",
     "output_type": "stream",
     "text": [
      "     11/100         0G      2.186      3.022      1.635      1.216        118        640: 100%|██████████| 11/11 [16:43<00:00, 91.19s/it]\n",
      "                 Class     Images  Instances      Box(P          R      mAP50  mAP50-95)     Mask(P          R      mAP50  mAP50-95): 100%|██████████| 2/2 [00:28<00:00, 14.47s/it]"
     ]
    },
    {
     "name": "stdout",
     "output_type": "stream",
     "text": [
      "                   all         43        826      0.173       0.12     0.0667     0.0192     0.0983     0.0763     0.0237    0.00544\n"
     ]
    },
    {
     "name": "stderr",
     "output_type": "stream",
     "text": [
      "\n"
     ]
    },
    {
     "name": "stdout",
     "output_type": "stream",
     "text": [
      "\n",
      "      Epoch    GPU_mem   box_loss   seg_loss   cls_loss   dfl_loss  Instances       Size\n"
     ]
    },
    {
     "name": "stderr",
     "output_type": "stream",
     "text": [
      "     12/100         0G      2.181      3.088      1.652      1.227        436        640: 100%|██████████| 11/11 [15:33<00:00, 84.89s/it]\n",
      "                 Class     Images  Instances      Box(P          R      mAP50  mAP50-95)     Mask(P          R      mAP50  mAP50-95): 100%|██████████| 2/2 [00:28<00:00, 14.08s/it]"
     ]
    },
    {
     "name": "stdout",
     "output_type": "stream",
     "text": [
      "                   all         43        826      0.358      0.336      0.259      0.084       0.18      0.132      0.057      0.014\n"
     ]
    },
    {
     "name": "stderr",
     "output_type": "stream",
     "text": [
      "\n"
     ]
    },
    {
     "name": "stdout",
     "output_type": "stream",
     "text": [
      "\n",
      "      Epoch    GPU_mem   box_loss   seg_loss   cls_loss   dfl_loss  Instances       Size\n"
     ]
    },
    {
     "name": "stderr",
     "output_type": "stream",
     "text": [
      "     13/100         0G      2.159      3.043       1.62      1.191        386        640: 100%|██████████| 11/11 [17:39<00:00, 96.29s/it]\n",
      "                 Class     Images  Instances      Box(P          R      mAP50  mAP50-95)     Mask(P          R      mAP50  mAP50-95): 100%|██████████| 2/2 [00:28<00:00, 14.05s/it]"
     ]
    },
    {
     "name": "stdout",
     "output_type": "stream",
     "text": [
      "                   all         43        826       0.24      0.276      0.165     0.0538       0.17       0.14     0.0696     0.0211\n"
     ]
    },
    {
     "name": "stderr",
     "output_type": "stream",
     "text": [
      "\n"
     ]
    },
    {
     "name": "stdout",
     "output_type": "stream",
     "text": [
      "\n",
      "      Epoch    GPU_mem   box_loss   seg_loss   cls_loss   dfl_loss  Instances       Size\n"
     ]
    },
    {
     "name": "stderr",
     "output_type": "stream",
     "text": [
      "     14/100         0G      2.164      2.966      1.545      1.204        457        640: 100%|██████████| 11/11 [17:32<00:00, 95.69s/it] \n",
      "                 Class     Images  Instances      Box(P          R      mAP50  mAP50-95)     Mask(P          R      mAP50  mAP50-95): 100%|██████████| 2/2 [00:29<00:00, 14.51s/it]"
     ]
    },
    {
     "name": "stdout",
     "output_type": "stream",
     "text": [
      "                   all         43        826      0.352      0.326       0.24     0.0756      0.238      0.234      0.131     0.0338\n"
     ]
    },
    {
     "name": "stderr",
     "output_type": "stream",
     "text": [
      "\n"
     ]
    },
    {
     "name": "stdout",
     "output_type": "stream",
     "text": [
      "\n",
      "      Epoch    GPU_mem   box_loss   seg_loss   cls_loss   dfl_loss  Instances       Size\n"
     ]
    },
    {
     "name": "stderr",
     "output_type": "stream",
     "text": [
      "     15/100         0G      2.182      2.968      1.603      1.251        267        640: 100%|██████████| 11/11 [16:41<00:00, 91.01s/it]\n",
      "                 Class     Images  Instances      Box(P          R      mAP50  mAP50-95)     Mask(P          R      mAP50  mAP50-95): 100%|██████████| 2/2 [00:28<00:00, 14.16s/it]"
     ]
    },
    {
     "name": "stdout",
     "output_type": "stream",
     "text": [
      "                   all         43        826      0.431      0.299      0.274      0.101      0.294      0.204      0.161     0.0439\n"
     ]
    },
    {
     "name": "stderr",
     "output_type": "stream",
     "text": [
      "\n"
     ]
    },
    {
     "name": "stdout",
     "output_type": "stream",
     "text": [
      "\n",
      "      Epoch    GPU_mem   box_loss   seg_loss   cls_loss   dfl_loss  Instances       Size\n"
     ]
    },
    {
     "name": "stderr",
     "output_type": "stream",
     "text": [
      "     16/100         0G      2.172      3.007       1.58      1.234        339        640: 100%|██████████| 11/11 [16:15<00:00, 88.68s/it]\n",
      "                 Class     Images  Instances      Box(P          R      mAP50  mAP50-95)     Mask(P          R      mAP50  mAP50-95): 100%|██████████| 2/2 [00:28<00:00, 14.19s/it]"
     ]
    },
    {
     "name": "stdout",
     "output_type": "stream",
     "text": [
      "                   all         43        826      0.523      0.437      0.424      0.174      0.422      0.329      0.289     0.0887\n"
     ]
    },
    {
     "name": "stderr",
     "output_type": "stream",
     "text": [
      "\n"
     ]
    },
    {
     "name": "stdout",
     "output_type": "stream",
     "text": [
      "\n",
      "      Epoch    GPU_mem   box_loss   seg_loss   cls_loss   dfl_loss  Instances       Size\n"
     ]
    },
    {
     "name": "stderr",
     "output_type": "stream",
     "text": [
      "     17/100         0G      2.067      2.829       1.48      1.178        620        640: 100%|██████████| 11/11 [17:05<00:00, 93.26s/it]\n",
      "                 Class     Images  Instances      Box(P          R      mAP50  mAP50-95)     Mask(P          R      mAP50  mAP50-95): 100%|██████████| 2/2 [00:28<00:00, 14.02s/it]"
     ]
    },
    {
     "name": "stdout",
     "output_type": "stream",
     "text": [
      "                   all         43        826       0.45      0.289      0.282       0.11      0.361      0.225      0.196     0.0616\n"
     ]
    },
    {
     "name": "stderr",
     "output_type": "stream",
     "text": [
      "\n"
     ]
    },
    {
     "name": "stdout",
     "output_type": "stream",
     "text": [
      "\n",
      "      Epoch    GPU_mem   box_loss   seg_loss   cls_loss   dfl_loss  Instances       Size\n"
     ]
    },
    {
     "name": "stderr",
     "output_type": "stream",
     "text": [
      "     18/100         0G      2.102      2.924      1.537      1.183        187        640: 100%|██████████| 11/11 [16:03<00:00, 87.56s/it]\n",
      "                 Class     Images  Instances      Box(P          R      mAP50  mAP50-95)     Mask(P          R      mAP50  mAP50-95): 100%|██████████| 2/2 [00:28<00:00, 14.28s/it]"
     ]
    },
    {
     "name": "stdout",
     "output_type": "stream",
     "text": [
      "                   all         43        826       0.52      0.378      0.364      0.147      0.429      0.277      0.254     0.0815\n"
     ]
    },
    {
     "name": "stderr",
     "output_type": "stream",
     "text": [
      "\n"
     ]
    },
    {
     "name": "stdout",
     "output_type": "stream",
     "text": [
      "\n",
      "      Epoch    GPU_mem   box_loss   seg_loss   cls_loss   dfl_loss  Instances       Size\n"
     ]
    },
    {
     "name": "stderr",
     "output_type": "stream",
     "text": [
      "     19/100         0G      2.129      2.899      1.509      1.182        309        640: 100%|██████████| 11/11 [15:50<00:00, 86.40s/it]\n",
      "                 Class     Images  Instances      Box(P          R      mAP50  mAP50-95)     Mask(P          R      mAP50  mAP50-95): 100%|██████████| 2/2 [00:41<00:00, 20.53s/it]"
     ]
    },
    {
     "name": "stdout",
     "output_type": "stream",
     "text": [
      "                   all         43        826      0.424      0.389      0.319      0.111      0.325      0.304      0.193      0.056\n"
     ]
    },
    {
     "name": "stderr",
     "output_type": "stream",
     "text": [
      "\n"
     ]
    },
    {
     "name": "stdout",
     "output_type": "stream",
     "text": [
      "\n",
      "      Epoch    GPU_mem   box_loss   seg_loss   cls_loss   dfl_loss  Instances       Size\n"
     ]
    },
    {
     "name": "stderr",
     "output_type": "stream",
     "text": [
      "     20/100         0G      2.068      2.847      1.481      1.177        378        640: 100%|██████████| 11/11 [17:32<00:00, 95.66s/it]\n",
      "                 Class     Images  Instances      Box(P          R      mAP50  mAP50-95)     Mask(P          R      mAP50  mAP50-95): 100%|██████████| 2/2 [00:35<00:00, 17.78s/it]"
     ]
    },
    {
     "name": "stdout",
     "output_type": "stream",
     "text": [
      "                   all         43        826      0.458      0.346      0.317      0.127      0.377      0.245      0.216     0.0644\n"
     ]
    },
    {
     "name": "stderr",
     "output_type": "stream",
     "text": [
      "\n"
     ]
    },
    {
     "name": "stdout",
     "output_type": "stream",
     "text": [
      "\n",
      "      Epoch    GPU_mem   box_loss   seg_loss   cls_loss   dfl_loss  Instances       Size\n"
     ]
    },
    {
     "name": "stderr",
     "output_type": "stream",
     "text": [
      "     21/100         0G      2.101      2.935        1.5       1.19        325        640: 100%|██████████| 11/11 [15:39<00:00, 85.39s/it]\n",
      "                 Class     Images  Instances      Box(P          R      mAP50  mAP50-95)     Mask(P          R      mAP50  mAP50-95): 100%|██████████| 2/2 [00:29<00:00, 14.61s/it]"
     ]
    },
    {
     "name": "stdout",
     "output_type": "stream",
     "text": [
      "                   all         43        826      0.466      0.293      0.297      0.117      0.332      0.215      0.193     0.0531\n"
     ]
    },
    {
     "name": "stderr",
     "output_type": "stream",
     "text": [
      "\n"
     ]
    },
    {
     "name": "stdout",
     "output_type": "stream",
     "text": [
      "\n",
      "      Epoch    GPU_mem   box_loss   seg_loss   cls_loss   dfl_loss  Instances       Size\n"
     ]
    },
    {
     "name": "stderr",
     "output_type": "stream",
     "text": [
      "     22/100         0G      2.081       2.95      1.494      1.195        355        640: 100%|██████████| 11/11 [16:08<00:00, 88.01s/it]\n",
      "                 Class     Images  Instances      Box(P          R      mAP50  mAP50-95)     Mask(P          R      mAP50  mAP50-95): 100%|██████████| 2/2 [00:29<00:00, 14.99s/it]"
     ]
    },
    {
     "name": "stdout",
     "output_type": "stream",
     "text": [
      "                   all         43        826       0.53      0.416      0.401      0.144      0.392      0.293      0.233     0.0604\n"
     ]
    },
    {
     "name": "stderr",
     "output_type": "stream",
     "text": [
      "\n"
     ]
    },
    {
     "name": "stdout",
     "output_type": "stream",
     "text": [
      "\n",
      "      Epoch    GPU_mem   box_loss   seg_loss   cls_loss   dfl_loss  Instances       Size\n"
     ]
    },
    {
     "name": "stderr",
     "output_type": "stream",
     "text": [
      "     23/100         0G       2.05      2.832      1.476      1.185        274        640: 100%|██████████| 11/11 [15:59<00:00, 87.23s/it]\n",
      "                 Class     Images  Instances      Box(P          R      mAP50  mAP50-95)     Mask(P          R      mAP50  mAP50-95): 100%|██████████| 2/2 [00:31<00:00, 15.57s/it]"
     ]
    },
    {
     "name": "stdout",
     "output_type": "stream",
     "text": [
      "                   all         43        826      0.464      0.379      0.344      0.118       0.32      0.245      0.167     0.0408\n"
     ]
    },
    {
     "name": "stderr",
     "output_type": "stream",
     "text": [
      "\n"
     ]
    },
    {
     "name": "stdout",
     "output_type": "stream",
     "text": [
      "\n",
      "      Epoch    GPU_mem   box_loss   seg_loss   cls_loss   dfl_loss  Instances       Size\n"
     ]
    },
    {
     "name": "stderr",
     "output_type": "stream",
     "text": [
      "     24/100         0G      2.042      2.815      1.452      1.159        349        640: 100%|██████████| 11/11 [16:31<00:00, 90.13s/it]\n",
      "                 Class     Images  Instances      Box(P          R      mAP50  mAP50-95)     Mask(P          R      mAP50  mAP50-95): 100%|██████████| 2/2 [00:29<00:00, 14.55s/it]"
     ]
    },
    {
     "name": "stdout",
     "output_type": "stream",
     "text": [
      "                   all         43        826      0.288      0.236       0.17     0.0504      0.197      0.123     0.0765     0.0167\n"
     ]
    },
    {
     "name": "stderr",
     "output_type": "stream",
     "text": [
      "\n"
     ]
    },
    {
     "name": "stdout",
     "output_type": "stream",
     "text": [
      "\n",
      "      Epoch    GPU_mem   box_loss   seg_loss   cls_loss   dfl_loss  Instances       Size\n"
     ]
    },
    {
     "name": "stderr",
     "output_type": "stream",
     "text": [
      "     25/100         0G      2.019      2.843      1.452      1.163        270        640: 100%|██████████| 11/11 [15:27<00:00, 84.34s/it]\n",
      "                 Class     Images  Instances      Box(P          R      mAP50  mAP50-95)     Mask(P          R      mAP50  mAP50-95): 100%|██████████| 2/2 [00:29<00:00, 14.57s/it]"
     ]
    },
    {
     "name": "stdout",
     "output_type": "stream",
     "text": [
      "                   all         43        826      0.419      0.361       0.32      0.118      0.343      0.219      0.183     0.0546\n"
     ]
    },
    {
     "name": "stderr",
     "output_type": "stream",
     "text": [
      "\n"
     ]
    },
    {
     "name": "stdout",
     "output_type": "stream",
     "text": [
      "\n",
      "      Epoch    GPU_mem   box_loss   seg_loss   cls_loss   dfl_loss  Instances       Size\n"
     ]
    },
    {
     "name": "stderr",
     "output_type": "stream",
     "text": [
      "     26/100         0G      2.068      2.857      1.458      1.159        223        640: 100%|██████████| 11/11 [16:45<00:00, 91.44s/it] \n",
      "                 Class     Images  Instances      Box(P          R      mAP50  mAP50-95)     Mask(P          R      mAP50  mAP50-95): 100%|██████████| 2/2 [00:29<00:00, 14.54s/it]"
     ]
    },
    {
     "name": "stdout",
     "output_type": "stream",
     "text": [
      "                   all         43        826       0.41      0.329      0.287      0.104      0.288      0.264      0.179     0.0471\n"
     ]
    },
    {
     "name": "stderr",
     "output_type": "stream",
     "text": [
      "\n"
     ]
    },
    {
     "name": "stdout",
     "output_type": "stream",
     "text": [
      "\n",
      "      Epoch    GPU_mem   box_loss   seg_loss   cls_loss   dfl_loss  Instances       Size\n"
     ]
    },
    {
     "name": "stderr",
     "output_type": "stream",
     "text": [
      "     27/100         0G      2.139      2.924      1.473       1.17        210        640: 100%|██████████| 11/11 [16:53<00:00, 92.12s/it]\n",
      "                 Class     Images  Instances      Box(P          R      mAP50  mAP50-95)     Mask(P          R      mAP50  mAP50-95): 100%|██████████| 2/2 [00:28<00:00, 14.33s/it]"
     ]
    },
    {
     "name": "stdout",
     "output_type": "stream",
     "text": [
      "                   all         43        826      0.548      0.426      0.439      0.194      0.455      0.355      0.326      0.108\n"
     ]
    },
    {
     "name": "stderr",
     "output_type": "stream",
     "text": [
      "\n"
     ]
    },
    {
     "name": "stdout",
     "output_type": "stream",
     "text": [
      "\n",
      "      Epoch    GPU_mem   box_loss   seg_loss   cls_loss   dfl_loss  Instances       Size\n"
     ]
    },
    {
     "name": "stderr",
     "output_type": "stream",
     "text": [
      "     28/100         0G      2.136      2.946      1.479      1.161        421        640: 100%|██████████| 11/11 [17:19<00:00, 94.52s/it] \n",
      "                 Class     Images  Instances      Box(P          R      mAP50  mAP50-95)     Mask(P          R      mAP50  mAP50-95): 100%|██████████| 2/2 [00:29<00:00, 14.84s/it]"
     ]
    },
    {
     "name": "stdout",
     "output_type": "stream",
     "text": [
      "                   all         43        826      0.428      0.346      0.315      0.111      0.342      0.248      0.192     0.0537\n"
     ]
    },
    {
     "name": "stderr",
     "output_type": "stream",
     "text": [
      "\n"
     ]
    },
    {
     "name": "stdout",
     "output_type": "stream",
     "text": [
      "\n",
      "      Epoch    GPU_mem   box_loss   seg_loss   cls_loss   dfl_loss  Instances       Size\n"
     ]
    },
    {
     "name": "stderr",
     "output_type": "stream",
     "text": [
      "     29/100         0G      2.112       2.86        1.5      1.165        266        640: 100%|██████████| 11/11 [15:53<00:00, 86.71s/it]\n",
      "                 Class     Images  Instances      Box(P          R      mAP50  mAP50-95)     Mask(P          R      mAP50  mAP50-95): 100%|██████████| 2/2 [00:28<00:00, 14.36s/it]"
     ]
    },
    {
     "name": "stdout",
     "output_type": "stream",
     "text": [
      "                   all         43        826      0.542      0.397      0.401      0.167       0.46      0.314      0.298      0.101\n"
     ]
    },
    {
     "name": "stderr",
     "output_type": "stream",
     "text": [
      "\n"
     ]
    },
    {
     "name": "stdout",
     "output_type": "stream",
     "text": [
      "\n",
      "      Epoch    GPU_mem   box_loss   seg_loss   cls_loss   dfl_loss  Instances       Size\n"
     ]
    },
    {
     "name": "stderr",
     "output_type": "stream",
     "text": [
      "     30/100         0G      2.066      2.883      1.518      1.188        267        640: 100%|██████████| 11/11 [16:16<00:00, 88.76s/it]\n",
      "                 Class     Images  Instances      Box(P          R      mAP50  mAP50-95)     Mask(P          R      mAP50  mAP50-95): 100%|██████████| 2/2 [00:29<00:00, 14.52s/it]"
     ]
    },
    {
     "name": "stdout",
     "output_type": "stream",
     "text": [
      "                   all         43        826      0.595      0.435      0.457      0.196        0.5      0.346      0.339      0.111\n"
     ]
    },
    {
     "name": "stderr",
     "output_type": "stream",
     "text": [
      "\n"
     ]
    },
    {
     "name": "stdout",
     "output_type": "stream",
     "text": [
      "\n",
      "      Epoch    GPU_mem   box_loss   seg_loss   cls_loss   dfl_loss  Instances       Size\n"
     ]
    },
    {
     "name": "stderr",
     "output_type": "stream",
     "text": [
      "     31/100         0G      2.034       2.82      1.432      1.153        259        640: 100%|██████████| 11/11 [16:28<00:00, 89.83s/it] \n",
      "                 Class     Images  Instances      Box(P          R      mAP50  mAP50-95)     Mask(P          R      mAP50  mAP50-95): 100%|██████████| 2/2 [00:29<00:00, 14.65s/it]"
     ]
    },
    {
     "name": "stdout",
     "output_type": "stream",
     "text": [
      "                   all         43        826      0.552       0.45      0.434      0.167      0.483      0.397      0.342      0.106\n"
     ]
    },
    {
     "name": "stderr",
     "output_type": "stream",
     "text": [
      "\n"
     ]
    },
    {
     "name": "stdout",
     "output_type": "stream",
     "text": [
      "\n",
      "      Epoch    GPU_mem   box_loss   seg_loss   cls_loss   dfl_loss  Instances       Size\n"
     ]
    },
    {
     "name": "stderr",
     "output_type": "stream",
     "text": [
      "     32/100         0G      2.048      2.818      1.478      1.174        280        640: 100%|██████████| 11/11 [15:44<00:00, 85.85s/it]\n",
      "                 Class     Images  Instances      Box(P          R      mAP50  mAP50-95)     Mask(P          R      mAP50  mAP50-95): 100%|██████████| 2/2 [00:28<00:00, 14.34s/it]"
     ]
    },
    {
     "name": "stdout",
     "output_type": "stream",
     "text": [
      "                   all         43        826      0.602      0.453      0.492       0.22      0.576      0.364      0.382      0.125\n"
     ]
    },
    {
     "name": "stderr",
     "output_type": "stream",
     "text": [
      "\n"
     ]
    },
    {
     "name": "stdout",
     "output_type": "stream",
     "text": [
      "\n",
      "      Epoch    GPU_mem   box_loss   seg_loss   cls_loss   dfl_loss  Instances       Size\n"
     ]
    },
    {
     "name": "stderr",
     "output_type": "stream",
     "text": [
      "     33/100         0G      2.055      2.857      1.432      1.167        264        640: 100%|██████████| 11/11 [16:40<00:00, 90.93s/it]\n",
      "                 Class     Images  Instances      Box(P          R      mAP50  mAP50-95)     Mask(P          R      mAP50  mAP50-95): 100%|██████████| 2/2 [00:28<00:00, 14.27s/it]"
     ]
    },
    {
     "name": "stdout",
     "output_type": "stream",
     "text": [
      "                   all         43        826      0.593      0.473      0.493       0.23      0.527      0.371      0.378       0.14\n"
     ]
    },
    {
     "name": "stderr",
     "output_type": "stream",
     "text": [
      "\n"
     ]
    },
    {
     "name": "stdout",
     "output_type": "stream",
     "text": [
      "\n",
      "      Epoch    GPU_mem   box_loss   seg_loss   cls_loss   dfl_loss  Instances       Size\n"
     ]
    },
    {
     "name": "stderr",
     "output_type": "stream",
     "text": [
      "     34/100         0G      2.045      2.863      1.448      1.161        243        640: 100%|██████████| 11/11 [18:31<00:00, 101.01s/it]\n",
      "                 Class     Images  Instances      Box(P          R      mAP50  mAP50-95)     Mask(P          R      mAP50  mAP50-95): 100%|██████████| 2/2 [00:29<00:00, 14.79s/it]"
     ]
    },
    {
     "name": "stdout",
     "output_type": "stream",
     "text": [
      "                   all         43        826      0.576      0.472      0.469      0.204      0.502      0.412      0.374      0.128\n"
     ]
    },
    {
     "name": "stderr",
     "output_type": "stream",
     "text": [
      "\n"
     ]
    },
    {
     "name": "stdout",
     "output_type": "stream",
     "text": [
      "\n",
      "      Epoch    GPU_mem   box_loss   seg_loss   cls_loss   dfl_loss  Instances       Size\n"
     ]
    },
    {
     "name": "stderr",
     "output_type": "stream",
     "text": [
      "     35/100         0G      2.021      2.832      1.435      1.156        264        640: 100%|██████████| 11/11 [16:56<00:00, 92.40s/it]\n",
      "                 Class     Images  Instances      Box(P          R      mAP50  mAP50-95)     Mask(P          R      mAP50  mAP50-95): 100%|██████████| 2/2 [00:28<00:00, 14.49s/it]"
     ]
    },
    {
     "name": "stdout",
     "output_type": "stream",
     "text": [
      "                   all         43        826      0.477      0.403      0.381      0.151       0.45      0.252      0.246     0.0767\n"
     ]
    },
    {
     "name": "stderr",
     "output_type": "stream",
     "text": [
      "\n"
     ]
    },
    {
     "name": "stdout",
     "output_type": "stream",
     "text": [
      "\n",
      "      Epoch    GPU_mem   box_loss   seg_loss   cls_loss   dfl_loss  Instances       Size\n"
     ]
    },
    {
     "name": "stderr",
     "output_type": "stream",
     "text": [
      "     36/100         0G      2.065      2.913      1.469      1.181        248        640: 100%|██████████| 11/11 [16:22<00:00, 89.33s/it]\n",
      "                 Class     Images  Instances      Box(P          R      mAP50  mAP50-95)     Mask(P          R      mAP50  mAP50-95): 100%|██████████| 2/2 [00:29<00:00, 14.60s/it]"
     ]
    },
    {
     "name": "stdout",
     "output_type": "stream",
     "text": [
      "                   all         43        826      0.591      0.527      0.519      0.237      0.545      0.412      0.421      0.144\n"
     ]
    },
    {
     "name": "stderr",
     "output_type": "stream",
     "text": [
      "\n"
     ]
    },
    {
     "name": "stdout",
     "output_type": "stream",
     "text": [
      "\n",
      "      Epoch    GPU_mem   box_loss   seg_loss   cls_loss   dfl_loss  Instances       Size\n"
     ]
    },
    {
     "name": "stderr",
     "output_type": "stream",
     "text": [
      "     37/100         0G       2.11      2.889      1.429       1.17        485        640: 100%|██████████| 11/11 [16:37<00:00, 90.64s/it]\n",
      "                 Class     Images  Instances      Box(P          R      mAP50  mAP50-95)     Mask(P          R      mAP50  mAP50-95): 100%|██████████| 2/2 [00:31<00:00, 15.65s/it]"
     ]
    },
    {
     "name": "stdout",
     "output_type": "stream",
     "text": [
      "                   all         43        826      0.493      0.346      0.345      0.122       0.36      0.258      0.214     0.0554\n"
     ]
    },
    {
     "name": "stderr",
     "output_type": "stream",
     "text": [
      "\n"
     ]
    },
    {
     "name": "stdout",
     "output_type": "stream",
     "text": [
      "\n",
      "      Epoch    GPU_mem   box_loss   seg_loss   cls_loss   dfl_loss  Instances       Size\n"
     ]
    },
    {
     "name": "stderr",
     "output_type": "stream",
     "text": [
      "     38/100         0G      2.036      2.832       1.41      1.163        361        640: 100%|██████████| 11/11 [16:46<00:00, 91.54s/it]\n",
      "                 Class     Images  Instances      Box(P          R      mAP50  mAP50-95)     Mask(P          R      mAP50  mAP50-95): 100%|██████████| 2/2 [00:29<00:00, 14.61s/it]"
     ]
    },
    {
     "name": "stdout",
     "output_type": "stream",
     "text": [
      "                   all         43        826      0.517      0.408      0.406      0.162      0.436      0.305      0.274     0.0825\n"
     ]
    },
    {
     "name": "stderr",
     "output_type": "stream",
     "text": [
      "\n"
     ]
    },
    {
     "name": "stdout",
     "output_type": "stream",
     "text": [
      "\n",
      "      Epoch    GPU_mem   box_loss   seg_loss   cls_loss   dfl_loss  Instances       Size\n"
     ]
    },
    {
     "name": "stderr",
     "output_type": "stream",
     "text": [
      "     39/100         0G       2.04      2.876      1.434      1.158        404        640: 100%|██████████| 11/11 [16:17<00:00, 88.85s/it]\n",
      "                 Class     Images  Instances      Box(P          R      mAP50  mAP50-95)     Mask(P          R      mAP50  mAP50-95): 100%|██████████| 2/2 [00:27<00:00, 13.91s/it]"
     ]
    },
    {
     "name": "stdout",
     "output_type": "stream",
     "text": [
      "                   all         43        826      0.392      0.242      0.226     0.0783      0.236      0.137      0.117     0.0305\n"
     ]
    },
    {
     "name": "stderr",
     "output_type": "stream",
     "text": [
      "\n"
     ]
    },
    {
     "name": "stdout",
     "output_type": "stream",
     "text": [
      "\n",
      "      Epoch    GPU_mem   box_loss   seg_loss   cls_loss   dfl_loss  Instances       Size\n"
     ]
    },
    {
     "name": "stderr",
     "output_type": "stream",
     "text": [
      "     40/100         0G      2.076      2.897      1.455      1.167        217        640: 100%|██████████| 11/11 [16:05<00:00, 87.78s/it]\n",
      "                 Class     Images  Instances      Box(P          R      mAP50  mAP50-95)     Mask(P          R      mAP50  mAP50-95): 100%|██████████| 2/2 [00:29<00:00, 14.77s/it]"
     ]
    },
    {
     "name": "stdout",
     "output_type": "stream",
     "text": [
      "                   all         43        826      0.607       0.46      0.491       0.22      0.495      0.356      0.318      0.106\n"
     ]
    },
    {
     "name": "stderr",
     "output_type": "stream",
     "text": [
      "\n"
     ]
    },
    {
     "name": "stdout",
     "output_type": "stream",
     "text": [
      "\n",
      "      Epoch    GPU_mem   box_loss   seg_loss   cls_loss   dfl_loss  Instances       Size\n"
     ]
    },
    {
     "name": "stderr",
     "output_type": "stream",
     "text": [
      "     41/100         0G      2.025      2.854      1.396      1.157        262        640: 100%|██████████| 11/11 [15:20<00:00, 83.66s/it]\n",
      "                 Class     Images  Instances      Box(P          R      mAP50  mAP50-95)     Mask(P          R      mAP50  mAP50-95): 100%|██████████| 2/2 [00:29<00:00, 14.59s/it]"
     ]
    },
    {
     "name": "stdout",
     "output_type": "stream",
     "text": [
      "                   all         43        826       0.52      0.389      0.384      0.146      0.386      0.282      0.234      0.063\n"
     ]
    },
    {
     "name": "stderr",
     "output_type": "stream",
     "text": [
      "\n"
     ]
    },
    {
     "name": "stdout",
     "output_type": "stream",
     "text": [
      "\n",
      "      Epoch    GPU_mem   box_loss   seg_loss   cls_loss   dfl_loss  Instances       Size\n"
     ]
    },
    {
     "name": "stderr",
     "output_type": "stream",
     "text": [
      "     42/100         0G      2.023       2.75      1.396      1.145        311        640: 100%|██████████| 11/11 [16:19<00:00, 89.08s/it]\n",
      "                 Class     Images  Instances      Box(P          R      mAP50  mAP50-95)     Mask(P          R      mAP50  mAP50-95): 100%|██████████| 2/2 [00:29<00:00, 14.68s/it]"
     ]
    },
    {
     "name": "stdout",
     "output_type": "stream",
     "text": [
      "                   all         43        826      0.531      0.482      0.487      0.209      0.516      0.398      0.403      0.141\n"
     ]
    },
    {
     "name": "stderr",
     "output_type": "stream",
     "text": [
      "\n"
     ]
    },
    {
     "name": "stdout",
     "output_type": "stream",
     "text": [
      "\n",
      "      Epoch    GPU_mem   box_loss   seg_loss   cls_loss   dfl_loss  Instances       Size\n"
     ]
    },
    {
     "name": "stderr",
     "output_type": "stream",
     "text": [
      "     43/100         0G      2.012      2.832      1.449      1.181        210        640: 100%|██████████| 11/11 [15:43<00:00, 85.82s/it]\n",
      "                 Class     Images  Instances      Box(P          R      mAP50  mAP50-95)     Mask(P          R      mAP50  mAP50-95): 100%|██████████| 2/2 [00:29<00:00, 14.60s/it]"
     ]
    },
    {
     "name": "stdout",
     "output_type": "stream",
     "text": [
      "                   all         43        826      0.625      0.481      0.524      0.236      0.501      0.366       0.36       0.12\n"
     ]
    },
    {
     "name": "stderr",
     "output_type": "stream",
     "text": [
      "\n"
     ]
    },
    {
     "name": "stdout",
     "output_type": "stream",
     "text": [
      "\n",
      "      Epoch    GPU_mem   box_loss   seg_loss   cls_loss   dfl_loss  Instances       Size\n"
     ]
    },
    {
     "name": "stderr",
     "output_type": "stream",
     "text": [
      "     44/100         0G      1.999      2.775       1.42      1.175        294        640: 100%|██████████| 11/11 [16:16<00:00, 88.79s/it]\n",
      "                 Class     Images  Instances      Box(P          R      mAP50  mAP50-95)     Mask(P          R      mAP50  mAP50-95): 100%|██████████| 2/2 [00:28<00:00, 14.47s/it]"
     ]
    },
    {
     "name": "stdout",
     "output_type": "stream",
     "text": [
      "                   all         43        826      0.525      0.469      0.454      0.179      0.496      0.304      0.303     0.0899\n"
     ]
    },
    {
     "name": "stderr",
     "output_type": "stream",
     "text": [
      "\n"
     ]
    },
    {
     "name": "stdout",
     "output_type": "stream",
     "text": [
      "\n",
      "      Epoch    GPU_mem   box_loss   seg_loss   cls_loss   dfl_loss  Instances       Size\n"
     ]
    },
    {
     "name": "stderr",
     "output_type": "stream",
     "text": [
      "     45/100         0G      1.991      2.763      1.381      1.148        315        640: 100%|██████████| 11/11 [16:12<00:00, 88.45s/it]\n",
      "                 Class     Images  Instances      Box(P          R      mAP50  mAP50-95)     Mask(P          R      mAP50  mAP50-95): 100%|██████████| 2/2 [00:30<00:00, 15.24s/it]"
     ]
    },
    {
     "name": "stdout",
     "output_type": "stream",
     "text": [
      "                   all         43        826      0.508      0.458      0.453      0.188      0.404       0.36      0.312     0.0962\n"
     ]
    },
    {
     "name": "stderr",
     "output_type": "stream",
     "text": [
      "\n"
     ]
    },
    {
     "name": "stdout",
     "output_type": "stream",
     "text": [
      "\n",
      "      Epoch    GPU_mem   box_loss   seg_loss   cls_loss   dfl_loss  Instances       Size\n"
     ]
    },
    {
     "name": "stderr",
     "output_type": "stream",
     "text": [
      "     46/100         0G      1.925        2.7      1.384      1.134        234        640: 100%|██████████| 11/11 [16:11<00:00, 88.31s/it]\n",
      "                 Class     Images  Instances      Box(P          R      mAP50  mAP50-95)     Mask(P          R      mAP50  mAP50-95): 100%|██████████| 2/2 [00:29<00:00, 14.51s/it]"
     ]
    },
    {
     "name": "stdout",
     "output_type": "stream",
     "text": [
      "                   all         43        826      0.531      0.408      0.416      0.195      0.554      0.348      0.369      0.132\n"
     ]
    },
    {
     "name": "stderr",
     "output_type": "stream",
     "text": [
      "\n"
     ]
    },
    {
     "name": "stdout",
     "output_type": "stream",
     "text": [
      "\n",
      "      Epoch    GPU_mem   box_loss   seg_loss   cls_loss   dfl_loss  Instances       Size\n"
     ]
    },
    {
     "name": "stderr",
     "output_type": "stream",
     "text": [
      "     47/100         0G       1.95      2.731      1.397      1.144        154        640: 100%|██████████| 11/11 [15:44<00:00, 85.85s/it]\n",
      "                 Class     Images  Instances      Box(P          R      mAP50  mAP50-95)     Mask(P          R      mAP50  mAP50-95): 100%|██████████| 2/2 [00:28<00:00, 14.43s/it]"
     ]
    },
    {
     "name": "stdout",
     "output_type": "stream",
     "text": [
      "                   all         43        826      0.609      0.449      0.481      0.215      0.627      0.383      0.431      0.151\n"
     ]
    },
    {
     "name": "stderr",
     "output_type": "stream",
     "text": [
      "\n"
     ]
    },
    {
     "name": "stdout",
     "output_type": "stream",
     "text": [
      "\n",
      "      Epoch    GPU_mem   box_loss   seg_loss   cls_loss   dfl_loss  Instances       Size\n"
     ]
    },
    {
     "name": "stderr",
     "output_type": "stream",
     "text": [
      "     48/100         0G      1.965       2.72       1.37       1.16        309        640: 100%|██████████| 11/11 [15:15<00:00, 83.23s/it]\n",
      "                 Class     Images  Instances      Box(P          R      mAP50  mAP50-95)     Mask(P          R      mAP50  mAP50-95): 100%|██████████| 2/2 [00:29<00:00, 14.55s/it]"
     ]
    },
    {
     "name": "stdout",
     "output_type": "stream",
     "text": [
      "                   all         43        826      0.565      0.459      0.471      0.191      0.522      0.339      0.345      0.108\n"
     ]
    },
    {
     "name": "stderr",
     "output_type": "stream",
     "text": [
      "\n"
     ]
    },
    {
     "name": "stdout",
     "output_type": "stream",
     "text": [
      "\n",
      "      Epoch    GPU_mem   box_loss   seg_loss   cls_loss   dfl_loss  Instances       Size\n"
     ]
    },
    {
     "name": "stderr",
     "output_type": "stream",
     "text": [
      "     49/100         0G       1.98      2.746      1.382      1.159        384        640: 100%|██████████| 11/11 [16:09<00:00, 88.15s/it]\n",
      "                 Class     Images  Instances      Box(P          R      mAP50  mAP50-95)     Mask(P          R      mAP50  mAP50-95): 100%|██████████| 2/2 [00:31<00:00, 15.97s/it]"
     ]
    },
    {
     "name": "stdout",
     "output_type": "stream",
     "text": [
      "                   all         43        826      0.602      0.479      0.494      0.211       0.47      0.398      0.354      0.119\n"
     ]
    },
    {
     "name": "stderr",
     "output_type": "stream",
     "text": [
      "\n"
     ]
    },
    {
     "name": "stdout",
     "output_type": "stream",
     "text": [
      "\n",
      "      Epoch    GPU_mem   box_loss   seg_loss   cls_loss   dfl_loss  Instances       Size\n"
     ]
    },
    {
     "name": "stderr",
     "output_type": "stream",
     "text": [
      "     50/100         0G      1.901      2.641      1.354      1.118        352        640: 100%|██████████| 11/11 [14:40<00:00, 80.00s/it]\n",
      "                 Class     Images  Instances      Box(P          R      mAP50  mAP50-95)     Mask(P          R      mAP50  mAP50-95): 100%|██████████| 2/2 [00:29<00:00, 14.94s/it]"
     ]
    },
    {
     "name": "stdout",
     "output_type": "stream",
     "text": [
      "                   all         43        826      0.606      0.485      0.516      0.236      0.545      0.373      0.374      0.128\n"
     ]
    },
    {
     "name": "stderr",
     "output_type": "stream",
     "text": [
      "\n"
     ]
    },
    {
     "name": "stdout",
     "output_type": "stream",
     "text": [
      "\n",
      "      Epoch    GPU_mem   box_loss   seg_loss   cls_loss   dfl_loss  Instances       Size\n"
     ]
    },
    {
     "name": "stderr",
     "output_type": "stream",
     "text": [
      "     51/100         0G      1.969      2.799      1.352      1.136        208        640: 100%|██████████| 11/11 [16:22<00:00, 89.34s/it]\n",
      "                 Class     Images  Instances      Box(P          R      mAP50  mAP50-95)     Mask(P          R      mAP50  mAP50-95): 100%|██████████| 2/2 [00:29<00:00, 14.70s/it]"
     ]
    },
    {
     "name": "stdout",
     "output_type": "stream",
     "text": [
      "                   all         43        826      0.557      0.483       0.48      0.202      0.475      0.356      0.322      0.103\n"
     ]
    },
    {
     "name": "stderr",
     "output_type": "stream",
     "text": [
      "\n"
     ]
    },
    {
     "name": "stdout",
     "output_type": "stream",
     "text": [
      "\n",
      "      Epoch    GPU_mem   box_loss   seg_loss   cls_loss   dfl_loss  Instances       Size\n"
     ]
    },
    {
     "name": "stderr",
     "output_type": "stream",
     "text": [
      "     52/100         0G      1.915      2.696      1.363      1.134        269        640: 100%|██████████| 11/11 [15:26<00:00, 84.23s/it]\n",
      "                 Class     Images  Instances      Box(P          R      mAP50  mAP50-95)     Mask(P          R      mAP50  mAP50-95): 100%|██████████| 2/2 [00:29<00:00, 14.53s/it]"
     ]
    },
    {
     "name": "stdout",
     "output_type": "stream",
     "text": [
      "                   all         43        826      0.651      0.493      0.528      0.232      0.524      0.368      0.359      0.128\n"
     ]
    },
    {
     "name": "stderr",
     "output_type": "stream",
     "text": [
      "\n"
     ]
    },
    {
     "name": "stdout",
     "output_type": "stream",
     "text": [
      "\n",
      "      Epoch    GPU_mem   box_loss   seg_loss   cls_loss   dfl_loss  Instances       Size\n"
     ]
    },
    {
     "name": "stderr",
     "output_type": "stream",
     "text": [
      "     53/100         0G      1.958      2.705       1.35       1.14        357        640: 100%|██████████| 11/11 [15:10<00:00, 82.75s/it]\n",
      "                 Class     Images  Instances      Box(P          R      mAP50  mAP50-95)     Mask(P          R      mAP50  mAP50-95): 100%|██████████| 2/2 [00:30<00:00, 15.43s/it]"
     ]
    },
    {
     "name": "stdout",
     "output_type": "stream",
     "text": [
      "                   all         43        826      0.601      0.495      0.509      0.218      0.515      0.362      0.356      0.112\n"
     ]
    },
    {
     "name": "stderr",
     "output_type": "stream",
     "text": [
      "\n"
     ]
    },
    {
     "name": "stdout",
     "output_type": "stream",
     "text": [
      "\n",
      "      Epoch    GPU_mem   box_loss   seg_loss   cls_loss   dfl_loss  Instances       Size\n"
     ]
    },
    {
     "name": "stderr",
     "output_type": "stream",
     "text": [
      "     54/100         0G       1.97      2.684      1.365      1.132        255        640: 100%|██████████| 11/11 [16:26<00:00, 89.71s/it]\n",
      "                 Class     Images  Instances      Box(P          R      mAP50  mAP50-95)     Mask(P          R      mAP50  mAP50-95): 100%|██████████| 2/2 [00:30<00:00, 15.01s/it]"
     ]
    },
    {
     "name": "stdout",
     "output_type": "stream",
     "text": [
      "                   all         43        826       0.58      0.496      0.494      0.214      0.501      0.393      0.372      0.115\n"
     ]
    },
    {
     "name": "stderr",
     "output_type": "stream",
     "text": [
      "\n"
     ]
    },
    {
     "name": "stdout",
     "output_type": "stream",
     "text": [
      "\n",
      "      Epoch    GPU_mem   box_loss   seg_loss   cls_loss   dfl_loss  Instances       Size\n"
     ]
    },
    {
     "name": "stderr",
     "output_type": "stream",
     "text": [
      "     55/100         0G       1.94      2.687      1.326      1.133        285        640: 100%|██████████| 11/11 [15:06<00:00, 82.43s/it]\n",
      "                 Class     Images  Instances      Box(P          R      mAP50  mAP50-95)     Mask(P          R      mAP50  mAP50-95): 100%|██████████| 2/2 [00:28<00:00, 14.38s/it]"
     ]
    },
    {
     "name": "stdout",
     "output_type": "stream",
     "text": [
      "                   all         43        826       0.62      0.521      0.541      0.239      0.528      0.383      0.384      0.119\n"
     ]
    },
    {
     "name": "stderr",
     "output_type": "stream",
     "text": [
      "\n"
     ]
    },
    {
     "name": "stdout",
     "output_type": "stream",
     "text": [
      "\n",
      "      Epoch    GPU_mem   box_loss   seg_loss   cls_loss   dfl_loss  Instances       Size\n"
     ]
    },
    {
     "name": "stderr",
     "output_type": "stream",
     "text": [
      "     56/100         0G      1.896      2.649       1.32      1.115        290        640: 100%|██████████| 11/11 [16:38<00:00, 90.78s/it]\n",
      "                 Class     Images  Instances      Box(P          R      mAP50  mAP50-95)     Mask(P          R      mAP50  mAP50-95): 100%|██████████| 2/2 [00:28<00:00, 14.19s/it]"
     ]
    },
    {
     "name": "stdout",
     "output_type": "stream",
     "text": [
      "                   all         43        826      0.669      0.506      0.552      0.257        0.6      0.398      0.422      0.147\n"
     ]
    },
    {
     "name": "stderr",
     "output_type": "stream",
     "text": [
      "\n"
     ]
    },
    {
     "name": "stdout",
     "output_type": "stream",
     "text": [
      "\n",
      "      Epoch    GPU_mem   box_loss   seg_loss   cls_loss   dfl_loss  Instances       Size\n"
     ]
    },
    {
     "name": "stderr",
     "output_type": "stream",
     "text": [
      "     57/100         0G      1.954      2.718      1.328      1.128        334        640: 100%|██████████| 11/11 [16:30<00:00, 90.06s/it]\n",
      "                 Class     Images  Instances      Box(P          R      mAP50  mAP50-95)     Mask(P          R      mAP50  mAP50-95): 100%|██████████| 2/2 [00:28<00:00, 14.30s/it]"
     ]
    },
    {
     "name": "stdout",
     "output_type": "stream",
     "text": [
      "                   all         43        826      0.623      0.528      0.554      0.262      0.581      0.443      0.459      0.174\n"
     ]
    },
    {
     "name": "stderr",
     "output_type": "stream",
     "text": [
      "\n"
     ]
    },
    {
     "name": "stdout",
     "output_type": "stream",
     "text": [
      "\n",
      "      Epoch    GPU_mem   box_loss   seg_loss   cls_loss   dfl_loss  Instances       Size\n"
     ]
    },
    {
     "name": "stderr",
     "output_type": "stream",
     "text": [
      "     58/100         0G      1.905      2.609      1.305      1.103        506        640: 100%|██████████| 11/11 [17:51<00:00, 97.41s/it] \n",
      "                 Class     Images  Instances      Box(P          R      mAP50  mAP50-95)     Mask(P          R      mAP50  mAP50-95): 100%|██████████| 2/2 [00:29<00:00, 14.86s/it]"
     ]
    },
    {
     "name": "stdout",
     "output_type": "stream",
     "text": [
      "                   all         43        826      0.599      0.493      0.506      0.231      0.512      0.392      0.377      0.127\n"
     ]
    },
    {
     "name": "stderr",
     "output_type": "stream",
     "text": [
      "\n"
     ]
    },
    {
     "name": "stdout",
     "output_type": "stream",
     "text": [
      "\n",
      "      Epoch    GPU_mem   box_loss   seg_loss   cls_loss   dfl_loss  Instances       Size\n"
     ]
    },
    {
     "name": "stderr",
     "output_type": "stream",
     "text": [
      "     59/100         0G       1.93      2.756      1.355      1.133        209        640: 100%|██████████| 11/11 [17:02<00:00, 92.96s/it] \n",
      "                 Class     Images  Instances      Box(P          R      mAP50  mAP50-95)     Mask(P          R      mAP50  mAP50-95): 100%|██████████| 2/2 [00:31<00:00, 15.67s/it]"
     ]
    },
    {
     "name": "stdout",
     "output_type": "stream",
     "text": [
      "                   all         43        826      0.555      0.452      0.448      0.188      0.477      0.372      0.341      0.107\n"
     ]
    },
    {
     "name": "stderr",
     "output_type": "stream",
     "text": [
      "\n"
     ]
    },
    {
     "name": "stdout",
     "output_type": "stream",
     "text": [
      "\n",
      "      Epoch    GPU_mem   box_loss   seg_loss   cls_loss   dfl_loss  Instances       Size\n"
     ]
    },
    {
     "name": "stderr",
     "output_type": "stream",
     "text": [
      "     60/100         0G      1.931      2.674      1.309      1.117        390        640: 100%|██████████| 11/11 [16:27<00:00, 89.74s/it]\n",
      "                 Class     Images  Instances      Box(P          R      mAP50  mAP50-95)     Mask(P          R      mAP50  mAP50-95): 100%|██████████| 2/2 [00:28<00:00, 14.40s/it]"
     ]
    },
    {
     "name": "stdout",
     "output_type": "stream",
     "text": [
      "                   all         43        826      0.583      0.438      0.457      0.196       0.49      0.354      0.333     0.0995\n"
     ]
    },
    {
     "name": "stderr",
     "output_type": "stream",
     "text": [
      "\n"
     ]
    },
    {
     "name": "stdout",
     "output_type": "stream",
     "text": [
      "\n",
      "      Epoch    GPU_mem   box_loss   seg_loss   cls_loss   dfl_loss  Instances       Size\n"
     ]
    },
    {
     "name": "stderr",
     "output_type": "stream",
     "text": [
      "     61/100         0G      1.926      2.645      1.323      1.117        252        640: 100%|██████████| 11/11 [16:51<00:00, 91.93s/it] \n",
      "                 Class     Images  Instances      Box(P          R      mAP50  mAP50-95)     Mask(P          R      mAP50  mAP50-95): 100%|██████████| 2/2 [00:27<00:00, 13.99s/it]"
     ]
    },
    {
     "name": "stdout",
     "output_type": "stream",
     "text": [
      "                   all         43        826      0.628      0.421      0.462      0.223       0.59      0.357      0.375      0.143\n"
     ]
    },
    {
     "name": "stderr",
     "output_type": "stream",
     "text": [
      "\n"
     ]
    },
    {
     "name": "stdout",
     "output_type": "stream",
     "text": [
      "\n",
      "      Epoch    GPU_mem   box_loss   seg_loss   cls_loss   dfl_loss  Instances       Size\n"
     ]
    },
    {
     "name": "stderr",
     "output_type": "stream",
     "text": [
      "     62/100         0G      1.909       2.65      1.312      1.116        219        640: 100%|██████████| 11/11 [16:09<00:00, 88.13s/it]\n",
      "                 Class     Images  Instances      Box(P          R      mAP50  mAP50-95)     Mask(P          R      mAP50  mAP50-95): 100%|██████████| 2/2 [00:28<00:00, 14.20s/it]"
     ]
    },
    {
     "name": "stdout",
     "output_type": "stream",
     "text": [
      "                   all         43        826      0.639      0.519      0.546      0.257      0.551      0.431      0.425      0.154\n"
     ]
    },
    {
     "name": "stderr",
     "output_type": "stream",
     "text": [
      "\n"
     ]
    },
    {
     "name": "stdout",
     "output_type": "stream",
     "text": [
      "\n",
      "      Epoch    GPU_mem   box_loss   seg_loss   cls_loss   dfl_loss  Instances       Size\n"
     ]
    },
    {
     "name": "stderr",
     "output_type": "stream",
     "text": [
      "     63/100         0G      1.912      2.664      1.338      1.149        372        640: 100%|██████████| 11/11 [15:43<00:00, 85.74s/it]\n",
      "                 Class     Images  Instances      Box(P          R      mAP50  mAP50-95)     Mask(P          R      mAP50  mAP50-95): 100%|██████████| 2/2 [00:29<00:00, 14.62s/it]"
     ]
    },
    {
     "name": "stdout",
     "output_type": "stream",
     "text": [
      "                   all         43        826      0.601      0.496      0.518      0.247      0.533      0.423      0.418       0.15\n"
     ]
    },
    {
     "name": "stderr",
     "output_type": "stream",
     "text": [
      "\n"
     ]
    },
    {
     "name": "stdout",
     "output_type": "stream",
     "text": [
      "\n",
      "      Epoch    GPU_mem   box_loss   seg_loss   cls_loss   dfl_loss  Instances       Size\n"
     ]
    },
    {
     "name": "stderr",
     "output_type": "stream",
     "text": [
      "     64/100         0G      1.903      2.688      1.284      1.124        435        640: 100%|██████████| 11/11 [17:21<00:00, 94.67s/it]\n",
      "                 Class     Images  Instances      Box(P          R      mAP50  mAP50-95)     Mask(P          R      mAP50  mAP50-95): 100%|██████████| 2/2 [00:29<00:00, 14.57s/it]"
     ]
    },
    {
     "name": "stdout",
     "output_type": "stream",
     "text": [
      "                   all         43        826      0.624      0.517       0.53      0.255      0.547      0.405       0.39      0.132\n"
     ]
    },
    {
     "name": "stderr",
     "output_type": "stream",
     "text": [
      "\n"
     ]
    },
    {
     "name": "stdout",
     "output_type": "stream",
     "text": [
      "\n",
      "      Epoch    GPU_mem   box_loss   seg_loss   cls_loss   dfl_loss  Instances       Size\n"
     ]
    },
    {
     "name": "stderr",
     "output_type": "stream",
     "text": [
      "     65/100         0G      1.915      2.668      1.261      1.124        300        640: 100%|██████████| 11/11 [16:35<00:00, 90.52s/it] \n",
      "                 Class     Images  Instances      Box(P          R      mAP50  mAP50-95)     Mask(P          R      mAP50  mAP50-95): 100%|██████████| 2/2 [00:29<00:00, 14.77s/it]"
     ]
    },
    {
     "name": "stdout",
     "output_type": "stream",
     "text": [
      "                   all         43        826      0.605      0.485      0.513      0.226      0.485      0.369      0.347      0.101\n"
     ]
    },
    {
     "name": "stderr",
     "output_type": "stream",
     "text": [
      "\n"
     ]
    },
    {
     "name": "stdout",
     "output_type": "stream",
     "text": [
      "\n",
      "      Epoch    GPU_mem   box_loss   seg_loss   cls_loss   dfl_loss  Instances       Size\n"
     ]
    },
    {
     "name": "stderr",
     "output_type": "stream",
     "text": [
      "     66/100         0G      1.913      2.676      1.342      1.143        210        640: 100%|██████████| 11/11 [14:38<00:00, 79.87s/it]\n",
      "                 Class     Images  Instances      Box(P          R      mAP50  mAP50-95)     Mask(P          R      mAP50  mAP50-95): 100%|██████████| 2/2 [00:28<00:00, 14.48s/it]"
     ]
    },
    {
     "name": "stdout",
     "output_type": "stream",
     "text": [
      "                   all         43        826      0.556      0.513      0.518       0.24      0.535      0.364      0.371      0.131\n"
     ]
    },
    {
     "name": "stderr",
     "output_type": "stream",
     "text": [
      "\n"
     ]
    },
    {
     "name": "stdout",
     "output_type": "stream",
     "text": [
      "\n",
      "      Epoch    GPU_mem   box_loss   seg_loss   cls_loss   dfl_loss  Instances       Size\n"
     ]
    },
    {
     "name": "stderr",
     "output_type": "stream",
     "text": [
      "     67/100         0G      1.876      2.605        1.3      1.122        251        640: 100%|██████████| 11/11 [15:30<00:00, 84.57s/it]\n",
      "                 Class     Images  Instances      Box(P          R      mAP50  mAP50-95)     Mask(P          R      mAP50  mAP50-95): 100%|██████████| 2/2 [00:29<00:00, 14.60s/it]"
     ]
    },
    {
     "name": "stdout",
     "output_type": "stream",
     "text": [
      "                   all         43        826      0.601      0.506      0.522      0.234       0.54      0.384      0.388      0.134\n"
     ]
    },
    {
     "name": "stderr",
     "output_type": "stream",
     "text": [
      "\n"
     ]
    },
    {
     "name": "stdout",
     "output_type": "stream",
     "text": [
      "\n",
      "      Epoch    GPU_mem   box_loss   seg_loss   cls_loss   dfl_loss  Instances       Size\n"
     ]
    },
    {
     "name": "stderr",
     "output_type": "stream",
     "text": [
      "     68/100         0G      1.906      2.642      1.354      1.124        348        640: 100%|██████████| 11/11 [14:51<00:00, 81.03s/it]\n",
      "                 Class     Images  Instances      Box(P          R      mAP50  mAP50-95)     Mask(P          R      mAP50  mAP50-95): 100%|██████████| 2/2 [00:29<00:00, 14.59s/it]"
     ]
    },
    {
     "name": "stdout",
     "output_type": "stream",
     "text": [
      "                   all         43        826      0.604      0.487      0.524      0.242      0.496      0.423      0.404       0.13\n"
     ]
    },
    {
     "name": "stderr",
     "output_type": "stream",
     "text": [
      "\n"
     ]
    },
    {
     "name": "stdout",
     "output_type": "stream",
     "text": [
      "\n",
      "      Epoch    GPU_mem   box_loss   seg_loss   cls_loss   dfl_loss  Instances       Size\n"
     ]
    },
    {
     "name": "stderr",
     "output_type": "stream",
     "text": [
      "     69/100         0G      1.906      2.634      1.301      1.122        334        640: 100%|██████████| 11/11 [17:01<00:00, 92.87s/it]\n",
      "                 Class     Images  Instances      Box(P          R      mAP50  mAP50-95)     Mask(P          R      mAP50  mAP50-95): 100%|██████████| 2/2 [00:30<00:00, 15.22s/it]"
     ]
    },
    {
     "name": "stdout",
     "output_type": "stream",
     "text": [
      "                   all         43        826      0.621      0.528      0.553      0.262      0.544      0.466      0.444      0.169\n"
     ]
    },
    {
     "name": "stderr",
     "output_type": "stream",
     "text": [
      "\n"
     ]
    },
    {
     "name": "stdout",
     "output_type": "stream",
     "text": [
      "\n",
      "      Epoch    GPU_mem   box_loss   seg_loss   cls_loss   dfl_loss  Instances       Size\n"
     ]
    },
    {
     "name": "stderr",
     "output_type": "stream",
     "text": [
      "     70/100         0G      1.892      2.649      1.324       1.13        271        640: 100%|██████████| 11/11 [17:51<00:00, 97.38s/it] \n",
      "                 Class     Images  Instances      Box(P          R      mAP50  mAP50-95)     Mask(P          R      mAP50  mAP50-95): 100%|██████████| 2/2 [00:33<00:00, 16.91s/it]"
     ]
    },
    {
     "name": "stdout",
     "output_type": "stream",
     "text": [
      "                   all         43        826      0.641      0.506      0.543      0.262      0.563      0.422      0.407       0.13\n"
     ]
    },
    {
     "name": "stderr",
     "output_type": "stream",
     "text": [
      "\n"
     ]
    },
    {
     "name": "stdout",
     "output_type": "stream",
     "text": [
      "\n",
      "      Epoch    GPU_mem   box_loss   seg_loss   cls_loss   dfl_loss  Instances       Size\n"
     ]
    },
    {
     "name": "stderr",
     "output_type": "stream",
     "text": [
      "     71/100         0G      1.946      2.715       1.33      1.132        300        640: 100%|██████████| 11/11 [16:27<00:00, 89.75s/it]\n",
      "                 Class     Images  Instances      Box(P          R      mAP50  mAP50-95)     Mask(P          R      mAP50  mAP50-95): 100%|██████████| 2/2 [00:28<00:00, 14.45s/it]"
     ]
    },
    {
     "name": "stdout",
     "output_type": "stream",
     "text": [
      "                   all         43        826      0.629      0.521      0.558      0.269      0.613      0.425      0.456      0.158\n"
     ]
    },
    {
     "name": "stderr",
     "output_type": "stream",
     "text": [
      "\n"
     ]
    },
    {
     "name": "stdout",
     "output_type": "stream",
     "text": [
      "\n",
      "      Epoch    GPU_mem   box_loss   seg_loss   cls_loss   dfl_loss  Instances       Size\n"
     ]
    },
    {
     "name": "stderr",
     "output_type": "stream",
     "text": [
      "     72/100         0G      1.915      2.672      1.304      1.119        282        640: 100%|██████████| 11/11 [18:57<00:00, 103.37s/it]\n",
      "                 Class     Images  Instances      Box(P          R      mAP50  mAP50-95)     Mask(P          R      mAP50  mAP50-95): 100%|██████████| 2/2 [00:29<00:00, 14.50s/it]"
     ]
    },
    {
     "name": "stdout",
     "output_type": "stream",
     "text": [
      "                   all         43        826      0.631       0.47      0.522      0.227      0.545      0.386      0.398      0.141\n"
     ]
    },
    {
     "name": "stderr",
     "output_type": "stream",
     "text": [
      "\n"
     ]
    },
    {
     "name": "stdout",
     "output_type": "stream",
     "text": [
      "\n",
      "      Epoch    GPU_mem   box_loss   seg_loss   cls_loss   dfl_loss  Instances       Size\n"
     ]
    },
    {
     "name": "stderr",
     "output_type": "stream",
     "text": [
      "     73/100         0G      1.901      2.664      1.292      1.123        184        640: 100%|██████████| 11/11 [17:40<00:00, 96.45s/it] \n",
      "                 Class     Images  Instances      Box(P          R      mAP50  mAP50-95)     Mask(P          R      mAP50  mAP50-95): 100%|██████████| 2/2 [00:29<00:00, 14.95s/it]"
     ]
    },
    {
     "name": "stdout",
     "output_type": "stream",
     "text": [
      "                   all         43        826      0.608        0.5      0.519      0.228      0.519      0.384      0.373      0.125\n"
     ]
    },
    {
     "name": "stderr",
     "output_type": "stream",
     "text": [
      "\n"
     ]
    },
    {
     "name": "stdout",
     "output_type": "stream",
     "text": [
      "\n",
      "      Epoch    GPU_mem   box_loss   seg_loss   cls_loss   dfl_loss  Instances       Size\n"
     ]
    },
    {
     "name": "stderr",
     "output_type": "stream",
     "text": [
      "     74/100         0G      1.891      2.657      1.294      1.119        327        640: 100%|██████████| 11/11 [17:26<00:00, 95.11s/it] \n",
      "                 Class     Images  Instances      Box(P          R      mAP50  mAP50-95)     Mask(P          R      mAP50  mAP50-95): 100%|██████████| 2/2 [00:30<00:00, 15.27s/it]"
     ]
    },
    {
     "name": "stdout",
     "output_type": "stream",
     "text": [
      "                   all         43        826      0.632      0.518      0.558      0.262      0.546      0.412      0.406      0.137\n"
     ]
    },
    {
     "name": "stderr",
     "output_type": "stream",
     "text": [
      "\n"
     ]
    },
    {
     "name": "stdout",
     "output_type": "stream",
     "text": [
      "\n",
      "      Epoch    GPU_mem   box_loss   seg_loss   cls_loss   dfl_loss  Instances       Size\n"
     ]
    },
    {
     "name": "stderr",
     "output_type": "stream",
     "text": [
      "     75/100         0G      1.923      2.644      1.326       1.13        302        640: 100%|██████████| 11/11 [17:10<00:00, 93.65s/it]\n",
      "                 Class     Images  Instances      Box(P          R      mAP50  mAP50-95)     Mask(P          R      mAP50  mAP50-95): 100%|██████████| 2/2 [00:29<00:00, 14.81s/it]"
     ]
    },
    {
     "name": "stdout",
     "output_type": "stream",
     "text": [
      "                   all         43        826      0.639      0.517      0.559      0.259      0.563      0.377      0.407      0.149\n"
     ]
    },
    {
     "name": "stderr",
     "output_type": "stream",
     "text": [
      "\n"
     ]
    },
    {
     "name": "stdout",
     "output_type": "stream",
     "text": [
      "\n",
      "      Epoch    GPU_mem   box_loss   seg_loss   cls_loss   dfl_loss  Instances       Size\n"
     ]
    },
    {
     "name": "stderr",
     "output_type": "stream",
     "text": [
      "     76/100         0G      1.875       2.61      1.263      1.115        340        640: 100%|██████████| 11/11 [18:26<00:00, 100.62s/it]\n",
      "                 Class     Images  Instances      Box(P          R      mAP50  mAP50-95)     Mask(P          R      mAP50  mAP50-95): 100%|██████████| 2/2 [00:29<00:00, 14.54s/it]"
     ]
    },
    {
     "name": "stdout",
     "output_type": "stream",
     "text": [
      "                   all         43        826      0.651      0.507      0.542      0.249      0.581      0.397      0.411      0.137\n"
     ]
    },
    {
     "name": "stderr",
     "output_type": "stream",
     "text": [
      "\n"
     ]
    },
    {
     "name": "stdout",
     "output_type": "stream",
     "text": [
      "\n",
      "      Epoch    GPU_mem   box_loss   seg_loss   cls_loss   dfl_loss  Instances       Size\n"
     ]
    },
    {
     "name": "stderr",
     "output_type": "stream",
     "text": [
      "     77/100         0G      1.912      2.631      1.346      1.124        359        640: 100%|██████████| 11/11 [17:55<00:00, 97.80s/it] \n",
      "                 Class     Images  Instances      Box(P          R      mAP50  mAP50-95)     Mask(P          R      mAP50  mAP50-95): 100%|██████████| 2/2 [00:28<00:00, 14.41s/it]"
     ]
    },
    {
     "name": "stdout",
     "output_type": "stream",
     "text": [
      "                   all         43        826      0.596      0.489      0.511      0.223      0.545      0.366      0.351     0.0971\n"
     ]
    },
    {
     "name": "stderr",
     "output_type": "stream",
     "text": [
      "\n"
     ]
    },
    {
     "name": "stdout",
     "output_type": "stream",
     "text": [
      "\n",
      "      Epoch    GPU_mem   box_loss   seg_loss   cls_loss   dfl_loss  Instances       Size\n"
     ]
    },
    {
     "name": "stderr",
     "output_type": "stream",
     "text": [
      "     78/100         0G      1.891      2.578      1.273      1.107        380        640: 100%|██████████| 11/11 [19:05<00:00, 104.10s/it]\n",
      "                 Class     Images  Instances      Box(P          R      mAP50  mAP50-95)     Mask(P          R      mAP50  mAP50-95): 100%|██████████| 2/2 [00:31<00:00, 15.71s/it]"
     ]
    },
    {
     "name": "stdout",
     "output_type": "stream",
     "text": [
      "                   all         43        826      0.656      0.441      0.497      0.217      0.559      0.363      0.368      0.115\n"
     ]
    },
    {
     "name": "stderr",
     "output_type": "stream",
     "text": [
      "\n"
     ]
    },
    {
     "name": "stdout",
     "output_type": "stream",
     "text": [
      "\n",
      "      Epoch    GPU_mem   box_loss   seg_loss   cls_loss   dfl_loss  Instances       Size\n"
     ]
    },
    {
     "name": "stderr",
     "output_type": "stream",
     "text": [
      "     79/100         0G      1.947       2.67      1.305      1.123        371        640: 100%|██████████| 11/11 [16:30<00:00, 90.05s/it]\n",
      "                 Class     Images  Instances      Box(P          R      mAP50  mAP50-95)     Mask(P          R      mAP50  mAP50-95): 100%|██████████| 2/2 [00:29<00:00, 14.57s/it]"
     ]
    },
    {
     "name": "stdout",
     "output_type": "stream",
     "text": [
      "                   all         43        826      0.595      0.484      0.515       0.23      0.531      0.424      0.415      0.152\n"
     ]
    },
    {
     "name": "stderr",
     "output_type": "stream",
     "text": [
      "\n"
     ]
    },
    {
     "name": "stdout",
     "output_type": "stream",
     "text": [
      "\n",
      "      Epoch    GPU_mem   box_loss   seg_loss   cls_loss   dfl_loss  Instances       Size\n"
     ]
    },
    {
     "name": "stderr",
     "output_type": "stream",
     "text": [
      "     80/100         0G      1.921      2.645      1.288      1.118        231        640: 100%|██████████| 11/11 [18:44<00:00, 102.23s/it]\n",
      "                 Class     Images  Instances      Box(P          R      mAP50  mAP50-95)     Mask(P          R      mAP50  mAP50-95): 100%|██████████| 2/2 [00:28<00:00, 14.13s/it]"
     ]
    },
    {
     "name": "stdout",
     "output_type": "stream",
     "text": [
      "                   all         43        826      0.598      0.533      0.545       0.24      0.578      0.372      0.375      0.124\n"
     ]
    },
    {
     "name": "stderr",
     "output_type": "stream",
     "text": [
      "\n"
     ]
    },
    {
     "name": "stdout",
     "output_type": "stream",
     "text": [
      "\n",
      "      Epoch    GPU_mem   box_loss   seg_loss   cls_loss   dfl_loss  Instances       Size\n"
     ]
    },
    {
     "name": "stderr",
     "output_type": "stream",
     "text": [
      "     81/100         0G      1.812      2.645      1.257       1.11        328        640: 100%|██████████| 11/11 [17:16<00:00, 94.25s/it]\n",
      "                 Class     Images  Instances      Box(P          R      mAP50  mAP50-95)     Mask(P          R      mAP50  mAP50-95): 100%|██████████| 2/2 [00:28<00:00, 14.44s/it]"
     ]
    },
    {
     "name": "stdout",
     "output_type": "stream",
     "text": [
      "                   all         43        826      0.614      0.515      0.528      0.239      0.551      0.386      0.371      0.118\n"
     ]
    },
    {
     "name": "stderr",
     "output_type": "stream",
     "text": [
      "\n"
     ]
    },
    {
     "name": "stdout",
     "output_type": "stream",
     "text": [
      "\n",
      "      Epoch    GPU_mem   box_loss   seg_loss   cls_loss   dfl_loss  Instances       Size\n"
     ]
    },
    {
     "name": "stderr",
     "output_type": "stream",
     "text": [
      "     82/100         0G      1.845      2.614      1.292      1.123        190        640: 100%|██████████| 11/11 [19:00<00:00, 103.69s/it]\n",
      "                 Class     Images  Instances      Box(P          R      mAP50  mAP50-95)     Mask(P          R      mAP50  mAP50-95): 100%|██████████| 2/2 [00:33<00:00, 16.84s/it]"
     ]
    },
    {
     "name": "stdout",
     "output_type": "stream",
     "text": [
      "                   all         43        826      0.601      0.517      0.536      0.259      0.562      0.394      0.398      0.131\n"
     ]
    },
    {
     "name": "stderr",
     "output_type": "stream",
     "text": [
      "\n"
     ]
    },
    {
     "name": "stdout",
     "output_type": "stream",
     "text": [
      "\n",
      "      Epoch    GPU_mem   box_loss   seg_loss   cls_loss   dfl_loss  Instances       Size\n"
     ]
    },
    {
     "name": "stderr",
     "output_type": "stream",
     "text": [
      "     83/100         0G      1.833      2.509      1.259      1.105        377        640: 100%|██████████| 11/11 [16:50<00:00, 91.89s/it] \n",
      "                 Class     Images  Instances      Box(P          R      mAP50  mAP50-95)     Mask(P          R      mAP50  mAP50-95): 100%|██████████| 2/2 [00:29<00:00, 14.59s/it]"
     ]
    },
    {
     "name": "stdout",
     "output_type": "stream",
     "text": [
      "                   all         43        826      0.601      0.548      0.565      0.264      0.553      0.402      0.413      0.148\n"
     ]
    },
    {
     "name": "stderr",
     "output_type": "stream",
     "text": [
      "\n"
     ]
    },
    {
     "name": "stdout",
     "output_type": "stream",
     "text": [
      "\n",
      "      Epoch    GPU_mem   box_loss   seg_loss   cls_loss   dfl_loss  Instances       Size\n"
     ]
    },
    {
     "name": "stderr",
     "output_type": "stream",
     "text": [
      "     84/100         0G      1.857      2.619      1.275      1.101        203        640: 100%|██████████| 11/11 [18:58<00:00, 103.48s/it]\n",
      "                 Class     Images  Instances      Box(P          R      mAP50  mAP50-95)     Mask(P          R      mAP50  mAP50-95): 100%|██████████| 2/2 [00:29<00:00, 14.56s/it]"
     ]
    },
    {
     "name": "stdout",
     "output_type": "stream",
     "text": [
      "                   all         43        826      0.609      0.541       0.56       0.26      0.532      0.431      0.426      0.153\n"
     ]
    },
    {
     "name": "stderr",
     "output_type": "stream",
     "text": [
      "\n"
     ]
    },
    {
     "name": "stdout",
     "output_type": "stream",
     "text": [
      "\n",
      "      Epoch    GPU_mem   box_loss   seg_loss   cls_loss   dfl_loss  Instances       Size\n"
     ]
    },
    {
     "name": "stderr",
     "output_type": "stream",
     "text": [
      "     85/100         0G      1.855      2.616      1.246      1.094        419        640: 100%|██████████| 11/11 [18:46<00:00, 102.38s/it]\n",
      "                 Class     Images  Instances      Box(P          R      mAP50  mAP50-95)     Mask(P          R      mAP50  mAP50-95): 100%|██████████| 2/2 [00:32<00:00, 16.41s/it]"
     ]
    },
    {
     "name": "stdout",
     "output_type": "stream",
     "text": [
      "                   all         43        826      0.613      0.535      0.549      0.252      0.521      0.422      0.397      0.132\n"
     ]
    },
    {
     "name": "stderr",
     "output_type": "stream",
     "text": [
      "\n"
     ]
    },
    {
     "name": "stdout",
     "output_type": "stream",
     "text": [
      "\n",
      "      Epoch    GPU_mem   box_loss   seg_loss   cls_loss   dfl_loss  Instances       Size\n"
     ]
    },
    {
     "name": "stderr",
     "output_type": "stream",
     "text": [
      "     86/100         0G      1.863      2.638      1.237      1.096        284        640: 100%|██████████| 11/11 [19:12<00:00, 104.75s/it]\n",
      "                 Class     Images  Instances      Box(P          R      mAP50  mAP50-95)     Mask(P          R      mAP50  mAP50-95): 100%|██████████| 2/2 [00:28<00:00, 14.48s/it]"
     ]
    },
    {
     "name": "stdout",
     "output_type": "stream",
     "text": [
      "                   all         43        826      0.647      0.532      0.553      0.258      0.528      0.412      0.392      0.122\n"
     ]
    },
    {
     "name": "stderr",
     "output_type": "stream",
     "text": [
      "\n"
     ]
    },
    {
     "name": "stdout",
     "output_type": "stream",
     "text": [
      "\n",
      "      Epoch    GPU_mem   box_loss   seg_loss   cls_loss   dfl_loss  Instances       Size\n"
     ]
    },
    {
     "name": "stderr",
     "output_type": "stream",
     "text": [
      "     87/100         0G      1.833      2.631      1.249      1.096        328        640: 100%|██████████| 11/11 [19:23<00:00, 105.76s/it]\n",
      "                 Class     Images  Instances      Box(P          R      mAP50  mAP50-95)     Mask(P          R      mAP50  mAP50-95): 100%|██████████| 2/2 [00:29<00:00, 14.67s/it]"
     ]
    },
    {
     "name": "stdout",
     "output_type": "stream",
     "text": [
      "                   all         43        826      0.646      0.564       0.58      0.285      0.558      0.474      0.455       0.17\n"
     ]
    },
    {
     "name": "stderr",
     "output_type": "stream",
     "text": [
      "\n"
     ]
    },
    {
     "name": "stdout",
     "output_type": "stream",
     "text": [
      "\n",
      "      Epoch    GPU_mem   box_loss   seg_loss   cls_loss   dfl_loss  Instances       Size\n"
     ]
    },
    {
     "name": "stderr",
     "output_type": "stream",
     "text": [
      "     88/100         0G      1.856      2.577      1.234      1.093        228        640: 100%|██████████| 11/11 [17:46<00:00, 96.99s/it] \n",
      "                 Class     Images  Instances      Box(P          R      mAP50  mAP50-95)     Mask(P          R      mAP50  mAP50-95): 100%|██████████| 2/2 [00:29<00:00, 14.75s/it]"
     ]
    },
    {
     "name": "stdout",
     "output_type": "stream",
     "text": [
      "                   all         43        826      0.622      0.534      0.553      0.265      0.545      0.438      0.433      0.161\n"
     ]
    },
    {
     "name": "stderr",
     "output_type": "stream",
     "text": [
      "\n"
     ]
    },
    {
     "name": "stdout",
     "output_type": "stream",
     "text": [
      "\n",
      "      Epoch    GPU_mem   box_loss   seg_loss   cls_loss   dfl_loss  Instances       Size\n"
     ]
    },
    {
     "name": "stderr",
     "output_type": "stream",
     "text": [
      "     89/100         0G      1.877      2.574      1.228      1.089        452        640: 100%|██████████| 11/11 [17:28<00:00, 95.36s/it] \n",
      "                 Class     Images  Instances      Box(P          R      mAP50  mAP50-95)     Mask(P          R      mAP50  mAP50-95): 100%|██████████| 2/2 [00:29<00:00, 14.57s/it]"
     ]
    },
    {
     "name": "stdout",
     "output_type": "stream",
     "text": [
      "                   all         43        826      0.603      0.535      0.547      0.261      0.524       0.41      0.414      0.151\n"
     ]
    },
    {
     "name": "stderr",
     "output_type": "stream",
     "text": [
      "\n"
     ]
    },
    {
     "name": "stdout",
     "output_type": "stream",
     "text": [
      "\n",
      "      Epoch    GPU_mem   box_loss   seg_loss   cls_loss   dfl_loss  Instances       Size\n"
     ]
    },
    {
     "name": "stderr",
     "output_type": "stream",
     "text": [
      "     90/100         0G      1.828      2.518       1.21      1.072        373        640: 100%|██████████| 11/11 [17:17<00:00, 94.28s/it] \n",
      "                 Class     Images  Instances      Box(P          R      mAP50  mAP50-95)     Mask(P          R      mAP50  mAP50-95): 100%|██████████| 2/2 [00:29<00:00, 14.85s/it]"
     ]
    },
    {
     "name": "stdout",
     "output_type": "stream",
     "text": [
      "                   all         43        826      0.623      0.539      0.563      0.277      0.562      0.415      0.427      0.156\n"
     ]
    },
    {
     "name": "stderr",
     "output_type": "stream",
     "text": [
      "\n"
     ]
    },
    {
     "name": "stdout",
     "output_type": "stream",
     "text": [
      "Closing dataloader mosaic\n",
      "\n",
      "      Epoch    GPU_mem   box_loss   seg_loss   cls_loss   dfl_loss  Instances       Size\n"
     ]
    },
    {
     "name": "stderr",
     "output_type": "stream",
     "text": [
      "     91/100         0G      1.816      2.474       1.26      1.084        226        640: 100%|██████████| 11/11 [11:19<00:00, 61.75s/it]\n",
      "                 Class     Images  Instances      Box(P          R      mAP50  mAP50-95)     Mask(P          R      mAP50  mAP50-95): 100%|██████████| 2/2 [00:30<00:00, 15.30s/it]"
     ]
    },
    {
     "name": "stdout",
     "output_type": "stream",
     "text": [
      "                   all         43        826      0.663       0.55       0.58      0.288      0.567      0.458      0.454       0.17\n"
     ]
    },
    {
     "name": "stderr",
     "output_type": "stream",
     "text": [
      "\n"
     ]
    },
    {
     "name": "stdout",
     "output_type": "stream",
     "text": [
      "\n",
      "      Epoch    GPU_mem   box_loss   seg_loss   cls_loss   dfl_loss  Instances       Size\n"
     ]
    },
    {
     "name": "stderr",
     "output_type": "stream",
     "text": [
      "     92/100         0G      1.811      2.429      1.239       1.08        242        640: 100%|██████████| 11/11 [11:02<00:00, 60.21s/it]\n",
      "                 Class     Images  Instances      Box(P          R      mAP50  mAP50-95)     Mask(P          R      mAP50  mAP50-95): 100%|██████████| 2/2 [00:28<00:00, 14.37s/it]"
     ]
    },
    {
     "name": "stdout",
     "output_type": "stream",
     "text": [
      "                   all         43        826      0.672       0.53       0.57      0.285      0.613      0.461      0.477      0.186\n"
     ]
    },
    {
     "name": "stderr",
     "output_type": "stream",
     "text": [
      "\n"
     ]
    },
    {
     "name": "stdout",
     "output_type": "stream",
     "text": [
      "\n",
      "      Epoch    GPU_mem   box_loss   seg_loss   cls_loss   dfl_loss  Instances       Size\n"
     ]
    },
    {
     "name": "stderr",
     "output_type": "stream",
     "text": [
      "     93/100         0G      1.813      2.468      1.225      1.086        197        640: 100%|██████████| 11/11 [10:48<00:00, 59.00s/it]\n",
      "                 Class     Images  Instances      Box(P          R      mAP50  mAP50-95)     Mask(P          R      mAP50  mAP50-95): 100%|██████████| 2/2 [00:28<00:00, 14.48s/it]"
     ]
    },
    {
     "name": "stdout",
     "output_type": "stream",
     "text": [
      "                   all         43        826      0.657      0.535      0.569      0.284       0.59      0.462      0.479       0.19\n"
     ]
    },
    {
     "name": "stderr",
     "output_type": "stream",
     "text": [
      "\n"
     ]
    },
    {
     "name": "stdout",
     "output_type": "stream",
     "text": [
      "\n",
      "      Epoch    GPU_mem   box_loss   seg_loss   cls_loss   dfl_loss  Instances       Size\n"
     ]
    },
    {
     "name": "stderr",
     "output_type": "stream",
     "text": [
      "     94/100         0G      1.772      2.418      1.187      1.078        196        640: 100%|██████████| 11/11 [10:58<00:00, 59.83s/it]\n",
      "                 Class     Images  Instances      Box(P          R      mAP50  mAP50-95)     Mask(P          R      mAP50  mAP50-95): 100%|██████████| 2/2 [00:28<00:00, 14.40s/it]"
     ]
    },
    {
     "name": "stdout",
     "output_type": "stream",
     "text": [
      "                   all         43        826      0.685      0.516      0.565       0.28      0.608      0.458      0.476      0.185\n"
     ]
    },
    {
     "name": "stderr",
     "output_type": "stream",
     "text": [
      "\n"
     ]
    },
    {
     "name": "stdout",
     "output_type": "stream",
     "text": [
      "\n",
      "      Epoch    GPU_mem   box_loss   seg_loss   cls_loss   dfl_loss  Instances       Size\n"
     ]
    },
    {
     "name": "stderr",
     "output_type": "stream",
     "text": [
      "     95/100         0G      1.795      2.498       1.22      1.093        308        640: 100%|██████████| 11/11 [10:57<00:00, 59.81s/it]\n",
      "                 Class     Images  Instances      Box(P          R      mAP50  mAP50-95)     Mask(P          R      mAP50  mAP50-95): 100%|██████████| 2/2 [00:29<00:00, 14.63s/it]"
     ]
    },
    {
     "name": "stdout",
     "output_type": "stream",
     "text": [
      "                   all         43        826      0.665      0.508      0.553      0.266      0.586      0.415      0.429      0.157\n"
     ]
    },
    {
     "name": "stderr",
     "output_type": "stream",
     "text": [
      "\n"
     ]
    },
    {
     "name": "stdout",
     "output_type": "stream",
     "text": [
      "\n",
      "      Epoch    GPU_mem   box_loss   seg_loss   cls_loss   dfl_loss  Instances       Size\n"
     ]
    },
    {
     "name": "stderr",
     "output_type": "stream",
     "text": [
      "     96/100         0G      1.763      2.436      1.178       1.09        198        640: 100%|██████████| 11/11 [11:22<00:00, 62.08s/it]\n",
      "                 Class     Images  Instances      Box(P          R      mAP50  mAP50-95)     Mask(P          R      mAP50  mAP50-95): 100%|██████████| 2/2 [00:29<00:00, 14.69s/it]"
     ]
    },
    {
     "name": "stdout",
     "output_type": "stream",
     "text": [
      "                   all         43        826      0.614      0.536      0.544      0.259      0.523       0.43       0.41       0.14\n"
     ]
    },
    {
     "name": "stderr",
     "output_type": "stream",
     "text": [
      "\n"
     ]
    },
    {
     "name": "stdout",
     "output_type": "stream",
     "text": [
      "\n",
      "      Epoch    GPU_mem   box_loss   seg_loss   cls_loss   dfl_loss  Instances       Size\n"
     ]
    },
    {
     "name": "stderr",
     "output_type": "stream",
     "text": [
      "     97/100         0G      1.818      2.482      1.222      1.102        137        640: 100%|██████████| 11/11 [10:54<00:00, 59.49s/it]\n",
      "                 Class     Images  Instances      Box(P          R      mAP50  mAP50-95)     Mask(P          R      mAP50  mAP50-95): 100%|██████████| 2/2 [00:29<00:00, 14.95s/it]"
     ]
    },
    {
     "name": "stdout",
     "output_type": "stream",
     "text": [
      "                   all         43        826      0.615      0.556      0.554      0.259      0.517      0.438      0.407      0.136\n"
     ]
    },
    {
     "name": "stderr",
     "output_type": "stream",
     "text": [
      "\n"
     ]
    },
    {
     "name": "stdout",
     "output_type": "stream",
     "text": [
      "\n",
      "      Epoch    GPU_mem   box_loss   seg_loss   cls_loss   dfl_loss  Instances       Size\n"
     ]
    },
    {
     "name": "stderr",
     "output_type": "stream",
     "text": [
      "     98/100         0G      1.784      2.426      1.178      1.084        191        640: 100%|██████████| 11/11 [11:01<00:00, 60.14s/it]\n",
      "                 Class     Images  Instances      Box(P          R      mAP50  mAP50-95)     Mask(P          R      mAP50  mAP50-95): 100%|██████████| 2/2 [00:29<00:00, 14.85s/it]"
     ]
    },
    {
     "name": "stdout",
     "output_type": "stream",
     "text": [
      "                   all         43        826      0.616      0.548      0.556      0.264      0.529       0.41        0.4      0.135\n"
     ]
    },
    {
     "name": "stderr",
     "output_type": "stream",
     "text": [
      "\n"
     ]
    },
    {
     "name": "stdout",
     "output_type": "stream",
     "text": [
      "\n",
      "      Epoch    GPU_mem   box_loss   seg_loss   cls_loss   dfl_loss  Instances       Size\n"
     ]
    },
    {
     "name": "stderr",
     "output_type": "stream",
     "text": [
      "     99/100         0G      1.774      2.411      1.175      1.063         98        640: 100%|██████████| 11/11 [10:36<00:00, 57.87s/it]\n",
      "                 Class     Images  Instances      Box(P          R      mAP50  mAP50-95)     Mask(P          R      mAP50  mAP50-95): 100%|██████████| 2/2 [00:29<00:00, 14.68s/it]"
     ]
    },
    {
     "name": "stdout",
     "output_type": "stream",
     "text": [
      "                   all         43        826      0.625      0.547      0.556      0.264      0.521      0.415      0.394      0.131\n"
     ]
    },
    {
     "name": "stderr",
     "output_type": "stream",
     "text": [
      "\n"
     ]
    },
    {
     "name": "stdout",
     "output_type": "stream",
     "text": [
      "\n",
      "      Epoch    GPU_mem   box_loss   seg_loss   cls_loss   dfl_loss  Instances       Size\n"
     ]
    },
    {
     "name": "stderr",
     "output_type": "stream",
     "text": [
      "    100/100         0G      1.813      2.406      1.227      1.081        121        640: 100%|██████████| 11/11 [11:44<00:00, 64.05s/it]\n",
      "                 Class     Images  Instances      Box(P          R      mAP50  mAP50-95)     Mask(P          R      mAP50  mAP50-95): 100%|██████████| 2/2 [00:28<00:00, 14.45s/it]"
     ]
    },
    {
     "name": "stdout",
     "output_type": "stream",
     "text": [
      "                   all         43        826      0.629      0.541      0.558      0.266      0.515       0.43      0.406      0.137\n"
     ]
    },
    {
     "name": "stderr",
     "output_type": "stream",
     "text": [
      "\n"
     ]
    },
    {
     "name": "stdout",
     "output_type": "stream",
     "text": [
      "\n",
      "100 epochs completed in 27.682 hours.\n",
      "Optimizer stripped from runs\\segment\\train17\\weights\\last.pt, 23.8MB\n",
      "Optimizer stripped from runs\\segment\\train17\\weights\\best.pt, 23.8MB\n",
      "\n",
      "Validating runs\\segment\\train17\\weights\\best.pt...\n",
      "Ultralytics YOLOv8.1.15 🚀 Python-3.9.10 torch-2.1.1+cpu CPU (Intel Core(TM) i3-10110U 2.10GHz)\n",
      "YOLOv8s-seg summary (fused): 195 layers, 11779987 parameters, 0 gradients, 42.4 GFLOPs\n"
     ]
    },
    {
     "name": "stderr",
     "output_type": "stream",
     "text": [
      "                 Class     Images  Instances      Box(P          R      mAP50  mAP50-95)     Mask(P          R      mAP50  mAP50-95): 100%|██████████| 2/2 [00:23<00:00, 11.94s/it]\n"
     ]
    },
    {
     "name": "stdout",
     "output_type": "stream",
     "text": [
      "                   all         43        826      0.656      0.535       0.57      0.283      0.588      0.464       0.48       0.19\n",
      "Speed: 3.2ms preprocess, 442.4ms inference, 0.0ms loss, 3.8ms postprocess per image\n",
      "Results saved to \u001b[1mruns\\segment\\train17\u001b[0m\n",
      "2024-07-26 01:45:08,224 - clearml.storage - INFO - Starting upload: runs\\segment\\train17\\weights\\best.pt => https://files.clear.ml/synovial_img_segmentation/yolo8s-seg_vessels.1a97c1a375a0413ba456faa8e87e34f9/models/best.pt\n"
     ]
    },
    {
     "data": {
      "text/plain": [
       "ultralytics.utils.metrics.SegmentMetrics object with attributes:\n",
       "\n",
       "ap_class_index: array([0])\n",
       "box: ultralytics.utils.metrics.Metric object\n",
       "confusion_matrix: <ultralytics.utils.metrics.ConfusionMatrix object at 0x000001CD33FB99D0>\n",
       "curves: ['Precision-Recall(B)', 'F1-Confidence(B)', 'Precision-Confidence(B)', 'Recall-Confidence(B)', 'Precision-Recall(M)', 'F1-Confidence(M)', 'Precision-Confidence(M)', 'Recall-Confidence(M)']\n",
       "curves_results: [[array([          0,    0.001001,    0.002002,    0.003003,    0.004004,    0.005005,    0.006006,    0.007007,    0.008008,    0.009009,     0.01001,    0.011011,    0.012012,    0.013013,    0.014014,    0.015015,    0.016016,    0.017017,    0.018018,    0.019019,     0.02002,    0.021021,    0.022022,    0.023023,\n",
       "          0.024024,    0.025025,    0.026026,    0.027027,    0.028028,    0.029029,     0.03003,    0.031031,    0.032032,    0.033033,    0.034034,    0.035035,    0.036036,    0.037037,    0.038038,    0.039039,     0.04004,    0.041041,    0.042042,    0.043043,    0.044044,    0.045045,    0.046046,    0.047047,\n",
       "          0.048048,    0.049049,     0.05005,    0.051051,    0.052052,    0.053053,    0.054054,    0.055055,    0.056056,    0.057057,    0.058058,    0.059059,     0.06006,    0.061061,    0.062062,    0.063063,    0.064064,    0.065065,    0.066066,    0.067067,    0.068068,    0.069069,     0.07007,    0.071071,\n",
       "          0.072072,    0.073073,    0.074074,    0.075075,    0.076076,    0.077077,    0.078078,    0.079079,     0.08008,    0.081081,    0.082082,    0.083083,    0.084084,    0.085085,    0.086086,    0.087087,    0.088088,    0.089089,     0.09009,    0.091091,    0.092092,    0.093093,    0.094094,    0.095095,\n",
       "          0.096096,    0.097097,    0.098098,    0.099099,      0.1001,      0.1011,      0.1021,      0.1031,      0.1041,     0.10511,     0.10611,     0.10711,     0.10811,     0.10911,     0.11011,     0.11111,     0.11211,     0.11311,     0.11411,     0.11512,     0.11612,     0.11712,     0.11812,     0.11912,\n",
       "           0.12012,     0.12112,     0.12212,     0.12312,     0.12412,     0.12513,     0.12613,     0.12713,     0.12813,     0.12913,     0.13013,     0.13113,     0.13213,     0.13313,     0.13413,     0.13514,     0.13614,     0.13714,     0.13814,     0.13914,     0.14014,     0.14114,     0.14214,     0.14314,\n",
       "           0.14414,     0.14515,     0.14615,     0.14715,     0.14815,     0.14915,     0.15015,     0.15115,     0.15215,     0.15315,     0.15415,     0.15516,     0.15616,     0.15716,     0.15816,     0.15916,     0.16016,     0.16116,     0.16216,     0.16316,     0.16416,     0.16517,     0.16617,     0.16717,\n",
       "           0.16817,     0.16917,     0.17017,     0.17117,     0.17217,     0.17317,     0.17417,     0.17518,     0.17618,     0.17718,     0.17818,     0.17918,     0.18018,     0.18118,     0.18218,     0.18318,     0.18418,     0.18519,     0.18619,     0.18719,     0.18819,     0.18919,     0.19019,     0.19119,\n",
       "           0.19219,     0.19319,     0.19419,      0.1952,      0.1962,      0.1972,      0.1982,      0.1992,      0.2002,      0.2012,      0.2022,      0.2032,      0.2042,     0.20521,     0.20621,     0.20721,     0.20821,     0.20921,     0.21021,     0.21121,     0.21221,     0.21321,     0.21421,     0.21522,\n",
       "           0.21622,     0.21722,     0.21822,     0.21922,     0.22022,     0.22122,     0.22222,     0.22322,     0.22422,     0.22523,     0.22623,     0.22723,     0.22823,     0.22923,     0.23023,     0.23123,     0.23223,     0.23323,     0.23423,     0.23524,     0.23624,     0.23724,     0.23824,     0.23924,\n",
       "           0.24024,     0.24124,     0.24224,     0.24324,     0.24424,     0.24525,     0.24625,     0.24725,     0.24825,     0.24925,     0.25025,     0.25125,     0.25225,     0.25325,     0.25425,     0.25526,     0.25626,     0.25726,     0.25826,     0.25926,     0.26026,     0.26126,     0.26226,     0.26326,\n",
       "           0.26426,     0.26527,     0.26627,     0.26727,     0.26827,     0.26927,     0.27027,     0.27127,     0.27227,     0.27327,     0.27427,     0.27528,     0.27628,     0.27728,     0.27828,     0.27928,     0.28028,     0.28128,     0.28228,     0.28328,     0.28428,     0.28529,     0.28629,     0.28729,\n",
       "           0.28829,     0.28929,     0.29029,     0.29129,     0.29229,     0.29329,     0.29429,      0.2953,      0.2963,      0.2973,      0.2983,      0.2993,      0.3003,      0.3013,      0.3023,      0.3033,      0.3043,     0.30531,     0.30631,     0.30731,     0.30831,     0.30931,     0.31031,     0.31131,\n",
       "           0.31231,     0.31331,     0.31431,     0.31532,     0.31632,     0.31732,     0.31832,     0.31932,     0.32032,     0.32132,     0.32232,     0.32332,     0.32432,     0.32533,     0.32633,     0.32733,     0.32833,     0.32933,     0.33033,     0.33133,     0.33233,     0.33333,     0.33433,     0.33534,\n",
       "           0.33634,     0.33734,     0.33834,     0.33934,     0.34034,     0.34134,     0.34234,     0.34334,     0.34434,     0.34535,     0.34635,     0.34735,     0.34835,     0.34935,     0.35035,     0.35135,     0.35235,     0.35335,     0.35435,     0.35536,     0.35636,     0.35736,     0.35836,     0.35936,\n",
       "           0.36036,     0.36136,     0.36236,     0.36336,     0.36436,     0.36537,     0.36637,     0.36737,     0.36837,     0.36937,     0.37037,     0.37137,     0.37237,     0.37337,     0.37437,     0.37538,     0.37638,     0.37738,     0.37838,     0.37938,     0.38038,     0.38138,     0.38238,     0.38338,\n",
       "           0.38438,     0.38539,     0.38639,     0.38739,     0.38839,     0.38939,     0.39039,     0.39139,     0.39239,     0.39339,     0.39439,      0.3954,      0.3964,      0.3974,      0.3984,      0.3994,      0.4004,      0.4014,      0.4024,      0.4034,      0.4044,     0.40541,     0.40641,     0.40741,\n",
       "           0.40841,     0.40941,     0.41041,     0.41141,     0.41241,     0.41341,     0.41441,     0.41542,     0.41642,     0.41742,     0.41842,     0.41942,     0.42042,     0.42142,     0.42242,     0.42342,     0.42442,     0.42543,     0.42643,     0.42743,     0.42843,     0.42943,     0.43043,     0.43143,\n",
       "           0.43243,     0.43343,     0.43443,     0.43544,     0.43644,     0.43744,     0.43844,     0.43944,     0.44044,     0.44144,     0.44244,     0.44344,     0.44444,     0.44545,     0.44645,     0.44745,     0.44845,     0.44945,     0.45045,     0.45145,     0.45245,     0.45345,     0.45445,     0.45546,\n",
       "           0.45646,     0.45746,     0.45846,     0.45946,     0.46046,     0.46146,     0.46246,     0.46346,     0.46446,     0.46547,     0.46647,     0.46747,     0.46847,     0.46947,     0.47047,     0.47147,     0.47247,     0.47347,     0.47447,     0.47548,     0.47648,     0.47748,     0.47848,     0.47948,\n",
       "           0.48048,     0.48148,     0.48248,     0.48348,     0.48448,     0.48549,     0.48649,     0.48749,     0.48849,     0.48949,     0.49049,     0.49149,     0.49249,     0.49349,     0.49449,      0.4955,      0.4965,      0.4975,      0.4985,      0.4995,      0.5005,      0.5015,      0.5025,      0.5035,\n",
       "            0.5045,     0.50551,     0.50651,     0.50751,     0.50851,     0.50951,     0.51051,     0.51151,     0.51251,     0.51351,     0.51451,     0.51552,     0.51652,     0.51752,     0.51852,     0.51952,     0.52052,     0.52152,     0.52252,     0.52352,     0.52452,     0.52553,     0.52653,     0.52753,\n",
       "           0.52853,     0.52953,     0.53053,     0.53153,     0.53253,     0.53353,     0.53453,     0.53554,     0.53654,     0.53754,     0.53854,     0.53954,     0.54054,     0.54154,     0.54254,     0.54354,     0.54454,     0.54555,     0.54655,     0.54755,     0.54855,     0.54955,     0.55055,     0.55155,\n",
       "           0.55255,     0.55355,     0.55455,     0.55556,     0.55656,     0.55756,     0.55856,     0.55956,     0.56056,     0.56156,     0.56256,     0.56356,     0.56456,     0.56557,     0.56657,     0.56757,     0.56857,     0.56957,     0.57057,     0.57157,     0.57257,     0.57357,     0.57457,     0.57558,\n",
       "           0.57658,     0.57758,     0.57858,     0.57958,     0.58058,     0.58158,     0.58258,     0.58358,     0.58458,     0.58559,     0.58659,     0.58759,     0.58859,     0.58959,     0.59059,     0.59159,     0.59259,     0.59359,     0.59459,      0.5956,      0.5966,      0.5976,      0.5986,      0.5996,\n",
       "            0.6006,      0.6016,      0.6026,      0.6036,      0.6046,     0.60561,     0.60661,     0.60761,     0.60861,     0.60961,     0.61061,     0.61161,     0.61261,     0.61361,     0.61461,     0.61562,     0.61662,     0.61762,     0.61862,     0.61962,     0.62062,     0.62162,     0.62262,     0.62362,\n",
       "           0.62462,     0.62563,     0.62663,     0.62763,     0.62863,     0.62963,     0.63063,     0.63163,     0.63263,     0.63363,     0.63463,     0.63564,     0.63664,     0.63764,     0.63864,     0.63964,     0.64064,     0.64164,     0.64264,     0.64364,     0.64464,     0.64565,     0.64665,     0.64765,\n",
       "           0.64865,     0.64965,     0.65065,     0.65165,     0.65265,     0.65365,     0.65465,     0.65566,     0.65666,     0.65766,     0.65866,     0.65966,     0.66066,     0.66166,     0.66266,     0.66366,     0.66466,     0.66567,     0.66667,     0.66767,     0.66867,     0.66967,     0.67067,     0.67167,\n",
       "           0.67267,     0.67367,     0.67467,     0.67568,     0.67668,     0.67768,     0.67868,     0.67968,     0.68068,     0.68168,     0.68268,     0.68368,     0.68468,     0.68569,     0.68669,     0.68769,     0.68869,     0.68969,     0.69069,     0.69169,     0.69269,     0.69369,     0.69469,      0.6957,\n",
       "            0.6967,      0.6977,      0.6987,      0.6997,      0.7007,      0.7017,      0.7027,      0.7037,      0.7047,     0.70571,     0.70671,     0.70771,     0.70871,     0.70971,     0.71071,     0.71171,     0.71271,     0.71371,     0.71471,     0.71572,     0.71672,     0.71772,     0.71872,     0.71972,\n",
       "           0.72072,     0.72172,     0.72272,     0.72372,     0.72472,     0.72573,     0.72673,     0.72773,     0.72873,     0.72973,     0.73073,     0.73173,     0.73273,     0.73373,     0.73473,     0.73574,     0.73674,     0.73774,     0.73874,     0.73974,     0.74074,     0.74174,     0.74274,     0.74374,\n",
       "           0.74474,     0.74575,     0.74675,     0.74775,     0.74875,     0.74975,     0.75075,     0.75175,     0.75275,     0.75375,     0.75475,     0.75576,     0.75676,     0.75776,     0.75876,     0.75976,     0.76076,     0.76176,     0.76276,     0.76376,     0.76476,     0.76577,     0.76677,     0.76777,\n",
       "           0.76877,     0.76977,     0.77077,     0.77177,     0.77277,     0.77377,     0.77477,     0.77578,     0.77678,     0.77778,     0.77878,     0.77978,     0.78078,     0.78178,     0.78278,     0.78378,     0.78478,     0.78579,     0.78679,     0.78779,     0.78879,     0.78979,     0.79079,     0.79179,\n",
       "           0.79279,     0.79379,     0.79479,      0.7958,      0.7968,      0.7978,      0.7988,      0.7998,      0.8008,      0.8018,      0.8028,      0.8038,      0.8048,     0.80581,     0.80681,     0.80781,     0.80881,     0.80981,     0.81081,     0.81181,     0.81281,     0.81381,     0.81481,     0.81582,\n",
       "           0.81682,     0.81782,     0.81882,     0.81982,     0.82082,     0.82182,     0.82282,     0.82382,     0.82482,     0.82583,     0.82683,     0.82783,     0.82883,     0.82983,     0.83083,     0.83183,     0.83283,     0.83383,     0.83483,     0.83584,     0.83684,     0.83784,     0.83884,     0.83984,\n",
       "           0.84084,     0.84184,     0.84284,     0.84384,     0.84484,     0.84585,     0.84685,     0.84785,     0.84885,     0.84985,     0.85085,     0.85185,     0.85285,     0.85385,     0.85485,     0.85586,     0.85686,     0.85786,     0.85886,     0.85986,     0.86086,     0.86186,     0.86286,     0.86386,\n",
       "           0.86486,     0.86587,     0.86687,     0.86787,     0.86887,     0.86987,     0.87087,     0.87187,     0.87287,     0.87387,     0.87487,     0.87588,     0.87688,     0.87788,     0.87888,     0.87988,     0.88088,     0.88188,     0.88288,     0.88388,     0.88488,     0.88589,     0.88689,     0.88789,\n",
       "           0.88889,     0.88989,     0.89089,     0.89189,     0.89289,     0.89389,     0.89489,      0.8959,      0.8969,      0.8979,      0.8989,      0.8999,      0.9009,      0.9019,      0.9029,      0.9039,      0.9049,     0.90591,     0.90691,     0.90791,     0.90891,     0.90991,     0.91091,     0.91191,\n",
       "           0.91291,     0.91391,     0.91491,     0.91592,     0.91692,     0.91792,     0.91892,     0.91992,     0.92092,     0.92192,     0.92292,     0.92392,     0.92492,     0.92593,     0.92693,     0.92793,     0.92893,     0.92993,     0.93093,     0.93193,     0.93293,     0.93393,     0.93493,     0.93594,\n",
       "           0.93694,     0.93794,     0.93894,     0.93994,     0.94094,     0.94194,     0.94294,     0.94394,     0.94494,     0.94595,     0.94695,     0.94795,     0.94895,     0.94995,     0.95095,     0.95195,     0.95295,     0.95395,     0.95495,     0.95596,     0.95696,     0.95796,     0.95896,     0.95996,\n",
       "           0.96096,     0.96196,     0.96296,     0.96396,     0.96496,     0.96597,     0.96697,     0.96797,     0.96897,     0.96997,     0.97097,     0.97197,     0.97297,     0.97397,     0.97497,     0.97598,     0.97698,     0.97798,     0.97898,     0.97998,     0.98098,     0.98198,     0.98298,     0.98398,\n",
       "           0.98498,     0.98599,     0.98699,     0.98799,     0.98899,     0.98999,     0.99099,     0.99199,     0.99299,     0.99399,     0.99499,       0.996,       0.997,       0.998,       0.999,           1]), array([[          1,           1,           1,           1,           1,           1,           1,           1,           1,           1,           1,           1,           1,           1,           1,           1,           1,           1,           1,           1,           1,           1,           1,\n",
       "                  1,           1,           1,           1,           1,           1,           1,           1,           1,           1,           1,           1,           1,           1,           1,           1,           1,           1,           1,           1,           1,           1,           1,\n",
       "                  1,           1,           1,           1,           1,           1,           1,           1,           1,           1,           1,           1,           1,           1,           1,           1,           1,           1,           1,           1,           1,           1,           1,\n",
       "                  1,           1,           1,           1,           1,           1,           1,           1,     0.98592,     0.98592,     0.98592,     0.98592,     0.98592,     0.98592,     0.98592,     0.98592,      0.9726,        0.96,        0.96,     0.95455,     0.95455,     0.95455,     0.95455,\n",
       "            0.95455,     0.95455,     0.95455,     0.95455,     0.95455,     0.95455,     0.95455,     0.95455,     0.95455,     0.95455,     0.94792,     0.94792,     0.94792,     0.94792,     0.94792,     0.94792,     0.94792,     0.94792,     0.94792,     0.94215,     0.94215,     0.94215,     0.94215,\n",
       "            0.94215,     0.94215,     0.94215,     0.94215,     0.94215,     0.94215,     0.94215,     0.94215,     0.94215,     0.94215,     0.94215,     0.94215,     0.94215,     0.94215,     0.94215,     0.94215,     0.94215,     0.94215,     0.94215,     0.94215,     0.94215,     0.94215,     0.94215,\n",
       "              0.936,       0.936,       0.936,       0.936,     0.92969,     0.92969,     0.92754,     0.92754,     0.92754,     0.92754,     0.92754,     0.92754,     0.92754,     0.92754,     0.92754,     0.92754,     0.92754,     0.92308,     0.92308,     0.92308,     0.92308,     0.92308,        0.92,\n",
       "               0.92,        0.92,        0.92,        0.92,        0.92,        0.92,        0.92,        0.92,        0.92,        0.92,        0.92,        0.92,        0.92,        0.92,        0.92,        0.92,        0.92,        0.92,        0.92,        0.92,        0.92,        0.92,        0.92,\n",
       "               0.92,        0.92,        0.92,        0.92,        0.92,        0.92,        0.92,        0.92,        0.92,        0.92,        0.92,     0.91573,     0.91573,     0.91573,     0.91257,     0.91257,     0.91257,     0.91257,     0.90526,     0.90526,     0.90526,     0.90526,     0.90526,\n",
       "            0.90526,     0.90526,     0.90206,     0.90206,     0.90206,     0.90135,     0.90135,     0.90135,     0.90135,     0.90135,     0.90135,     0.90135,     0.90135,     0.90135,     0.90135,     0.90135,     0.90135,     0.90135,     0.90135,     0.90135,     0.90135,     0.90135,     0.90135,\n",
       "            0.90135,     0.90135,     0.90135,     0.90135,     0.90135,     0.90135,     0.90135,     0.90135,     0.90135,     0.90135,     0.90135,     0.90135,     0.90135,     0.90135,     0.89778,      0.8952,      0.8952,      0.8952,     0.89177,     0.89177,     0.88936,     0.88936,     0.88936,\n",
       "            0.88797,     0.88797,     0.88797,     0.88797,     0.88797,     0.88797,     0.88755,     0.88755,     0.88755,     0.88755,     0.88755,     0.88755,     0.88755,     0.88755,     0.88755,     0.88492,     0.88492,     0.87645,     0.87645,     0.87645,     0.87645,     0.87645,     0.87405,\n",
       "            0.87405,     0.87226,     0.87226,     0.87226,     0.87226,     0.87226,     0.87226,     0.87226,     0.87226,     0.87226,     0.87226,     0.87226,     0.87226,     0.87226,     0.86786,     0.86786,     0.86786,     0.86786,     0.86525,     0.86525,     0.86159,     0.86159,     0.86159,\n",
       "            0.86159,     0.86159,     0.86159,     0.86102,     0.86102,     0.86102,     0.86102,     0.86102,     0.86102,     0.85906,     0.85906,     0.85574,     0.85574,     0.85574,     0.85574,     0.85574,     0.85574,      0.8539,      0.8539,      0.8539,     0.85304,     0.85304,     0.85304,\n",
       "            0.85304,     0.85079,     0.85079,     0.84858,     0.84049,     0.84049,     0.84049,     0.84049,     0.84049,     0.84049,     0.83841,     0.83636,     0.83483,     0.83483,     0.83483,     0.83333,     0.83333,     0.83136,     0.82991,     0.82991,     0.82991,     0.82899,     0.82899,\n",
       "            0.82899,     0.82709,     0.82709,     0.82535,     0.82535,     0.82535,     0.82535,     0.82535,     0.82535,     0.82535,     0.82451,     0.82451,     0.82451,     0.82418,     0.82418,     0.82418,     0.82418,     0.82418,     0.82065,     0.82065,     0.82065,      0.8172,      0.8172,\n",
       "            0.81649,     0.81649,     0.81649,     0.81649,     0.81627,     0.81627,     0.81627,     0.81627,     0.81627,      0.8151,      0.8151,     0.81347,     0.81234,     0.81234,     0.81234,     0.80867,     0.80759,     0.80759,     0.80451,     0.80451,     0.80451,     0.80397,     0.80397,\n",
       "            0.80397,     0.80247,     0.80247,     0.79904,     0.79904,     0.79904,     0.79904,     0.79904,     0.79904,     0.79904,     0.79904,     0.79904,     0.79904,     0.79762,     0.79762,     0.79625,     0.79625,     0.79625,     0.79625,     0.79625,     0.79625,     0.79487,     0.79167,\n",
       "             0.7867,     0.78539,     0.78539,       0.783,       0.783,       0.783,       0.783,       0.783,       0.783,       0.783,     0.78174,     0.78097,     0.78097,     0.77802,     0.77802,     0.77802,     0.77802,     0.77802,     0.77802,     0.77802,     0.77802,     0.77802,     0.77802,\n",
       "            0.77612,     0.77612,     0.77612,     0.77612,     0.77167,     0.76891,     0.76618,     0.76446,     0.76446,     0.76446,     0.76446,     0.75714,     0.75659,     0.75659,     0.75659,     0.75591,     0.75591,     0.75591,     0.75591,     0.75591,     0.75591,     0.75591,     0.75591,\n",
       "            0.75591,     0.75591,     0.75591,     0.75591,     0.75591,     0.75195,     0.74806,      0.7471,      0.7471,     0.74615,     0.74427,     0.74427,     0.73913,     0.73684,     0.73684,     0.73321,     0.73148,     0.73148,     0.72928,     0.72844,     0.72844,     0.72414,     0.72414,\n",
       "            0.72383,     0.72383,     0.72302,     0.72302,     0.72064,     0.72064,     0.72064,     0.71986,     0.71986,      0.7188,      0.7188,      0.7188,     0.71678,     0.71577,     0.71577,     0.71577,     0.71577,     0.71256,     0.70819,     0.70658,     0.70658,     0.70658,     0.70658,\n",
       "            0.70658,     0.70638,     0.70638,     0.70638,     0.70451,     0.70383,     0.70248,     0.70248,     0.70248,     0.70115,     0.70115,     0.70049,      0.6953,     0.69243,     0.69243,     0.68304,     0.68139,     0.67868,     0.67812,     0.67652,     0.67652,     0.67597,     0.67127,\n",
       "            0.66869,     0.66869,     0.66869,     0.66869,     0.66216,     0.66168,     0.65051,     0.64912,     0.64586,     0.64586,     0.64502,     0.64502,     0.64092,     0.64011,     0.64011,     0.64011,     0.63854,     0.63854,     0.63854,     0.63854,     0.63854,     0.63636,     0.63245,\n",
       "            0.63034,     0.62826,     0.62027,     0.62027,     0.61662,     0.61303,     0.61273,     0.61243,     0.61133,     0.61133,     0.61024,       0.607,       0.607,       0.607,       0.607,     0.60645,     0.60645,     0.59772,     0.59747,     0.59647,     0.59647,     0.59473,     0.59012,\n",
       "            0.59012,     0.59012,     0.59012,     0.59012,     0.58845,     0.58824,     0.58445,     0.58283,     0.58263,     0.58263,     0.58014,     0.58014,     0.57515,     0.56431,     0.56416,     0.56416,     0.55886,     0.55872,     0.55859,     0.55846,     0.55846,     0.55681,     0.55681,\n",
       "            0.55681,     0.55481,     0.55407,     0.55407,     0.55028,     0.54705,     0.54705,     0.54506,     0.54506,     0.54506,     0.54194,     0.54194,     0.53895,     0.53659,     0.53651,     0.53651,     0.53417,     0.53076,     0.53063,     0.53063,     0.53063,     0.52729,     0.52347,\n",
       "            0.51552,     0.51552,     0.51241,     0.51241,     0.50341,     0.50097,     0.50097,     0.50048,     0.49857,     0.49857,     0.49857,     0.49668,      0.4911,     0.48747,     0.48479,     0.48479,     0.47909,     0.47482,     0.47274,       0.472,       0.472,       0.472,     0.47163,\n",
       "            0.46591,     0.45876,     0.45648,     0.45648,     0.44816,     0.44676,      0.4428,     0.44144,     0.43902,     0.43902,     0.43524,     0.43291,     0.42488,     0.42302,     0.41827,     0.41827,     0.41743,     0.41597,     0.41018,     0.39411,     0.39398,     0.39398,     0.38667,\n",
       "            0.38547,     0.38392,     0.38392,     0.38392,     0.37374,     0.36846,     0.36429,      0.3607,     0.35833,     0.35833,     0.35737,     0.35476,     0.35476,     0.35476,     0.35294,     0.35294,     0.35224,     0.34241,     0.33294,     0.32966,     0.32626,     0.32626,     0.32445,\n",
       "            0.32445,     0.32445,     0.31922,     0.31922,     0.31733,     0.31733,     0.31001,     0.30988,     0.30421,     0.30421,     0.28792,      0.2867,     0.28273,      0.2757,     0.27078,     0.27078,      0.2705,     0.26411,     0.26385,     0.25378,     0.24298,     0.24298,     0.24269,\n",
       "            0.24091,     0.23555,     0.23243,     0.22934,     0.22934,     0.22934,     0.22858,     0.22189,     0.21276,     0.21276,     0.20515,     0.20416,      0.2038,     0.20373,     0.19577,     0.19577,     0.19265,     0.18593,     0.18593,     0.18106,     0.17599,     0.17599,     0.16699,\n",
       "            0.16667,     0.16518,     0.16509,     0.15937,     0.15937,     0.15449,     0.15331,     0.15276,     0.14762,     0.14762,     0.14614,       0.146,     0.14107,     0.14075,     0.13515,     0.13515,     0.13371,     0.12798,     0.12621,     0.12606,     0.12458,     0.12458,     0.12163,\n",
       "            0.12138,     0.12105,     0.12094,     0.11971,     0.11971,     0.11956,     0.11887,     0.11498,     0.11476,     0.11476,     0.11476,     0.11339,     0.10715,     0.10517,     0.10371,     0.10371,    0.099735,      0.0988,    0.098756,    0.096973,    0.095868,    0.095868,    0.095224,\n",
       "           0.095133,    0.094959,     0.09414,    0.093431,    0.093431,    0.092288,     0.09226,    0.089759,    0.086588,    0.083631,    0.083631,    0.083323,    0.082228,    0.079651,     0.07934,     0.07934,    0.079089,    0.073095,    0.073085,    0.072018,    0.071544,    0.071544,    0.070865,\n",
       "           0.064311,    0.061813,    0.061493,    0.061172,    0.060852,    0.060532,    0.060212,    0.059891,    0.059571,    0.059251,     0.05893,     0.05861,     0.05829,     0.05797,    0.057649,    0.057329,    0.057009,    0.056689,    0.056368,    0.056048,    0.055728,    0.055407,    0.055087,\n",
       "           0.054767,    0.054447,    0.054126,    0.053806,    0.053486,    0.053166,    0.052845,    0.052525,    0.052205,    0.051884,    0.051564,    0.051244,    0.050924,    0.050603,    0.050283,    0.049963,    0.049643,    0.049322,    0.049002,    0.048682,    0.048361,    0.048041,    0.047721,\n",
       "           0.047401,     0.04708,     0.04676,     0.04644,    0.046119,    0.045799,    0.045479,    0.045159,    0.044838,    0.044518,    0.044198,    0.043878,    0.043557,    0.043237,    0.042917,    0.042596,    0.042276,    0.041956,    0.041636,    0.041315,    0.040995,    0.040675,    0.040355,\n",
       "           0.040034,    0.039714,    0.039394,    0.039073,    0.038753,    0.038433,    0.038113,    0.037792,    0.037472,    0.037152,    0.036832,    0.036511,    0.036191,    0.035871,     0.03555,     0.03523,     0.03491,     0.03459,    0.034269,    0.033949,    0.033629,    0.033309,    0.032988,\n",
       "           0.032668,    0.032348,    0.032027,    0.031707,    0.031387,    0.031067,    0.030746,    0.030426,    0.030106,    0.029786,    0.029465,    0.029145,    0.028825,    0.028504,    0.028184,    0.027864,    0.027544,    0.027223,    0.026903,    0.026583,    0.026262,    0.025942,    0.025622,\n",
       "           0.025302,    0.024981,    0.024661,    0.024341,    0.024021,      0.0237,     0.02338,     0.02306,    0.022739,    0.022419,    0.022099,    0.021779,    0.021458,    0.021138,    0.020818,    0.020498,    0.020177,    0.019857,    0.019537,    0.019216,    0.018896,    0.018576,    0.018256,\n",
       "           0.017935,    0.017615,    0.017295,    0.016975,    0.016654,    0.016334,    0.016014,    0.015693,    0.015373,    0.015053,    0.014733,    0.014412,    0.014092,    0.013772,    0.013452,    0.013131,    0.012811,    0.012491,     0.01217,     0.01185,     0.01153,     0.01121,    0.010889,\n",
       "           0.010569,    0.010249,   0.0099285,   0.0096082,    0.009288,   0.0089677,   0.0086474,   0.0083271,   0.0080069,   0.0076866,   0.0073663,    0.007046,   0.0067258,   0.0064055,   0.0060852,   0.0057649,   0.0054447,   0.0051244,   0.0048041,   0.0044838,   0.0041636,   0.0038433,    0.003523,\n",
       "          0.0032027,   0.0028825,   0.0025622,   0.0022419,   0.0019216,   0.0016014,   0.0012811,  0.00096082,  0.00064055,  0.00032027,           0]]), 'Recall', 'Precision'], [array([          0,    0.001001,    0.002002,    0.003003,    0.004004,    0.005005,    0.006006,    0.007007,    0.008008,    0.009009,     0.01001,    0.011011,    0.012012,    0.013013,    0.014014,    0.015015,    0.016016,    0.017017,    0.018018,    0.019019,     0.02002,    0.021021,    0.022022,    0.023023,\n",
       "          0.024024,    0.025025,    0.026026,    0.027027,    0.028028,    0.029029,     0.03003,    0.031031,    0.032032,    0.033033,    0.034034,    0.035035,    0.036036,    0.037037,    0.038038,    0.039039,     0.04004,    0.041041,    0.042042,    0.043043,    0.044044,    0.045045,    0.046046,    0.047047,\n",
       "          0.048048,    0.049049,     0.05005,    0.051051,    0.052052,    0.053053,    0.054054,    0.055055,    0.056056,    0.057057,    0.058058,    0.059059,     0.06006,    0.061061,    0.062062,    0.063063,    0.064064,    0.065065,    0.066066,    0.067067,    0.068068,    0.069069,     0.07007,    0.071071,\n",
       "          0.072072,    0.073073,    0.074074,    0.075075,    0.076076,    0.077077,    0.078078,    0.079079,     0.08008,    0.081081,    0.082082,    0.083083,    0.084084,    0.085085,    0.086086,    0.087087,    0.088088,    0.089089,     0.09009,    0.091091,    0.092092,    0.093093,    0.094094,    0.095095,\n",
       "          0.096096,    0.097097,    0.098098,    0.099099,      0.1001,      0.1011,      0.1021,      0.1031,      0.1041,     0.10511,     0.10611,     0.10711,     0.10811,     0.10911,     0.11011,     0.11111,     0.11211,     0.11311,     0.11411,     0.11512,     0.11612,     0.11712,     0.11812,     0.11912,\n",
       "           0.12012,     0.12112,     0.12212,     0.12312,     0.12412,     0.12513,     0.12613,     0.12713,     0.12813,     0.12913,     0.13013,     0.13113,     0.13213,     0.13313,     0.13413,     0.13514,     0.13614,     0.13714,     0.13814,     0.13914,     0.14014,     0.14114,     0.14214,     0.14314,\n",
       "           0.14414,     0.14515,     0.14615,     0.14715,     0.14815,     0.14915,     0.15015,     0.15115,     0.15215,     0.15315,     0.15415,     0.15516,     0.15616,     0.15716,     0.15816,     0.15916,     0.16016,     0.16116,     0.16216,     0.16316,     0.16416,     0.16517,     0.16617,     0.16717,\n",
       "           0.16817,     0.16917,     0.17017,     0.17117,     0.17217,     0.17317,     0.17417,     0.17518,     0.17618,     0.17718,     0.17818,     0.17918,     0.18018,     0.18118,     0.18218,     0.18318,     0.18418,     0.18519,     0.18619,     0.18719,     0.18819,     0.18919,     0.19019,     0.19119,\n",
       "           0.19219,     0.19319,     0.19419,      0.1952,      0.1962,      0.1972,      0.1982,      0.1992,      0.2002,      0.2012,      0.2022,      0.2032,      0.2042,     0.20521,     0.20621,     0.20721,     0.20821,     0.20921,     0.21021,     0.21121,     0.21221,     0.21321,     0.21421,     0.21522,\n",
       "           0.21622,     0.21722,     0.21822,     0.21922,     0.22022,     0.22122,     0.22222,     0.22322,     0.22422,     0.22523,     0.22623,     0.22723,     0.22823,     0.22923,     0.23023,     0.23123,     0.23223,     0.23323,     0.23423,     0.23524,     0.23624,     0.23724,     0.23824,     0.23924,\n",
       "           0.24024,     0.24124,     0.24224,     0.24324,     0.24424,     0.24525,     0.24625,     0.24725,     0.24825,     0.24925,     0.25025,     0.25125,     0.25225,     0.25325,     0.25425,     0.25526,     0.25626,     0.25726,     0.25826,     0.25926,     0.26026,     0.26126,     0.26226,     0.26326,\n",
       "           0.26426,     0.26527,     0.26627,     0.26727,     0.26827,     0.26927,     0.27027,     0.27127,     0.27227,     0.27327,     0.27427,     0.27528,     0.27628,     0.27728,     0.27828,     0.27928,     0.28028,     0.28128,     0.28228,     0.28328,     0.28428,     0.28529,     0.28629,     0.28729,\n",
       "           0.28829,     0.28929,     0.29029,     0.29129,     0.29229,     0.29329,     0.29429,      0.2953,      0.2963,      0.2973,      0.2983,      0.2993,      0.3003,      0.3013,      0.3023,      0.3033,      0.3043,     0.30531,     0.30631,     0.30731,     0.30831,     0.30931,     0.31031,     0.31131,\n",
       "           0.31231,     0.31331,     0.31431,     0.31532,     0.31632,     0.31732,     0.31832,     0.31932,     0.32032,     0.32132,     0.32232,     0.32332,     0.32432,     0.32533,     0.32633,     0.32733,     0.32833,     0.32933,     0.33033,     0.33133,     0.33233,     0.33333,     0.33433,     0.33534,\n",
       "           0.33634,     0.33734,     0.33834,     0.33934,     0.34034,     0.34134,     0.34234,     0.34334,     0.34434,     0.34535,     0.34635,     0.34735,     0.34835,     0.34935,     0.35035,     0.35135,     0.35235,     0.35335,     0.35435,     0.35536,     0.35636,     0.35736,     0.35836,     0.35936,\n",
       "           0.36036,     0.36136,     0.36236,     0.36336,     0.36436,     0.36537,     0.36637,     0.36737,     0.36837,     0.36937,     0.37037,     0.37137,     0.37237,     0.37337,     0.37437,     0.37538,     0.37638,     0.37738,     0.37838,     0.37938,     0.38038,     0.38138,     0.38238,     0.38338,\n",
       "           0.38438,     0.38539,     0.38639,     0.38739,     0.38839,     0.38939,     0.39039,     0.39139,     0.39239,     0.39339,     0.39439,      0.3954,      0.3964,      0.3974,      0.3984,      0.3994,      0.4004,      0.4014,      0.4024,      0.4034,      0.4044,     0.40541,     0.40641,     0.40741,\n",
       "           0.40841,     0.40941,     0.41041,     0.41141,     0.41241,     0.41341,     0.41441,     0.41542,     0.41642,     0.41742,     0.41842,     0.41942,     0.42042,     0.42142,     0.42242,     0.42342,     0.42442,     0.42543,     0.42643,     0.42743,     0.42843,     0.42943,     0.43043,     0.43143,\n",
       "           0.43243,     0.43343,     0.43443,     0.43544,     0.43644,     0.43744,     0.43844,     0.43944,     0.44044,     0.44144,     0.44244,     0.44344,     0.44444,     0.44545,     0.44645,     0.44745,     0.44845,     0.44945,     0.45045,     0.45145,     0.45245,     0.45345,     0.45445,     0.45546,\n",
       "           0.45646,     0.45746,     0.45846,     0.45946,     0.46046,     0.46146,     0.46246,     0.46346,     0.46446,     0.46547,     0.46647,     0.46747,     0.46847,     0.46947,     0.47047,     0.47147,     0.47247,     0.47347,     0.47447,     0.47548,     0.47648,     0.47748,     0.47848,     0.47948,\n",
       "           0.48048,     0.48148,     0.48248,     0.48348,     0.48448,     0.48549,     0.48649,     0.48749,     0.48849,     0.48949,     0.49049,     0.49149,     0.49249,     0.49349,     0.49449,      0.4955,      0.4965,      0.4975,      0.4985,      0.4995,      0.5005,      0.5015,      0.5025,      0.5035,\n",
       "            0.5045,     0.50551,     0.50651,     0.50751,     0.50851,     0.50951,     0.51051,     0.51151,     0.51251,     0.51351,     0.51451,     0.51552,     0.51652,     0.51752,     0.51852,     0.51952,     0.52052,     0.52152,     0.52252,     0.52352,     0.52452,     0.52553,     0.52653,     0.52753,\n",
       "           0.52853,     0.52953,     0.53053,     0.53153,     0.53253,     0.53353,     0.53453,     0.53554,     0.53654,     0.53754,     0.53854,     0.53954,     0.54054,     0.54154,     0.54254,     0.54354,     0.54454,     0.54555,     0.54655,     0.54755,     0.54855,     0.54955,     0.55055,     0.55155,\n",
       "           0.55255,     0.55355,     0.55455,     0.55556,     0.55656,     0.55756,     0.55856,     0.55956,     0.56056,     0.56156,     0.56256,     0.56356,     0.56456,     0.56557,     0.56657,     0.56757,     0.56857,     0.56957,     0.57057,     0.57157,     0.57257,     0.57357,     0.57457,     0.57558,\n",
       "           0.57658,     0.57758,     0.57858,     0.57958,     0.58058,     0.58158,     0.58258,     0.58358,     0.58458,     0.58559,     0.58659,     0.58759,     0.58859,     0.58959,     0.59059,     0.59159,     0.59259,     0.59359,     0.59459,      0.5956,      0.5966,      0.5976,      0.5986,      0.5996,\n",
       "            0.6006,      0.6016,      0.6026,      0.6036,      0.6046,     0.60561,     0.60661,     0.60761,     0.60861,     0.60961,     0.61061,     0.61161,     0.61261,     0.61361,     0.61461,     0.61562,     0.61662,     0.61762,     0.61862,     0.61962,     0.62062,     0.62162,     0.62262,     0.62362,\n",
       "           0.62462,     0.62563,     0.62663,     0.62763,     0.62863,     0.62963,     0.63063,     0.63163,     0.63263,     0.63363,     0.63463,     0.63564,     0.63664,     0.63764,     0.63864,     0.63964,     0.64064,     0.64164,     0.64264,     0.64364,     0.64464,     0.64565,     0.64665,     0.64765,\n",
       "           0.64865,     0.64965,     0.65065,     0.65165,     0.65265,     0.65365,     0.65465,     0.65566,     0.65666,     0.65766,     0.65866,     0.65966,     0.66066,     0.66166,     0.66266,     0.66366,     0.66466,     0.66567,     0.66667,     0.66767,     0.66867,     0.66967,     0.67067,     0.67167,\n",
       "           0.67267,     0.67367,     0.67467,     0.67568,     0.67668,     0.67768,     0.67868,     0.67968,     0.68068,     0.68168,     0.68268,     0.68368,     0.68468,     0.68569,     0.68669,     0.68769,     0.68869,     0.68969,     0.69069,     0.69169,     0.69269,     0.69369,     0.69469,      0.6957,\n",
       "            0.6967,      0.6977,      0.6987,      0.6997,      0.7007,      0.7017,      0.7027,      0.7037,      0.7047,     0.70571,     0.70671,     0.70771,     0.70871,     0.70971,     0.71071,     0.71171,     0.71271,     0.71371,     0.71471,     0.71572,     0.71672,     0.71772,     0.71872,     0.71972,\n",
       "           0.72072,     0.72172,     0.72272,     0.72372,     0.72472,     0.72573,     0.72673,     0.72773,     0.72873,     0.72973,     0.73073,     0.73173,     0.73273,     0.73373,     0.73473,     0.73574,     0.73674,     0.73774,     0.73874,     0.73974,     0.74074,     0.74174,     0.74274,     0.74374,\n",
       "           0.74474,     0.74575,     0.74675,     0.74775,     0.74875,     0.74975,     0.75075,     0.75175,     0.75275,     0.75375,     0.75475,     0.75576,     0.75676,     0.75776,     0.75876,     0.75976,     0.76076,     0.76176,     0.76276,     0.76376,     0.76476,     0.76577,     0.76677,     0.76777,\n",
       "           0.76877,     0.76977,     0.77077,     0.77177,     0.77277,     0.77377,     0.77477,     0.77578,     0.77678,     0.77778,     0.77878,     0.77978,     0.78078,     0.78178,     0.78278,     0.78378,     0.78478,     0.78579,     0.78679,     0.78779,     0.78879,     0.78979,     0.79079,     0.79179,\n",
       "           0.79279,     0.79379,     0.79479,      0.7958,      0.7968,      0.7978,      0.7988,      0.7998,      0.8008,      0.8018,      0.8028,      0.8038,      0.8048,     0.80581,     0.80681,     0.80781,     0.80881,     0.80981,     0.81081,     0.81181,     0.81281,     0.81381,     0.81481,     0.81582,\n",
       "           0.81682,     0.81782,     0.81882,     0.81982,     0.82082,     0.82182,     0.82282,     0.82382,     0.82482,     0.82583,     0.82683,     0.82783,     0.82883,     0.82983,     0.83083,     0.83183,     0.83283,     0.83383,     0.83483,     0.83584,     0.83684,     0.83784,     0.83884,     0.83984,\n",
       "           0.84084,     0.84184,     0.84284,     0.84384,     0.84484,     0.84585,     0.84685,     0.84785,     0.84885,     0.84985,     0.85085,     0.85185,     0.85285,     0.85385,     0.85485,     0.85586,     0.85686,     0.85786,     0.85886,     0.85986,     0.86086,     0.86186,     0.86286,     0.86386,\n",
       "           0.86486,     0.86587,     0.86687,     0.86787,     0.86887,     0.86987,     0.87087,     0.87187,     0.87287,     0.87387,     0.87487,     0.87588,     0.87688,     0.87788,     0.87888,     0.87988,     0.88088,     0.88188,     0.88288,     0.88388,     0.88488,     0.88589,     0.88689,     0.88789,\n",
       "           0.88889,     0.88989,     0.89089,     0.89189,     0.89289,     0.89389,     0.89489,      0.8959,      0.8969,      0.8979,      0.8989,      0.8999,      0.9009,      0.9019,      0.9029,      0.9039,      0.9049,     0.90591,     0.90691,     0.90791,     0.90891,     0.90991,     0.91091,     0.91191,\n",
       "           0.91291,     0.91391,     0.91491,     0.91592,     0.91692,     0.91792,     0.91892,     0.91992,     0.92092,     0.92192,     0.92292,     0.92392,     0.92492,     0.92593,     0.92693,     0.92793,     0.92893,     0.92993,     0.93093,     0.93193,     0.93293,     0.93393,     0.93493,     0.93594,\n",
       "           0.93694,     0.93794,     0.93894,     0.93994,     0.94094,     0.94194,     0.94294,     0.94394,     0.94494,     0.94595,     0.94695,     0.94795,     0.94895,     0.94995,     0.95095,     0.95195,     0.95295,     0.95395,     0.95495,     0.95596,     0.95696,     0.95796,     0.95896,     0.95996,\n",
       "           0.96096,     0.96196,     0.96296,     0.96396,     0.96496,     0.96597,     0.96697,     0.96797,     0.96897,     0.96997,     0.97097,     0.97197,     0.97297,     0.97397,     0.97497,     0.97598,     0.97698,     0.97798,     0.97898,     0.97998,     0.98098,     0.98198,     0.98298,     0.98398,\n",
       "           0.98498,     0.98599,     0.98699,     0.98799,     0.98899,     0.98999,     0.99099,     0.99199,     0.99299,     0.99399,     0.99499,       0.996,       0.997,       0.998,       0.999,           1]), array([[    0.11511,     0.11511,     0.13585,     0.15511,     0.17124,     0.18495,     0.19977,     0.21398,     0.22861,     0.24424,      0.2567,     0.26974,     0.28332,     0.29551,     0.30617,     0.31614,     0.32423,     0.33322,     0.34205,     0.34915,     0.35753,     0.36633,     0.37858,\n",
       "            0.38589,     0.39279,     0.40023,     0.40726,     0.41379,     0.42206,     0.42903,     0.43655,     0.44204,     0.45029,     0.45753,     0.46452,     0.46869,     0.47569,     0.48258,     0.48845,     0.49264,     0.49919,     0.50477,     0.51062,     0.51153,     0.51466,     0.51862,\n",
       "            0.52096,     0.52465,     0.52698,     0.52899,     0.52976,     0.53457,       0.536,     0.53966,     0.54081,     0.54265,     0.54433,      0.5444,     0.54581,     0.54763,     0.55144,     0.55202,     0.55388,     0.55618,     0.55718,     0.55693,     0.55744,     0.55995,     0.56218,\n",
       "            0.56312,     0.56423,     0.56566,     0.56731,     0.56854,     0.56906,     0.56999,     0.57138,     0.57249,     0.57348,     0.57344,     0.57392,      0.5747,     0.57615,     0.57659,     0.57712,     0.57571,     0.57589,     0.57532,     0.57495,     0.57651,     0.57716,     0.57679,\n",
       "            0.57853,     0.58086,     0.58114,     0.58202,     0.58241,     0.58326,     0.58272,     0.58301,      0.5832,     0.58452,     0.58347,     0.58364,     0.58169,     0.58202,     0.58354,     0.58349,     0.58356,     0.58413,     0.58564,     0.58625,     0.58578,     0.58485,     0.58472,\n",
       "             0.5843,     0.58356,      0.5845,     0.58443,     0.58508,     0.58621,     0.58698,     0.58816,     0.58859,     0.58929,     0.58952,      0.5889,     0.58962,     0.58991,     0.59037,     0.58756,     0.58738,     0.58862,     0.58774,      0.5878,     0.58687,     0.58657,     0.58704,\n",
       "            0.58779,     0.58778,     0.58745,      0.5878,     0.58707,     0.58779,      0.5883,     0.58951,     0.59007,     0.59112,     0.59139,     0.59132,     0.59292,     0.59245,     0.59169,     0.59031,     0.59056,     0.59081,     0.59165,     0.59084,     0.59105,     0.59181,     0.59149,\n",
       "            0.59202,     0.59143,     0.59119,     0.59212,      0.5933,     0.59386,     0.59337,     0.59352,     0.59367,     0.59408,     0.59399,     0.59429,     0.59481,     0.59492,     0.59345,     0.59215,     0.59246,     0.59191,     0.59204,     0.59184,      0.5903,     0.58912,     0.58689,\n",
       "            0.58682,     0.58746,      0.5883,     0.58755,     0.58788,     0.58617,     0.58627,     0.58553,     0.58369,     0.58341,      0.5822,     0.58116,     0.58162,     0.58091,     0.57949,     0.57798,      0.5776,     0.57894,     0.57842,     0.57797,     0.57639,     0.57701,     0.57617,\n",
       "            0.57635,     0.57669,      0.5771,     0.57628,     0.57609,     0.57625,     0.57642,     0.57693,     0.57719,     0.57754,     0.57603,     0.57636,     0.57564,     0.57511,     0.57448,     0.57471,     0.57457,     0.57366,     0.57183,     0.56942,     0.56827,     0.56842,     0.56857,\n",
       "             0.5669,     0.56602,     0.56592,     0.56555,     0.56518,     0.56447,     0.56314,     0.56352,     0.56375,     0.56392,     0.56415,     0.56463,     0.56395,     0.56339,      0.5629,     0.56223,     0.56169,     0.56205,     0.56215,     0.56225,     0.56235,     0.56245,     0.56177,\n",
       "            0.56119,     0.56098,     0.56111,     0.56124,     0.56175,      0.5605,     0.55922,     0.55951,     0.55408,     0.55345,      0.5532,      0.5532,     0.55296,     0.55273,      0.5525,     0.55226,     0.55124,     0.55235,      0.5504,      0.5495,     0.54907,      0.5485,     0.54813,\n",
       "            0.54776,     0.54679,     0.54561,     0.54446,     0.54351,     0.54397,     0.54425,     0.54357,     0.54315,     0.54273,     0.54321,     0.54338,     0.54236,     0.54259,     0.54227,     0.54166,     0.54012,     0.53968,     0.53924,     0.53821,     0.53763,     0.53754,     0.53707,\n",
       "            0.53648,     0.53539,     0.53336,     0.53292,     0.53249,     0.53209,     0.53172,     0.53136,     0.53015,     0.52731,     0.52688,     0.52709,     0.52742,     0.52778,     0.52687,     0.52643,     0.52444,     0.52367,     0.52382,     0.52397,     0.52171,     0.52245,     0.52183,\n",
       "            0.52104,     0.52016,     0.52031,     0.52046,     0.51942,     0.51964,     0.51968,     0.51869,     0.51793,     0.51777,     0.51728,     0.51701,     0.51729,     0.51518,      0.5132,     0.51117,     0.51045,      0.5106,     0.51075,     0.50963,     0.50786,     0.50721,     0.50743,\n",
       "            0.50704,     0.50631,     0.50522,     0.50581,     0.50546,     0.50511,     0.50476,      0.5036,     0.50347,      0.5036,     0.50373,     0.50337,     0.50191,     0.50051,     0.49939,     0.49888,     0.49837,     0.49772,     0.49706,     0.49638,     0.49584,     0.49506,     0.49195,\n",
       "            0.49045,     0.48987,     0.48944,     0.48917,     0.48859,     0.48844,     0.48688,      0.4863,     0.48556,     0.48462,     0.48482,     0.48497,     0.48332,     0.48257,     0.48267,     0.48173,     0.48002,     0.47846,     0.47718,     0.47727,     0.47736,     0.47746,     0.47717,\n",
       "            0.47638,     0.47578,     0.47545,     0.47569,     0.47232,     0.46935,     0.46954,     0.46975,      0.4706,     0.46959,     0.46927,     0.46895,     0.46863,     0.46853,     0.46846,     0.46616,     0.46445,     0.46356,     0.46124,     0.46143,     0.46043,     0.45906,     0.45845,\n",
       "              0.458,     0.45755,     0.45583,     0.45505,     0.45337,     0.45279,     0.45235,     0.45191,     0.44976,     0.44711,     0.44637,     0.44659,     0.44634,     0.44609,     0.44583,     0.44558,     0.44533,     0.44217,     0.44128,     0.43981,     0.44009,     0.44039,     0.43915,\n",
       "            0.43929,     0.43931,     0.43831,     0.43701,     0.43609,     0.43538,     0.43449,     0.43381,     0.43405,     0.43425,     0.43443,     0.43422,     0.43329,      0.4314,     0.43104,     0.43068,     0.43032,      0.4299,     0.42947,     0.42905,     0.42771,     0.42554,       0.425,\n",
       "            0.42461,     0.42433,     0.42338,     0.42212,      0.4215,     0.42095,      0.4208,     0.41985,     0.41834,     0.41773,     0.41713,     0.41603,       0.415,     0.41414,     0.41268,     0.41289,     0.41332,     0.41083,     0.40617,     0.40386,     0.40216,     0.39838,     0.39692,\n",
       "            0.39572,      0.3949,     0.39446,     0.39401,     0.39362,     0.39392,     0.39323,     0.39254,     0.39166,     0.39024,     0.38963,     0.38938,     0.38851,     0.38833,     0.38842,     0.38852,     0.38862,       0.386,     0.38424,     0.38411,     0.38357,     0.38302,      0.3832,\n",
       "            0.38232,     0.38144,     0.38055,      0.3797,     0.37889,     0.37713,     0.37352,     0.36984,     0.36875,     0.36819,     0.36627,     0.36512,      0.3639,     0.36247,     0.36091,     0.35759,     0.35619,     0.35541,     0.35338,     0.35256,     0.35165,       0.347,     0.34728,\n",
       "            0.34605,     0.34411,     0.34417,     0.34424,      0.3443,     0.34436,      0.3441,     0.34285,     0.34291,     0.34298,     0.34305,     0.34311,     0.34202,     0.34013,     0.33931,     0.33865,     0.33857,     0.33743,     0.33482,     0.33393,     0.33241,     0.33148,      0.3308,\n",
       "             0.3306,     0.32918,     0.32792,     0.32444,     0.32456,     0.32468,     0.32381,     0.32255,     0.32145,     0.32026,     0.31942,      0.3188,     0.31812,     0.31727,     0.31603,     0.31351,     0.31254,     0.31175,     0.30972,     0.30887,     0.30808,     0.30752,     0.30697,\n",
       "            0.30628,     0.30424,     0.30308,     0.30221,     0.30135,      0.3007,     0.30007,     0.29833,     0.29736,     0.29679,     0.29622,     0.29217,     0.29121,     0.28825,     0.28554,     0.28499,     0.28444,      0.2832,      0.2817,     0.28109,     0.28048,     0.27954,     0.27825,\n",
       "            0.27614,     0.27531,     0.27547,     0.27552,     0.27556,      0.2756,     0.27564,     0.27568,     0.27546,      0.2732,     0.27233,     0.27061,     0.26535,     0.26335,     0.26087,     0.25721,     0.25596,     0.25533,      0.2547,      0.2521,     0.24928,     0.24935,     0.24894,\n",
       "            0.24854,     0.24814,     0.24774,     0.24609,     0.24588,     0.24379,     0.24244,     0.24052,     0.24069,     0.23991,     0.23871,     0.23794,     0.23716,     0.23646,     0.23577,     0.23509,     0.23447,     0.23386,     0.23323,     0.23242,     0.23161,     0.22906,     0.22635,\n",
       "             0.2216,     0.22109,     0.22057,     0.21988,     0.21728,     0.21412,     0.21321,     0.21215,     0.21037,     0.20937,     0.20864,     0.20879,     0.20839,     0.20781,     0.20724,      0.2062,      0.2043,     0.20078,     0.19729,     0.19726,     0.19642,     0.19558,     0.19053,\n",
       "            0.18734,     0.18601,     0.18364,     0.18143,     0.17943,     0.17501,     0.17107,     0.16963,     0.16926,     0.16889,     0.16853,     0.16816,     0.16779,     0.16319,     0.15972,     0.15763,     0.15676,      0.1559,     0.15568,     0.15493,     0.15417,     0.15276,     0.15094,\n",
       "            0.14949,     0.14867,     0.14786,     0.14163,     0.13286,     0.12807,     0.12578,     0.12269,     0.12165,      0.1206,     0.11715,     0.11301,     0.11165,     0.11097,     0.11028,     0.10942,     0.10828,     0.10689,     0.10501,     0.10243,     0.10087,     0.10005,    0.099224,\n",
       "           0.098483,    0.097779,    0.097074,    0.094316,    0.093509,    0.092702,    0.091343,    0.089039,    0.087034,    0.085684,    0.084128,    0.081466,    0.080824,    0.080322,     0.07982,    0.079318,    0.078714,    0.078013,    0.077311,    0.076301,    0.074635,    0.073877,    0.073143,\n",
       "           0.072408,    0.071116,    0.067369,    0.065246,    0.064327,    0.063407,    0.060335,    0.059303,     0.05722,    0.055111,    0.053306,    0.051691,    0.050857,    0.050021,    0.048943,    0.047603,    0.043548,    0.039584,    0.038595,    0.037403,    0.035908,    0.034931,    0.034051,\n",
       "           0.033139,    0.032094,    0.031049,    0.030514,    0.030011,    0.029507,    0.029003,    0.028178,    0.026525,    0.024948,    0.021507,    0.020587,    0.019667,    0.018967,     0.01851,    0.018053,    0.017596,    0.017139,    0.016463,    0.015204,    0.014088,    0.013207,    0.012325,\n",
       "          0.0095275,   0.0091916,   0.0088555,   0.0085194,   0.0081831,   0.0078467,   0.0075102,   0.0071165,   0.0064798,   0.0058426,   0.0052051,   0.0046943,   0.0043637,   0.0040331,   0.0037023,   0.0033714,   0.0030404,   0.0027093,           0,           0,           0,           0,           0,\n",
       "                  0,           0,           0,           0,           0,           0,           0,           0,           0,           0,           0,           0,           0,           0,           0,           0,           0,           0,           0,           0,           0,           0,           0,\n",
       "                  0,           0,           0,           0,           0,           0,           0,           0,           0,           0,           0,           0,           0,           0,           0,           0,           0,           0,           0,           0,           0,           0,           0,\n",
       "                  0,           0,           0,           0,           0,           0,           0,           0,           0,           0,           0,           0,           0,           0,           0,           0,           0,           0,           0,           0,           0,           0,           0,\n",
       "                  0,           0,           0,           0,           0,           0,           0,           0,           0,           0,           0,           0,           0,           0,           0,           0,           0,           0,           0,           0,           0,           0,           0,\n",
       "                  0,           0,           0,           0,           0,           0,           0,           0,           0,           0,           0,           0,           0,           0,           0,           0,           0,           0,           0,           0,           0,           0,           0,\n",
       "                  0,           0,           0,           0,           0,           0,           0,           0,           0,           0,           0,           0,           0,           0,           0,           0,           0,           0,           0,           0,           0,           0,           0,\n",
       "                  0,           0,           0,           0,           0,           0,           0,           0,           0,           0,           0,           0,           0,           0,           0,           0,           0,           0,           0,           0,           0,           0,           0,\n",
       "                  0,           0,           0,           0,           0,           0,           0,           0,           0,           0,           0,           0,           0,           0,           0,           0,           0,           0,           0,           0,           0,           0,           0,\n",
       "                  0,           0,           0,           0,           0,           0,           0,           0,           0,           0,           0]]), 'Confidence', 'F1'], [array([          0,    0.001001,    0.002002,    0.003003,    0.004004,    0.005005,    0.006006,    0.007007,    0.008008,    0.009009,     0.01001,    0.011011,    0.012012,    0.013013,    0.014014,    0.015015,    0.016016,    0.017017,    0.018018,    0.019019,     0.02002,    0.021021,    0.022022,    0.023023,\n",
       "          0.024024,    0.025025,    0.026026,    0.027027,    0.028028,    0.029029,     0.03003,    0.031031,    0.032032,    0.033033,    0.034034,    0.035035,    0.036036,    0.037037,    0.038038,    0.039039,     0.04004,    0.041041,    0.042042,    0.043043,    0.044044,    0.045045,    0.046046,    0.047047,\n",
       "          0.048048,    0.049049,     0.05005,    0.051051,    0.052052,    0.053053,    0.054054,    0.055055,    0.056056,    0.057057,    0.058058,    0.059059,     0.06006,    0.061061,    0.062062,    0.063063,    0.064064,    0.065065,    0.066066,    0.067067,    0.068068,    0.069069,     0.07007,    0.071071,\n",
       "          0.072072,    0.073073,    0.074074,    0.075075,    0.076076,    0.077077,    0.078078,    0.079079,     0.08008,    0.081081,    0.082082,    0.083083,    0.084084,    0.085085,    0.086086,    0.087087,    0.088088,    0.089089,     0.09009,    0.091091,    0.092092,    0.093093,    0.094094,    0.095095,\n",
       "          0.096096,    0.097097,    0.098098,    0.099099,      0.1001,      0.1011,      0.1021,      0.1031,      0.1041,     0.10511,     0.10611,     0.10711,     0.10811,     0.10911,     0.11011,     0.11111,     0.11211,     0.11311,     0.11411,     0.11512,     0.11612,     0.11712,     0.11812,     0.11912,\n",
       "           0.12012,     0.12112,     0.12212,     0.12312,     0.12412,     0.12513,     0.12613,     0.12713,     0.12813,     0.12913,     0.13013,     0.13113,     0.13213,     0.13313,     0.13413,     0.13514,     0.13614,     0.13714,     0.13814,     0.13914,     0.14014,     0.14114,     0.14214,     0.14314,\n",
       "           0.14414,     0.14515,     0.14615,     0.14715,     0.14815,     0.14915,     0.15015,     0.15115,     0.15215,     0.15315,     0.15415,     0.15516,     0.15616,     0.15716,     0.15816,     0.15916,     0.16016,     0.16116,     0.16216,     0.16316,     0.16416,     0.16517,     0.16617,     0.16717,\n",
       "           0.16817,     0.16917,     0.17017,     0.17117,     0.17217,     0.17317,     0.17417,     0.17518,     0.17618,     0.17718,     0.17818,     0.17918,     0.18018,     0.18118,     0.18218,     0.18318,     0.18418,     0.18519,     0.18619,     0.18719,     0.18819,     0.18919,     0.19019,     0.19119,\n",
       "           0.19219,     0.19319,     0.19419,      0.1952,      0.1962,      0.1972,      0.1982,      0.1992,      0.2002,      0.2012,      0.2022,      0.2032,      0.2042,     0.20521,     0.20621,     0.20721,     0.20821,     0.20921,     0.21021,     0.21121,     0.21221,     0.21321,     0.21421,     0.21522,\n",
       "           0.21622,     0.21722,     0.21822,     0.21922,     0.22022,     0.22122,     0.22222,     0.22322,     0.22422,     0.22523,     0.22623,     0.22723,     0.22823,     0.22923,     0.23023,     0.23123,     0.23223,     0.23323,     0.23423,     0.23524,     0.23624,     0.23724,     0.23824,     0.23924,\n",
       "           0.24024,     0.24124,     0.24224,     0.24324,     0.24424,     0.24525,     0.24625,     0.24725,     0.24825,     0.24925,     0.25025,     0.25125,     0.25225,     0.25325,     0.25425,     0.25526,     0.25626,     0.25726,     0.25826,     0.25926,     0.26026,     0.26126,     0.26226,     0.26326,\n",
       "           0.26426,     0.26527,     0.26627,     0.26727,     0.26827,     0.26927,     0.27027,     0.27127,     0.27227,     0.27327,     0.27427,     0.27528,     0.27628,     0.27728,     0.27828,     0.27928,     0.28028,     0.28128,     0.28228,     0.28328,     0.28428,     0.28529,     0.28629,     0.28729,\n",
       "           0.28829,     0.28929,     0.29029,     0.29129,     0.29229,     0.29329,     0.29429,      0.2953,      0.2963,      0.2973,      0.2983,      0.2993,      0.3003,      0.3013,      0.3023,      0.3033,      0.3043,     0.30531,     0.30631,     0.30731,     0.30831,     0.30931,     0.31031,     0.31131,\n",
       "           0.31231,     0.31331,     0.31431,     0.31532,     0.31632,     0.31732,     0.31832,     0.31932,     0.32032,     0.32132,     0.32232,     0.32332,     0.32432,     0.32533,     0.32633,     0.32733,     0.32833,     0.32933,     0.33033,     0.33133,     0.33233,     0.33333,     0.33433,     0.33534,\n",
       "           0.33634,     0.33734,     0.33834,     0.33934,     0.34034,     0.34134,     0.34234,     0.34334,     0.34434,     0.34535,     0.34635,     0.34735,     0.34835,     0.34935,     0.35035,     0.35135,     0.35235,     0.35335,     0.35435,     0.35536,     0.35636,     0.35736,     0.35836,     0.35936,\n",
       "           0.36036,     0.36136,     0.36236,     0.36336,     0.36436,     0.36537,     0.36637,     0.36737,     0.36837,     0.36937,     0.37037,     0.37137,     0.37237,     0.37337,     0.37437,     0.37538,     0.37638,     0.37738,     0.37838,     0.37938,     0.38038,     0.38138,     0.38238,     0.38338,\n",
       "           0.38438,     0.38539,     0.38639,     0.38739,     0.38839,     0.38939,     0.39039,     0.39139,     0.39239,     0.39339,     0.39439,      0.3954,      0.3964,      0.3974,      0.3984,      0.3994,      0.4004,      0.4014,      0.4024,      0.4034,      0.4044,     0.40541,     0.40641,     0.40741,\n",
       "           0.40841,     0.40941,     0.41041,     0.41141,     0.41241,     0.41341,     0.41441,     0.41542,     0.41642,     0.41742,     0.41842,     0.41942,     0.42042,     0.42142,     0.42242,     0.42342,     0.42442,     0.42543,     0.42643,     0.42743,     0.42843,     0.42943,     0.43043,     0.43143,\n",
       "           0.43243,     0.43343,     0.43443,     0.43544,     0.43644,     0.43744,     0.43844,     0.43944,     0.44044,     0.44144,     0.44244,     0.44344,     0.44444,     0.44545,     0.44645,     0.44745,     0.44845,     0.44945,     0.45045,     0.45145,     0.45245,     0.45345,     0.45445,     0.45546,\n",
       "           0.45646,     0.45746,     0.45846,     0.45946,     0.46046,     0.46146,     0.46246,     0.46346,     0.46446,     0.46547,     0.46647,     0.46747,     0.46847,     0.46947,     0.47047,     0.47147,     0.47247,     0.47347,     0.47447,     0.47548,     0.47648,     0.47748,     0.47848,     0.47948,\n",
       "           0.48048,     0.48148,     0.48248,     0.48348,     0.48448,     0.48549,     0.48649,     0.48749,     0.48849,     0.48949,     0.49049,     0.49149,     0.49249,     0.49349,     0.49449,      0.4955,      0.4965,      0.4975,      0.4985,      0.4995,      0.5005,      0.5015,      0.5025,      0.5035,\n",
       "            0.5045,     0.50551,     0.50651,     0.50751,     0.50851,     0.50951,     0.51051,     0.51151,     0.51251,     0.51351,     0.51451,     0.51552,     0.51652,     0.51752,     0.51852,     0.51952,     0.52052,     0.52152,     0.52252,     0.52352,     0.52452,     0.52553,     0.52653,     0.52753,\n",
       "           0.52853,     0.52953,     0.53053,     0.53153,     0.53253,     0.53353,     0.53453,     0.53554,     0.53654,     0.53754,     0.53854,     0.53954,     0.54054,     0.54154,     0.54254,     0.54354,     0.54454,     0.54555,     0.54655,     0.54755,     0.54855,     0.54955,     0.55055,     0.55155,\n",
       "           0.55255,     0.55355,     0.55455,     0.55556,     0.55656,     0.55756,     0.55856,     0.55956,     0.56056,     0.56156,     0.56256,     0.56356,     0.56456,     0.56557,     0.56657,     0.56757,     0.56857,     0.56957,     0.57057,     0.57157,     0.57257,     0.57357,     0.57457,     0.57558,\n",
       "           0.57658,     0.57758,     0.57858,     0.57958,     0.58058,     0.58158,     0.58258,     0.58358,     0.58458,     0.58559,     0.58659,     0.58759,     0.58859,     0.58959,     0.59059,     0.59159,     0.59259,     0.59359,     0.59459,      0.5956,      0.5966,      0.5976,      0.5986,      0.5996,\n",
       "            0.6006,      0.6016,      0.6026,      0.6036,      0.6046,     0.60561,     0.60661,     0.60761,     0.60861,     0.60961,     0.61061,     0.61161,     0.61261,     0.61361,     0.61461,     0.61562,     0.61662,     0.61762,     0.61862,     0.61962,     0.62062,     0.62162,     0.62262,     0.62362,\n",
       "           0.62462,     0.62563,     0.62663,     0.62763,     0.62863,     0.62963,     0.63063,     0.63163,     0.63263,     0.63363,     0.63463,     0.63564,     0.63664,     0.63764,     0.63864,     0.63964,     0.64064,     0.64164,     0.64264,     0.64364,     0.64464,     0.64565,     0.64665,     0.64765,\n",
       "           0.64865,     0.64965,     0.65065,     0.65165,     0.65265,     0.65365,     0.65465,     0.65566,     0.65666,     0.65766,     0.65866,     0.65966,     0.66066,     0.66166,     0.66266,     0.66366,     0.66466,     0.66567,     0.66667,     0.66767,     0.66867,     0.66967,     0.67067,     0.67167,\n",
       "           0.67267,     0.67367,     0.67467,     0.67568,     0.67668,     0.67768,     0.67868,     0.67968,     0.68068,     0.68168,     0.68268,     0.68368,     0.68468,     0.68569,     0.68669,     0.68769,     0.68869,     0.68969,     0.69069,     0.69169,     0.69269,     0.69369,     0.69469,      0.6957,\n",
       "            0.6967,      0.6977,      0.6987,      0.6997,      0.7007,      0.7017,      0.7027,      0.7037,      0.7047,     0.70571,     0.70671,     0.70771,     0.70871,     0.70971,     0.71071,     0.71171,     0.71271,     0.71371,     0.71471,     0.71572,     0.71672,     0.71772,     0.71872,     0.71972,\n",
       "           0.72072,     0.72172,     0.72272,     0.72372,     0.72472,     0.72573,     0.72673,     0.72773,     0.72873,     0.72973,     0.73073,     0.73173,     0.73273,     0.73373,     0.73473,     0.73574,     0.73674,     0.73774,     0.73874,     0.73974,     0.74074,     0.74174,     0.74274,     0.74374,\n",
       "           0.74474,     0.74575,     0.74675,     0.74775,     0.74875,     0.74975,     0.75075,     0.75175,     0.75275,     0.75375,     0.75475,     0.75576,     0.75676,     0.75776,     0.75876,     0.75976,     0.76076,     0.76176,     0.76276,     0.76376,     0.76476,     0.76577,     0.76677,     0.76777,\n",
       "           0.76877,     0.76977,     0.77077,     0.77177,     0.77277,     0.77377,     0.77477,     0.77578,     0.77678,     0.77778,     0.77878,     0.77978,     0.78078,     0.78178,     0.78278,     0.78378,     0.78478,     0.78579,     0.78679,     0.78779,     0.78879,     0.78979,     0.79079,     0.79179,\n",
       "           0.79279,     0.79379,     0.79479,      0.7958,      0.7968,      0.7978,      0.7988,      0.7998,      0.8008,      0.8018,      0.8028,      0.8038,      0.8048,     0.80581,     0.80681,     0.80781,     0.80881,     0.80981,     0.81081,     0.81181,     0.81281,     0.81381,     0.81481,     0.81582,\n",
       "           0.81682,     0.81782,     0.81882,     0.81982,     0.82082,     0.82182,     0.82282,     0.82382,     0.82482,     0.82583,     0.82683,     0.82783,     0.82883,     0.82983,     0.83083,     0.83183,     0.83283,     0.83383,     0.83483,     0.83584,     0.83684,     0.83784,     0.83884,     0.83984,\n",
       "           0.84084,     0.84184,     0.84284,     0.84384,     0.84484,     0.84585,     0.84685,     0.84785,     0.84885,     0.84985,     0.85085,     0.85185,     0.85285,     0.85385,     0.85485,     0.85586,     0.85686,     0.85786,     0.85886,     0.85986,     0.86086,     0.86186,     0.86286,     0.86386,\n",
       "           0.86486,     0.86587,     0.86687,     0.86787,     0.86887,     0.86987,     0.87087,     0.87187,     0.87287,     0.87387,     0.87487,     0.87588,     0.87688,     0.87788,     0.87888,     0.87988,     0.88088,     0.88188,     0.88288,     0.88388,     0.88488,     0.88589,     0.88689,     0.88789,\n",
       "           0.88889,     0.88989,     0.89089,     0.89189,     0.89289,     0.89389,     0.89489,      0.8959,      0.8969,      0.8979,      0.8989,      0.8999,      0.9009,      0.9019,      0.9029,      0.9039,      0.9049,     0.90591,     0.90691,     0.90791,     0.90891,     0.90991,     0.91091,     0.91191,\n",
       "           0.91291,     0.91391,     0.91491,     0.91592,     0.91692,     0.91792,     0.91892,     0.91992,     0.92092,     0.92192,     0.92292,     0.92392,     0.92492,     0.92593,     0.92693,     0.92793,     0.92893,     0.92993,     0.93093,     0.93193,     0.93293,     0.93393,     0.93493,     0.93594,\n",
       "           0.93694,     0.93794,     0.93894,     0.93994,     0.94094,     0.94194,     0.94294,     0.94394,     0.94494,     0.94595,     0.94695,     0.94795,     0.94895,     0.94995,     0.95095,     0.95195,     0.95295,     0.95395,     0.95495,     0.95596,     0.95696,     0.95796,     0.95896,     0.95996,\n",
       "           0.96096,     0.96196,     0.96296,     0.96396,     0.96496,     0.96597,     0.96697,     0.96797,     0.96897,     0.96997,     0.97097,     0.97197,     0.97297,     0.97397,     0.97497,     0.97598,     0.97698,     0.97798,     0.97898,     0.97998,     0.98098,     0.98198,     0.98298,     0.98398,\n",
       "           0.98498,     0.98599,     0.98699,     0.98799,     0.98899,     0.98999,     0.99099,     0.99199,     0.99299,     0.99399,     0.99499,       0.996,       0.997,       0.998,       0.999,           1]), array([[   0.061977,    0.061979,    0.074237,    0.085979,    0.096182,     0.10505,     0.11483,     0.12461,      0.1348,     0.14594,     0.15524,     0.16506,     0.17549,     0.18509,     0.19379,     0.20194,     0.20899,     0.21663,     0.22428,     0.23079,     0.23844,     0.24677,     0.25817,\n",
       "            0.26536,     0.27229,     0.27969,     0.28701,     0.29374,     0.30215,      0.3097,     0.31849,     0.32543,     0.33532,     0.34372,     0.35167,     0.35882,     0.36817,     0.37687,     0.38488,     0.39094,     0.40012,     0.40735,      0.4155,     0.41815,      0.4227,     0.42874,\n",
       "            0.43248,     0.43868,      0.4425,      0.4459,     0.44815,     0.45508,     0.45837,     0.46375,     0.46608,     0.46882,     0.47199,     0.47407,     0.47689,     0.48036,     0.48696,     0.48858,     0.49223,     0.49663,     0.49974,     0.50164,     0.50326,     0.50737,     0.51104,\n",
       "            0.51341,     0.51693,     0.51934,     0.52298,     0.52507,     0.52682,     0.53021,     0.53445,     0.53824,     0.54096,      0.5443,      0.5476,     0.55002,     0.55269,     0.55452,     0.55654,     0.55707,     0.55848,     0.55848,     0.55885,     0.56289,     0.56414,     0.56565,\n",
       "              0.569,      0.5747,     0.57523,     0.57696,     0.57773,     0.57941,      0.5807,     0.58249,     0.58434,     0.58797,     0.58832,     0.58971,     0.58909,     0.59043,     0.59356,     0.59606,     0.59755,     0.60007,     0.60328,     0.60594,     0.60682,     0.60852,     0.61108,\n",
       "            0.61244,     0.61262,     0.61498,     0.61631,     0.61775,     0.62027,     0.62354,      0.6262,     0.62799,     0.63033,     0.63245,      0.6326,     0.63427,     0.63602,     0.63762,     0.63676,     0.63719,     0.64011,     0.63962,     0.64323,      0.6441,     0.64537,      0.6466,\n",
       "            0.64841,     0.64896,     0.64935,     0.65021,     0.65021,     0.65199,     0.65323,     0.65622,     0.65762,     0.66024,     0.66151,     0.66446,     0.66866,     0.66841,       0.668,     0.66761,     0.66825,     0.66888,     0.67123,     0.67092,     0.67144,     0.67342,     0.67612,\n",
       "            0.67795,      0.6812,     0.68188,     0.68646,     0.68964,     0.69114,     0.69195,     0.69237,     0.69278,      0.6939,     0.69499,     0.69665,     0.69809,     0.70011,     0.70031,     0.70186,     0.70271,     0.70346,     0.70439,     0.70556,     0.70585,     0.70586,     0.70549,\n",
       "            0.70771,     0.70956,     0.71247,     0.71228,     0.71322,     0.71451,     0.71849,     0.71839,     0.71749,     0.72056,     0.71997,     0.72114,     0.72295,     0.72261,     0.72412,     0.72339,      0.7236,     0.72782,     0.72895,     0.73131,     0.73055,     0.73293,     0.73312,\n",
       "             0.7337,     0.73481,     0.73613,     0.73636,     0.73869,     0.73924,     0.73978,     0.74148,     0.74232,      0.7435,     0.74346,     0.74561,     0.74627,     0.74756,     0.74852,     0.75246,     0.75539,     0.75498,     0.75415,     0.75305,     0.75276,     0.75327,     0.75379,\n",
       "            0.75321,     0.75479,     0.75541,     0.75524,     0.75507,     0.75609,     0.75683,     0.75949,     0.76031,     0.76095,     0.76179,     0.76354,     0.76405,      0.7638,     0.76358,     0.76328,     0.76336,     0.76469,     0.76506,     0.76543,      0.7658,     0.76618,     0.76727,\n",
       "            0.77133,     0.77162,     0.77212,     0.77262,     0.77453,      0.7754,     0.77485,      0.7773,     0.77559,     0.77532,     0.77606,     0.77672,     0.77662,     0.77652,     0.77642,     0.77631,     0.77587,     0.78094,      0.7801,     0.78147,     0.78265,     0.78241,     0.78225,\n",
       "            0.78209,     0.78168,     0.78226,     0.78226,     0.78185,     0.78402,     0.78517,     0.78669,     0.78651,     0.78634,     0.78953,     0.79485,     0.79443,      0.7958,     0.79608,     0.79583,     0.79519,     0.79501,     0.79483,     0.79511,     0.79587,     0.79683,     0.79735,\n",
       "            0.79884,     0.79839,     0.79756,     0.79738,      0.7972,     0.79703,     0.79688,     0.79673,     0.79798,      0.7968,     0.79721,     0.79816,     0.79969,     0.80133,     0.80215,     0.80363,     0.80282,     0.80257,     0.80328,     0.80399,     0.80373,     0.80757,     0.80732,\n",
       "              0.807,     0.80693,     0.80765,     0.80837,      0.8087,     0.80976,     0.81215,     0.81175,     0.81239,     0.81332,     0.81312,     0.81339,     0.81477,     0.81551,     0.81544,     0.81463,     0.81461,     0.81537,     0.81613,     0.81602,     0.81532,     0.81565,      0.8168,\n",
       "            0.81702,     0.81673,     0.81728,     0.82063,     0.82049,     0.82036,     0.82022,     0.81977,     0.82027,     0.82096,     0.82165,     0.82386,     0.82329,     0.82275,     0.82444,     0.82424,     0.82404,     0.82379,     0.82353,     0.82327,     0.82344,     0.82491,      0.8237,\n",
       "            0.82311,     0.82325,     0.82491,     0.82612,      0.8268,     0.82897,     0.82837,     0.82815,     0.82786,     0.82768,     0.82881,      0.8299,     0.82926,     0.82897,     0.83047,     0.83213,     0.83261,     0.83436,     0.83435,     0.83491,     0.83548,     0.83604,     0.83624,\n",
       "            0.83594,     0.83811,     0.83894,     0.84044,     0.83923,     0.83812,     0.84113,     0.84251,     0.84801,     0.85073,     0.85062,     0.85051,     0.85039,     0.85103,      0.8529,      0.8521,     0.85149,     0.85199,     0.85367,     0.85496,     0.85535,     0.85487,     0.85466,\n",
       "             0.8545,     0.85434,     0.85373,     0.85574,     0.85832,     0.86089,     0.86074,     0.86059,     0.85985,     0.85893,     0.85963,     0.86158,     0.86149,      0.8614,     0.86131,     0.86123,     0.86114,     0.86004,     0.85973,     0.86046,     0.86264,     0.86494,     0.86573,\n",
       "            0.86686,     0.86782,     0.86749,     0.86705,     0.86674,      0.8665,     0.86619,      0.8664,     0.86825,     0.86988,     0.87132,     0.87216,     0.87185,     0.87123,     0.87111,     0.87099,     0.87087,     0.87073,     0.87058,     0.87044,     0.86999,     0.86926,     0.86908,\n",
       "            0.86968,     0.87199,     0.87167,     0.87125,     0.87104,     0.87085,     0.87271,     0.87368,     0.87642,     0.87622,     0.87602,     0.87566,     0.87532,     0.87503,     0.87541,     0.87726,     0.88479,     0.88402,     0.88601,     0.88528,     0.88475,     0.88711,     0.88665,\n",
       "            0.88627,     0.88601,     0.88587,     0.88573,     0.88582,     0.88935,     0.88913,     0.88892,     0.88864,     0.88819,     0.89016,     0.89165,     0.89138,     0.89203,     0.89305,     0.89407,     0.89509,      0.8944,     0.89611,     0.89769,     0.89753,     0.89737,     0.90134,\n",
       "            0.90109,     0.90083,     0.90057,     0.90033,     0.90009,     0.89957,      0.8985,     0.89738,     0.89705,     0.89688,     0.89628,     0.89592,     0.89554,     0.89509,      0.8946,     0.89353,     0.89307,     0.89282,     0.89215,     0.89188,     0.89158,     0.89028,     0.89394,\n",
       "            0.89405,     0.89369,     0.89456,     0.89542,     0.89629,     0.89716,     0.89786,     0.89807,     0.89898,     0.89989,      0.9008,     0.90171,     0.90171,     0.90112,     0.90086,     0.90065,     0.90509,     0.90491,      0.9041,     0.90383,     0.90335,     0.90306,     0.90284,\n",
       "            0.90614,     0.91203,     0.91166,     0.91155,     0.91345,     0.91535,     0.91548,     0.91511,     0.91634,     0.91961,     0.91938,     0.91921,     0.91902,     0.91878,     0.91843,     0.91772,     0.91744,     0.91721,     0.91662,     0.91638,     0.91614,     0.91598,     0.91582,\n",
       "            0.91561,       0.915,     0.91465,     0.91438,     0.91412,     0.91392,     0.91373,     0.91319,     0.91288,      0.9127,     0.91252,     0.91123,     0.91091,     0.90994,     0.90903,     0.90884,     0.90866,     0.90823,     0.90772,     0.90751,      0.9073,     0.90697,     0.90651,\n",
       "            0.90576,      0.9088,     0.91236,     0.91329,     0.91422,     0.91515,     0.91607,       0.917,     0.91772,       0.917,     0.92031,     0.92252,      0.9224,     0.92689,     0.92614,     0.92503,     0.92464,     0.92444,     0.92424,     0.92342,     0.92435,     0.92965,     0.92953,\n",
       "            0.92941,     0.92929,     0.92916,     0.92866,     0.93595,     0.93536,     0.93498,     0.93476,     0.94015,     0.94193,     0.94162,     0.94141,     0.94121,     0.94102,     0.94084,     0.94066,     0.94049,     0.94032,     0.94015,     0.93993,     0.93971,     0.93899,     0.93822,\n",
       "            0.93682,     0.93667,     0.93651,      0.9363,      0.9355,      0.9345,     0.93421,     0.93386,     0.93328,     0.93295,     0.93415,     0.94034,     0.94162,     0.94145,     0.94128,     0.94097,     0.94039,      0.9393,     0.94298,     0.94788,     0.94764,     0.94741,     0.94594,\n",
       "            0.94499,     0.94457,     0.94545,     0.95392,     0.95338,     0.95215,       0.951,     0.95057,     0.95046,     0.95034,     0.95023,     0.95012,        0.95,     0.94855,      0.9525,     0.97254,     0.97238,     0.97235,     0.98588,      0.9858,     0.98573,     0.98559,      0.9854,\n",
       "            0.98525,     0.98517,     0.98508,     0.99035,           1,           1,           1,           1,           1,           1,           1,           1,           1,           1,           1,           1,           1,           1,           1,           1,           1,           1,           1,\n",
       "                  1,           1,           1,           1,           1,           1,           1,           1,           1,           1,           1,           1,           1,           1,           1,           1,           1,           1,           1,           1,           1,           1,           1,\n",
       "                  1,           1,           1,           1,           1,           1,           1,           1,           1,           1,           1,           1,           1,           1,           1,           1,           1,           1,           1,           1,           1,           1,           1,\n",
       "                  1,           1,           1,           1,           1,           1,           1,           1,           1,           1,           1,           1,           1,           1,           1,           1,           1,           1,           1,           1,           1,           1,           1,\n",
       "                  1,           1,           1,           1,           1,           1,           1,           1,           1,           1,           1,           1,           1,           1,           1,           1,           1,           1,           1,           1,           1,           1,           1,\n",
       "                  1,           1,           1,           1,           1,           1,           1,           1,           1,           1,           1,           1,           1,           1,           1,           1,           1,           1,           1,           1,           1,           1,           1,\n",
       "                  1,           1,           1,           1,           1,           1,           1,           1,           1,           1,           1,           1,           1,           1,           1,           1,           1,           1,           1,           1,           1,           1,           1,\n",
       "                  1,           1,           1,           1,           1,           1,           1,           1,           1,           1,           1,           1,           1,           1,           1,           1,           1,           1,           1,           1,           1,           1,           1,\n",
       "                  1,           1,           1,           1,           1,           1,           1,           1,           1,           1,           1,           1,           1,           1,           1,           1,           1,           1,           1,           1,           1,           1,           1,\n",
       "                  1,           1,           1,           1,           1,           1,           1,           1,           1,           1,           1,           1,           1,           1,           1,           1,           1,           1,           1,           1,           1,           1,           1,\n",
       "                  1,           1,           1,           1,           1,           1,           1,           1,           1,           1,           1,           1,           1,           1,           1,           1,           1,           1,           1,           1,           1,           1,           1,\n",
       "                  1,           1,           1,           1,           1,           1,           1,           1,           1,           1,           1,           1,           1,           1,           1,           1,           1,           1,           1,           1,           1,           1,           1,\n",
       "                  1,           1,           1,           1,           1,           1,           1,           1,           1,           1,           1,           1,           1,           1,           1,           1,           1,           1,           1,           1,           1,           1,           1,\n",
       "                  1,           1,           1,           1,           1,           1,           1,           1,           1,           1,           1]]), 'Confidence', 'Precision'], [array([          0,    0.001001,    0.002002,    0.003003,    0.004004,    0.005005,    0.006006,    0.007007,    0.008008,    0.009009,     0.01001,    0.011011,    0.012012,    0.013013,    0.014014,    0.015015,    0.016016,    0.017017,    0.018018,    0.019019,     0.02002,    0.021021,    0.022022,    0.023023,\n",
       "          0.024024,    0.025025,    0.026026,    0.027027,    0.028028,    0.029029,     0.03003,    0.031031,    0.032032,    0.033033,    0.034034,    0.035035,    0.036036,    0.037037,    0.038038,    0.039039,     0.04004,    0.041041,    0.042042,    0.043043,    0.044044,    0.045045,    0.046046,    0.047047,\n",
       "          0.048048,    0.049049,     0.05005,    0.051051,    0.052052,    0.053053,    0.054054,    0.055055,    0.056056,    0.057057,    0.058058,    0.059059,     0.06006,    0.061061,    0.062062,    0.063063,    0.064064,    0.065065,    0.066066,    0.067067,    0.068068,    0.069069,     0.07007,    0.071071,\n",
       "          0.072072,    0.073073,    0.074074,    0.075075,    0.076076,    0.077077,    0.078078,    0.079079,     0.08008,    0.081081,    0.082082,    0.083083,    0.084084,    0.085085,    0.086086,    0.087087,    0.088088,    0.089089,     0.09009,    0.091091,    0.092092,    0.093093,    0.094094,    0.095095,\n",
       "          0.096096,    0.097097,    0.098098,    0.099099,      0.1001,      0.1011,      0.1021,      0.1031,      0.1041,     0.10511,     0.10611,     0.10711,     0.10811,     0.10911,     0.11011,     0.11111,     0.11211,     0.11311,     0.11411,     0.11512,     0.11612,     0.11712,     0.11812,     0.11912,\n",
       "           0.12012,     0.12112,     0.12212,     0.12312,     0.12412,     0.12513,     0.12613,     0.12713,     0.12813,     0.12913,     0.13013,     0.13113,     0.13213,     0.13313,     0.13413,     0.13514,     0.13614,     0.13714,     0.13814,     0.13914,     0.14014,     0.14114,     0.14214,     0.14314,\n",
       "           0.14414,     0.14515,     0.14615,     0.14715,     0.14815,     0.14915,     0.15015,     0.15115,     0.15215,     0.15315,     0.15415,     0.15516,     0.15616,     0.15716,     0.15816,     0.15916,     0.16016,     0.16116,     0.16216,     0.16316,     0.16416,     0.16517,     0.16617,     0.16717,\n",
       "           0.16817,     0.16917,     0.17017,     0.17117,     0.17217,     0.17317,     0.17417,     0.17518,     0.17618,     0.17718,     0.17818,     0.17918,     0.18018,     0.18118,     0.18218,     0.18318,     0.18418,     0.18519,     0.18619,     0.18719,     0.18819,     0.18919,     0.19019,     0.19119,\n",
       "           0.19219,     0.19319,     0.19419,      0.1952,      0.1962,      0.1972,      0.1982,      0.1992,      0.2002,      0.2012,      0.2022,      0.2032,      0.2042,     0.20521,     0.20621,     0.20721,     0.20821,     0.20921,     0.21021,     0.21121,     0.21221,     0.21321,     0.21421,     0.21522,\n",
       "           0.21622,     0.21722,     0.21822,     0.21922,     0.22022,     0.22122,     0.22222,     0.22322,     0.22422,     0.22523,     0.22623,     0.22723,     0.22823,     0.22923,     0.23023,     0.23123,     0.23223,     0.23323,     0.23423,     0.23524,     0.23624,     0.23724,     0.23824,     0.23924,\n",
       "           0.24024,     0.24124,     0.24224,     0.24324,     0.24424,     0.24525,     0.24625,     0.24725,     0.24825,     0.24925,     0.25025,     0.25125,     0.25225,     0.25325,     0.25425,     0.25526,     0.25626,     0.25726,     0.25826,     0.25926,     0.26026,     0.26126,     0.26226,     0.26326,\n",
       "           0.26426,     0.26527,     0.26627,     0.26727,     0.26827,     0.26927,     0.27027,     0.27127,     0.27227,     0.27327,     0.27427,     0.27528,     0.27628,     0.27728,     0.27828,     0.27928,     0.28028,     0.28128,     0.28228,     0.28328,     0.28428,     0.28529,     0.28629,     0.28729,\n",
       "           0.28829,     0.28929,     0.29029,     0.29129,     0.29229,     0.29329,     0.29429,      0.2953,      0.2963,      0.2973,      0.2983,      0.2993,      0.3003,      0.3013,      0.3023,      0.3033,      0.3043,     0.30531,     0.30631,     0.30731,     0.30831,     0.30931,     0.31031,     0.31131,\n",
       "           0.31231,     0.31331,     0.31431,     0.31532,     0.31632,     0.31732,     0.31832,     0.31932,     0.32032,     0.32132,     0.32232,     0.32332,     0.32432,     0.32533,     0.32633,     0.32733,     0.32833,     0.32933,     0.33033,     0.33133,     0.33233,     0.33333,     0.33433,     0.33534,\n",
       "           0.33634,     0.33734,     0.33834,     0.33934,     0.34034,     0.34134,     0.34234,     0.34334,     0.34434,     0.34535,     0.34635,     0.34735,     0.34835,     0.34935,     0.35035,     0.35135,     0.35235,     0.35335,     0.35435,     0.35536,     0.35636,     0.35736,     0.35836,     0.35936,\n",
       "           0.36036,     0.36136,     0.36236,     0.36336,     0.36436,     0.36537,     0.36637,     0.36737,     0.36837,     0.36937,     0.37037,     0.37137,     0.37237,     0.37337,     0.37437,     0.37538,     0.37638,     0.37738,     0.37838,     0.37938,     0.38038,     0.38138,     0.38238,     0.38338,\n",
       "           0.38438,     0.38539,     0.38639,     0.38739,     0.38839,     0.38939,     0.39039,     0.39139,     0.39239,     0.39339,     0.39439,      0.3954,      0.3964,      0.3974,      0.3984,      0.3994,      0.4004,      0.4014,      0.4024,      0.4034,      0.4044,     0.40541,     0.40641,     0.40741,\n",
       "           0.40841,     0.40941,     0.41041,     0.41141,     0.41241,     0.41341,     0.41441,     0.41542,     0.41642,     0.41742,     0.41842,     0.41942,     0.42042,     0.42142,     0.42242,     0.42342,     0.42442,     0.42543,     0.42643,     0.42743,     0.42843,     0.42943,     0.43043,     0.43143,\n",
       "           0.43243,     0.43343,     0.43443,     0.43544,     0.43644,     0.43744,     0.43844,     0.43944,     0.44044,     0.44144,     0.44244,     0.44344,     0.44444,     0.44545,     0.44645,     0.44745,     0.44845,     0.44945,     0.45045,     0.45145,     0.45245,     0.45345,     0.45445,     0.45546,\n",
       "           0.45646,     0.45746,     0.45846,     0.45946,     0.46046,     0.46146,     0.46246,     0.46346,     0.46446,     0.46547,     0.46647,     0.46747,     0.46847,     0.46947,     0.47047,     0.47147,     0.47247,     0.47347,     0.47447,     0.47548,     0.47648,     0.47748,     0.47848,     0.47948,\n",
       "           0.48048,     0.48148,     0.48248,     0.48348,     0.48448,     0.48549,     0.48649,     0.48749,     0.48849,     0.48949,     0.49049,     0.49149,     0.49249,     0.49349,     0.49449,      0.4955,      0.4965,      0.4975,      0.4985,      0.4995,      0.5005,      0.5015,      0.5025,      0.5035,\n",
       "            0.5045,     0.50551,     0.50651,     0.50751,     0.50851,     0.50951,     0.51051,     0.51151,     0.51251,     0.51351,     0.51451,     0.51552,     0.51652,     0.51752,     0.51852,     0.51952,     0.52052,     0.52152,     0.52252,     0.52352,     0.52452,     0.52553,     0.52653,     0.52753,\n",
       "           0.52853,     0.52953,     0.53053,     0.53153,     0.53253,     0.53353,     0.53453,     0.53554,     0.53654,     0.53754,     0.53854,     0.53954,     0.54054,     0.54154,     0.54254,     0.54354,     0.54454,     0.54555,     0.54655,     0.54755,     0.54855,     0.54955,     0.55055,     0.55155,\n",
       "           0.55255,     0.55355,     0.55455,     0.55556,     0.55656,     0.55756,     0.55856,     0.55956,     0.56056,     0.56156,     0.56256,     0.56356,     0.56456,     0.56557,     0.56657,     0.56757,     0.56857,     0.56957,     0.57057,     0.57157,     0.57257,     0.57357,     0.57457,     0.57558,\n",
       "           0.57658,     0.57758,     0.57858,     0.57958,     0.58058,     0.58158,     0.58258,     0.58358,     0.58458,     0.58559,     0.58659,     0.58759,     0.58859,     0.58959,     0.59059,     0.59159,     0.59259,     0.59359,     0.59459,      0.5956,      0.5966,      0.5976,      0.5986,      0.5996,\n",
       "            0.6006,      0.6016,      0.6026,      0.6036,      0.6046,     0.60561,     0.60661,     0.60761,     0.60861,     0.60961,     0.61061,     0.61161,     0.61261,     0.61361,     0.61461,     0.61562,     0.61662,     0.61762,     0.61862,     0.61962,     0.62062,     0.62162,     0.62262,     0.62362,\n",
       "           0.62462,     0.62563,     0.62663,     0.62763,     0.62863,     0.62963,     0.63063,     0.63163,     0.63263,     0.63363,     0.63463,     0.63564,     0.63664,     0.63764,     0.63864,     0.63964,     0.64064,     0.64164,     0.64264,     0.64364,     0.64464,     0.64565,     0.64665,     0.64765,\n",
       "           0.64865,     0.64965,     0.65065,     0.65165,     0.65265,     0.65365,     0.65465,     0.65566,     0.65666,     0.65766,     0.65866,     0.65966,     0.66066,     0.66166,     0.66266,     0.66366,     0.66466,     0.66567,     0.66667,     0.66767,     0.66867,     0.66967,     0.67067,     0.67167,\n",
       "           0.67267,     0.67367,     0.67467,     0.67568,     0.67668,     0.67768,     0.67868,     0.67968,     0.68068,     0.68168,     0.68268,     0.68368,     0.68468,     0.68569,     0.68669,     0.68769,     0.68869,     0.68969,     0.69069,     0.69169,     0.69269,     0.69369,     0.69469,      0.6957,\n",
       "            0.6967,      0.6977,      0.6987,      0.6997,      0.7007,      0.7017,      0.7027,      0.7037,      0.7047,     0.70571,     0.70671,     0.70771,     0.70871,     0.70971,     0.71071,     0.71171,     0.71271,     0.71371,     0.71471,     0.71572,     0.71672,     0.71772,     0.71872,     0.71972,\n",
       "           0.72072,     0.72172,     0.72272,     0.72372,     0.72472,     0.72573,     0.72673,     0.72773,     0.72873,     0.72973,     0.73073,     0.73173,     0.73273,     0.73373,     0.73473,     0.73574,     0.73674,     0.73774,     0.73874,     0.73974,     0.74074,     0.74174,     0.74274,     0.74374,\n",
       "           0.74474,     0.74575,     0.74675,     0.74775,     0.74875,     0.74975,     0.75075,     0.75175,     0.75275,     0.75375,     0.75475,     0.75576,     0.75676,     0.75776,     0.75876,     0.75976,     0.76076,     0.76176,     0.76276,     0.76376,     0.76476,     0.76577,     0.76677,     0.76777,\n",
       "           0.76877,     0.76977,     0.77077,     0.77177,     0.77277,     0.77377,     0.77477,     0.77578,     0.77678,     0.77778,     0.77878,     0.77978,     0.78078,     0.78178,     0.78278,     0.78378,     0.78478,     0.78579,     0.78679,     0.78779,     0.78879,     0.78979,     0.79079,     0.79179,\n",
       "           0.79279,     0.79379,     0.79479,      0.7958,      0.7968,      0.7978,      0.7988,      0.7998,      0.8008,      0.8018,      0.8028,      0.8038,      0.8048,     0.80581,     0.80681,     0.80781,     0.80881,     0.80981,     0.81081,     0.81181,     0.81281,     0.81381,     0.81481,     0.81582,\n",
       "           0.81682,     0.81782,     0.81882,     0.81982,     0.82082,     0.82182,     0.82282,     0.82382,     0.82482,     0.82583,     0.82683,     0.82783,     0.82883,     0.82983,     0.83083,     0.83183,     0.83283,     0.83383,     0.83483,     0.83584,     0.83684,     0.83784,     0.83884,     0.83984,\n",
       "           0.84084,     0.84184,     0.84284,     0.84384,     0.84484,     0.84585,     0.84685,     0.84785,     0.84885,     0.84985,     0.85085,     0.85185,     0.85285,     0.85385,     0.85485,     0.85586,     0.85686,     0.85786,     0.85886,     0.85986,     0.86086,     0.86186,     0.86286,     0.86386,\n",
       "           0.86486,     0.86587,     0.86687,     0.86787,     0.86887,     0.86987,     0.87087,     0.87187,     0.87287,     0.87387,     0.87487,     0.87588,     0.87688,     0.87788,     0.87888,     0.87988,     0.88088,     0.88188,     0.88288,     0.88388,     0.88488,     0.88589,     0.88689,     0.88789,\n",
       "           0.88889,     0.88989,     0.89089,     0.89189,     0.89289,     0.89389,     0.89489,      0.8959,      0.8969,      0.8979,      0.8989,      0.8999,      0.9009,      0.9019,      0.9029,      0.9039,      0.9049,     0.90591,     0.90691,     0.90791,     0.90891,     0.90991,     0.91091,     0.91191,\n",
       "           0.91291,     0.91391,     0.91491,     0.91592,     0.91692,     0.91792,     0.91892,     0.91992,     0.92092,     0.92192,     0.92292,     0.92392,     0.92492,     0.92593,     0.92693,     0.92793,     0.92893,     0.92993,     0.93093,     0.93193,     0.93293,     0.93393,     0.93493,     0.93594,\n",
       "           0.93694,     0.93794,     0.93894,     0.93994,     0.94094,     0.94194,     0.94294,     0.94394,     0.94494,     0.94595,     0.94695,     0.94795,     0.94895,     0.94995,     0.95095,     0.95195,     0.95295,     0.95395,     0.95495,     0.95596,     0.95696,     0.95796,     0.95896,     0.95996,\n",
       "           0.96096,     0.96196,     0.96296,     0.96396,     0.96496,     0.96597,     0.96697,     0.96797,     0.96897,     0.96997,     0.97097,     0.97197,     0.97297,     0.97397,     0.97497,     0.97598,     0.97698,     0.97798,     0.97898,     0.97998,     0.98098,     0.98198,     0.98298,     0.98398,\n",
       "           0.98498,     0.98599,     0.98699,     0.98799,     0.98899,     0.98999,     0.99099,     0.99199,     0.99299,     0.99399,     0.99499,       0.996,       0.997,       0.998,       0.999,           1]), array([[     0.8063,      0.8063,     0.79903,     0.79177,     0.77966,      0.7724,     0.76755,     0.75666,     0.75182,     0.74818,     0.74092,     0.73729,     0.73487,     0.73245,     0.72881,      0.7276,     0.72276,     0.72155,     0.72034,     0.71671,     0.71429,     0.71065,     0.70944,\n",
       "            0.70702,      0.7046,     0.70339,     0.70097,     0.69976,     0.69976,     0.69795,      0.6937,     0.68886,     0.68523,     0.68402,     0.68402,     0.67554,     0.67191,      0.6707,     0.66828,     0.66586,     0.66344,     0.66344,     0.66223,      0.6586,     0.65774,     0.65617,\n",
       "            0.65496,     0.65254,     0.65133,     0.65012,      0.6477,      0.6477,     0.64528,     0.64528,     0.64407,     0.64407,     0.64286,     0.63923,     0.63801,      0.6368,     0.63559,     0.63438,     0.63317,     0.63196,     0.62954,     0.62591,      0.6247,      0.6247,      0.6247,\n",
       "            0.62349,     0.62107,     0.62107,     0.61985,     0.61985,     0.61867,     0.61622,      0.6138,     0.61138,     0.61017,     0.60588,     0.60291,     0.60169,     0.60169,     0.60048,     0.59927,     0.59564,     0.59443,     0.59322,     0.59201,      0.5908,      0.5908,     0.58838,\n",
       "            0.58838,     0.58717,     0.58717,     0.58717,     0.58717,     0.58717,     0.58475,     0.58354,     0.58207,     0.58111,     0.57869,      0.5777,     0.57448,     0.57385,     0.57385,     0.57143,     0.57022,     0.56901,     0.56901,     0.56779,     0.56615,     0.56295,     0.56053,\n",
       "            0.55863,     0.55714,      0.5569,     0.55569,     0.55569,     0.55569,     0.55448,     0.55448,     0.55384,     0.55327,     0.55204,     0.55085,     0.55085,     0.55003,     0.54964,     0.54542,     0.54479,     0.54479,     0.54363,     0.54116,     0.53899,     0.53759,     0.53753,\n",
       "            0.53753,     0.53714,     0.53632,     0.53632,     0.53511,     0.53511,     0.53511,     0.53511,     0.53511,     0.53511,     0.53471,     0.53269,      0.5326,       0.532,     0.53103,     0.52906,     0.52906,     0.52906,     0.52894,     0.52785,     0.52785,     0.52785,     0.52569,\n",
       "            0.52542,     0.52256,     0.52179,     0.52058,     0.52058,     0.52058,     0.51937,     0.51937,     0.51937,     0.51937,     0.51862,     0.51816,     0.51816,     0.51721,     0.51489,     0.51211,     0.51211,      0.5109,      0.5106,     0.50969,     0.50726,     0.50551,     0.50242,\n",
       "            0.50121,     0.50121,     0.50099,         0.5,         0.5,     0.49692,     0.49516,     0.49415,     0.49195,     0.49013,     0.48869,     0.48668,     0.48652,     0.48568,     0.48301,     0.48125,     0.48063,     0.48063,     0.47942,     0.47779,     0.47596,     0.47579,     0.47458,\n",
       "            0.47458,     0.47458,     0.47458,     0.47337,     0.47215,     0.47215,     0.47215,     0.47215,     0.47215,     0.47215,     0.47015,     0.46973,     0.46852,     0.46731,      0.4661,     0.46489,     0.46359,     0.46257,     0.46051,     0.45779,     0.45642,     0.45642,     0.45642,\n",
       "            0.45448,     0.45278,     0.45243,     0.45201,      0.4516,     0.45034,     0.44839,     0.44794,     0.44794,     0.44794,     0.44794,     0.44794,     0.44691,     0.44629,     0.44575,     0.44501,     0.44431,     0.44431,     0.44431,     0.44431,     0.44431,     0.44431,      0.4431,\n",
       "            0.44104,     0.44068,     0.44068,     0.44068,     0.44068,     0.43887,     0.43747,     0.43705,     0.43098,      0.4303,     0.42978,     0.42958,     0.42932,     0.42907,     0.42882,     0.42857,     0.42748,     0.42728,      0.4252,     0.42373,     0.42286,     0.42226,     0.42187,\n",
       "            0.42148,     0.42045,     0.41889,     0.41754,     0.41654,     0.41646,     0.41646,     0.41524,      0.4148,     0.41436,     0.41404,     0.41278,     0.41172,     0.41162,     0.41118,     0.41055,     0.40894,     0.40849,     0.40804,     0.40678,     0.40592,     0.40557,     0.40489,\n",
       "            0.40385,     0.40272,     0.40064,     0.40019,     0.39975,     0.39934,     0.39897,      0.3986,     0.39692,     0.39403,     0.39346,     0.39346,     0.39346,     0.39346,     0.39225,     0.39141,     0.38941,     0.38862,     0.38862,     0.38862,      0.3862,     0.38613,     0.38551,\n",
       "            0.38472,     0.38378,     0.38378,     0.38378,     0.38257,     0.38257,     0.38209,      0.3811,     0.38015,     0.37976,     0.37928,     0.37893,     0.37893,     0.37651,     0.37442,     0.37243,     0.37167,     0.37167,     0.37167,     0.37051,     0.36879,     0.36804,     0.36804,\n",
       "            0.36758,     0.36687,     0.36562,     0.36556,     0.36523,     0.36489,     0.36455,     0.36343,      0.3632,      0.3632,      0.3632,      0.3624,     0.36099,     0.35965,     0.35817,     0.35768,      0.3572,     0.35658,     0.35595,      0.3553,     0.35472,     0.35365,      0.3507,\n",
       "            0.34928,     0.34867,     0.34794,     0.34746,     0.34675,     0.34622,     0.34476,     0.34422,     0.34352,     0.34262,     0.34262,     0.34258,     0.34105,     0.34035,     0.34019,     0.33898,     0.33722,      0.3354,     0.33414,     0.33414,     0.33414,     0.33414,     0.33383,\n",
       "             0.3331,     0.33218,     0.33172,     0.33172,     0.32864,     0.32594,     0.32567,     0.32567,     0.32567,      0.3243,     0.32401,     0.32372,     0.32344,     0.32324,     0.32291,     0.32084,     0.31931,      0.3184,     0.31598,     0.31598,       0.315,     0.31378,     0.31324,\n",
       "            0.31284,     0.31244,     0.31092,     0.30993,     0.30804,     0.30718,     0.30679,      0.3064,     0.30453,     0.30222,     0.30145,     0.30141,     0.30119,     0.30097,     0.30076,     0.30054,     0.30032,     0.29758,     0.29682,      0.2954,      0.2954,      0.2954,     0.29419,\n",
       "            0.29419,     0.29409,     0.29324,     0.29212,     0.29134,     0.29073,     0.28997,     0.28935,     0.28935,     0.28935,     0.28935,     0.28907,     0.28828,     0.28668,     0.28637,     0.28607,     0.28576,     0.28541,     0.28505,     0.28468,     0.28356,     0.28173,     0.28127,\n",
       "            0.28087,     0.28039,     0.27959,     0.27853,     0.27802,     0.27755,     0.27724,     0.27632,     0.27474,     0.27424,     0.27373,     0.27283,     0.27198,     0.27126,     0.26998,     0.26998,     0.26964,      0.2676,     0.26348,      0.2616,     0.26022,     0.25686,     0.25569,\n",
       "            0.25473,     0.25407,     0.25372,     0.25336,     0.25303,     0.25299,     0.25244,     0.25189,     0.25118,     0.25005,     0.24939,     0.24907,     0.24838,     0.24818,     0.24818,     0.24818,     0.24818,     0.24611,     0.24455,     0.24433,      0.2439,     0.24347,     0.24332,\n",
       "            0.24264,     0.24195,     0.24125,     0.24058,     0.23995,     0.23857,     0.23577,     0.23291,     0.23207,     0.23165,     0.23016,     0.22928,     0.22835,     0.22724,     0.22605,     0.22352,     0.22246,     0.22186,     0.22033,      0.2197,     0.21902,      0.2155,      0.2155,\n",
       "            0.21455,     0.21308,     0.21308,     0.21308,     0.21308,     0.21308,     0.21284,     0.21186,     0.21186,     0.21186,     0.21186,     0.21186,     0.21103,     0.20963,     0.20902,     0.20853,     0.20823,     0.20738,     0.20545,      0.2048,     0.20368,       0.203,      0.2025,\n",
       "            0.20218,     0.20083,     0.19991,     0.19734,     0.19734,     0.19734,     0.19669,     0.19578,     0.19492,     0.19389,     0.19329,     0.19284,     0.19235,     0.19174,     0.19085,     0.18905,     0.18835,     0.18779,     0.18634,     0.18574,     0.18517,     0.18478,     0.18439,\n",
       "             0.1839,     0.18245,     0.18164,     0.18102,     0.18041,     0.17996,     0.17951,     0.17829,      0.1776,     0.17721,     0.17681,     0.17398,     0.17331,     0.17125,     0.16937,     0.16899,     0.16861,     0.16775,     0.16672,      0.1663,     0.16588,     0.16523,     0.16435,\n",
       "             0.1629,     0.16223,     0.16223,     0.16223,     0.16223,     0.16223,     0.16223,     0.16223,     0.16205,     0.16051,     0.15981,     0.15856,     0.15496,     0.15348,     0.15181,     0.14937,     0.14854,     0.14812,      0.1477,     0.14598,     0.14407,     0.14398,     0.14372,\n",
       "            0.14345,     0.14319,     0.14292,     0.14184,     0.14153,     0.14016,     0.13928,     0.13801,     0.13801,     0.13746,     0.13668,     0.13618,     0.13568,     0.13522,     0.13477,     0.13433,     0.13393,     0.13353,     0.13313,      0.1326,     0.13208,     0.13044,      0.1287,\n",
       "            0.12566,     0.12534,     0.12501,     0.12457,     0.12291,     0.12091,     0.12034,     0.11967,     0.11855,     0.11792,     0.11743,     0.11743,     0.11716,      0.1168,     0.11644,     0.11579,      0.1146,      0.1124,     0.11017,     0.11008,     0.10956,     0.10904,     0.10593,\n",
       "            0.10398,     0.10316,     0.10169,     0.10025,    0.099035,    0.096358,    0.093987,    0.093126,    0.092905,    0.092683,    0.092462,     0.09224,    0.092019,    0.089277,    0.087167,    0.085766,    0.085255,    0.084746,    0.084511,    0.084068,    0.083626,    0.082796,    0.081727,\n",
       "           0.080879,    0.080403,    0.079927,    0.076271,    0.071156,    0.068419,    0.067112,    0.065356,    0.064762,    0.064168,    0.062222,    0.059888,    0.059127,    0.058742,    0.058357,    0.057879,    0.057238,    0.056464,    0.055412,    0.053981,    0.053113,    0.052657,    0.052202,\n",
       "           0.051792,    0.051403,    0.051013,    0.049492,    0.049048,    0.048604,    0.047857,    0.046594,    0.045497,     0.04476,    0.043911,    0.042463,    0.042114,    0.041841,    0.041569,    0.041297,     0.04097,     0.04059,     0.04021,    0.039664,    0.038764,    0.038355,     0.03796,\n",
       "           0.037564,    0.036869,    0.034858,    0.033723,    0.033232,    0.032741,    0.031106,    0.030558,    0.029453,    0.028337,    0.027383,    0.026531,    0.026092,    0.025652,    0.025085,    0.024382,    0.022259,    0.020192,    0.019677,    0.019058,    0.018282,    0.017776,     0.01732,\n",
       "           0.016849,    0.016309,    0.015769,    0.015494,    0.015234,    0.014974,    0.014715,     0.01429,    0.013441,    0.012632,     0.01087,    0.010401,    0.009931,   0.0095743,   0.0093416,    0.009109,   0.0088763,   0.0086437,   0.0082998,   0.0076602,    0.007094,   0.0066473,   0.0062007,\n",
       "          0.0047866,    0.004617,   0.0044475,   0.0042779,   0.0041083,   0.0039388,   0.0037692,    0.003571,   0.0032504,   0.0029299,   0.0026093,   0.0023527,   0.0021866,   0.0020206,   0.0018546,   0.0016886,   0.0015225,   0.0013565,           0,           0,           0,           0,           0,\n",
       "                  0,           0,           0,           0,           0,           0,           0,           0,           0,           0,           0,           0,           0,           0,           0,           0,           0,           0,           0,           0,           0,           0,           0,\n",
       "                  0,           0,           0,           0,           0,           0,           0,           0,           0,           0,           0,           0,           0,           0,           0,           0,           0,           0,           0,           0,           0,           0,           0,\n",
       "                  0,           0,           0,           0,           0,           0,           0,           0,           0,           0,           0,           0,           0,           0,           0,           0,           0,           0,           0,           0,           0,           0,           0,\n",
       "                  0,           0,           0,           0,           0,           0,           0,           0,           0,           0,           0,           0,           0,           0,           0,           0,           0,           0,           0,           0,           0,           0,           0,\n",
       "                  0,           0,           0,           0,           0,           0,           0,           0,           0,           0,           0,           0,           0,           0,           0,           0,           0,           0,           0,           0,           0,           0,           0,\n",
       "                  0,           0,           0,           0,           0,           0,           0,           0,           0,           0,           0,           0,           0,           0,           0,           0,           0,           0,           0,           0,           0,           0,           0,\n",
       "                  0,           0,           0,           0,           0,           0,           0,           0,           0,           0,           0,           0,           0,           0,           0,           0,           0,           0,           0,           0,           0,           0,           0,\n",
       "                  0,           0,           0,           0,           0,           0,           0,           0,           0,           0,           0,           0,           0,           0,           0,           0,           0,           0,           0,           0,           0,           0,           0,\n",
       "                  0,           0,           0,           0,           0,           0,           0,           0,           0,           0,           0]]), 'Confidence', 'Recall'], [array([          0,    0.001001,    0.002002,    0.003003,    0.004004,    0.005005,    0.006006,    0.007007,    0.008008,    0.009009,     0.01001,    0.011011,    0.012012,    0.013013,    0.014014,    0.015015,    0.016016,    0.017017,    0.018018,    0.019019,     0.02002,    0.021021,    0.022022,    0.023023,\n",
       "          0.024024,    0.025025,    0.026026,    0.027027,    0.028028,    0.029029,     0.03003,    0.031031,    0.032032,    0.033033,    0.034034,    0.035035,    0.036036,    0.037037,    0.038038,    0.039039,     0.04004,    0.041041,    0.042042,    0.043043,    0.044044,    0.045045,    0.046046,    0.047047,\n",
       "          0.048048,    0.049049,     0.05005,    0.051051,    0.052052,    0.053053,    0.054054,    0.055055,    0.056056,    0.057057,    0.058058,    0.059059,     0.06006,    0.061061,    0.062062,    0.063063,    0.064064,    0.065065,    0.066066,    0.067067,    0.068068,    0.069069,     0.07007,    0.071071,\n",
       "          0.072072,    0.073073,    0.074074,    0.075075,    0.076076,    0.077077,    0.078078,    0.079079,     0.08008,    0.081081,    0.082082,    0.083083,    0.084084,    0.085085,    0.086086,    0.087087,    0.088088,    0.089089,     0.09009,    0.091091,    0.092092,    0.093093,    0.094094,    0.095095,\n",
       "          0.096096,    0.097097,    0.098098,    0.099099,      0.1001,      0.1011,      0.1021,      0.1031,      0.1041,     0.10511,     0.10611,     0.10711,     0.10811,     0.10911,     0.11011,     0.11111,     0.11211,     0.11311,     0.11411,     0.11512,     0.11612,     0.11712,     0.11812,     0.11912,\n",
       "           0.12012,     0.12112,     0.12212,     0.12312,     0.12412,     0.12513,     0.12613,     0.12713,     0.12813,     0.12913,     0.13013,     0.13113,     0.13213,     0.13313,     0.13413,     0.13514,     0.13614,     0.13714,     0.13814,     0.13914,     0.14014,     0.14114,     0.14214,     0.14314,\n",
       "           0.14414,     0.14515,     0.14615,     0.14715,     0.14815,     0.14915,     0.15015,     0.15115,     0.15215,     0.15315,     0.15415,     0.15516,     0.15616,     0.15716,     0.15816,     0.15916,     0.16016,     0.16116,     0.16216,     0.16316,     0.16416,     0.16517,     0.16617,     0.16717,\n",
       "           0.16817,     0.16917,     0.17017,     0.17117,     0.17217,     0.17317,     0.17417,     0.17518,     0.17618,     0.17718,     0.17818,     0.17918,     0.18018,     0.18118,     0.18218,     0.18318,     0.18418,     0.18519,     0.18619,     0.18719,     0.18819,     0.18919,     0.19019,     0.19119,\n",
       "           0.19219,     0.19319,     0.19419,      0.1952,      0.1962,      0.1972,      0.1982,      0.1992,      0.2002,      0.2012,      0.2022,      0.2032,      0.2042,     0.20521,     0.20621,     0.20721,     0.20821,     0.20921,     0.21021,     0.21121,     0.21221,     0.21321,     0.21421,     0.21522,\n",
       "           0.21622,     0.21722,     0.21822,     0.21922,     0.22022,     0.22122,     0.22222,     0.22322,     0.22422,     0.22523,     0.22623,     0.22723,     0.22823,     0.22923,     0.23023,     0.23123,     0.23223,     0.23323,     0.23423,     0.23524,     0.23624,     0.23724,     0.23824,     0.23924,\n",
       "           0.24024,     0.24124,     0.24224,     0.24324,     0.24424,     0.24525,     0.24625,     0.24725,     0.24825,     0.24925,     0.25025,     0.25125,     0.25225,     0.25325,     0.25425,     0.25526,     0.25626,     0.25726,     0.25826,     0.25926,     0.26026,     0.26126,     0.26226,     0.26326,\n",
       "           0.26426,     0.26527,     0.26627,     0.26727,     0.26827,     0.26927,     0.27027,     0.27127,     0.27227,     0.27327,     0.27427,     0.27528,     0.27628,     0.27728,     0.27828,     0.27928,     0.28028,     0.28128,     0.28228,     0.28328,     0.28428,     0.28529,     0.28629,     0.28729,\n",
       "           0.28829,     0.28929,     0.29029,     0.29129,     0.29229,     0.29329,     0.29429,      0.2953,      0.2963,      0.2973,      0.2983,      0.2993,      0.3003,      0.3013,      0.3023,      0.3033,      0.3043,     0.30531,     0.30631,     0.30731,     0.30831,     0.30931,     0.31031,     0.31131,\n",
       "           0.31231,     0.31331,     0.31431,     0.31532,     0.31632,     0.31732,     0.31832,     0.31932,     0.32032,     0.32132,     0.32232,     0.32332,     0.32432,     0.32533,     0.32633,     0.32733,     0.32833,     0.32933,     0.33033,     0.33133,     0.33233,     0.33333,     0.33433,     0.33534,\n",
       "           0.33634,     0.33734,     0.33834,     0.33934,     0.34034,     0.34134,     0.34234,     0.34334,     0.34434,     0.34535,     0.34635,     0.34735,     0.34835,     0.34935,     0.35035,     0.35135,     0.35235,     0.35335,     0.35435,     0.35536,     0.35636,     0.35736,     0.35836,     0.35936,\n",
       "           0.36036,     0.36136,     0.36236,     0.36336,     0.36436,     0.36537,     0.36637,     0.36737,     0.36837,     0.36937,     0.37037,     0.37137,     0.37237,     0.37337,     0.37437,     0.37538,     0.37638,     0.37738,     0.37838,     0.37938,     0.38038,     0.38138,     0.38238,     0.38338,\n",
       "           0.38438,     0.38539,     0.38639,     0.38739,     0.38839,     0.38939,     0.39039,     0.39139,     0.39239,     0.39339,     0.39439,      0.3954,      0.3964,      0.3974,      0.3984,      0.3994,      0.4004,      0.4014,      0.4024,      0.4034,      0.4044,     0.40541,     0.40641,     0.40741,\n",
       "           0.40841,     0.40941,     0.41041,     0.41141,     0.41241,     0.41341,     0.41441,     0.41542,     0.41642,     0.41742,     0.41842,     0.41942,     0.42042,     0.42142,     0.42242,     0.42342,     0.42442,     0.42543,     0.42643,     0.42743,     0.42843,     0.42943,     0.43043,     0.43143,\n",
       "           0.43243,     0.43343,     0.43443,     0.43544,     0.43644,     0.43744,     0.43844,     0.43944,     0.44044,     0.44144,     0.44244,     0.44344,     0.44444,     0.44545,     0.44645,     0.44745,     0.44845,     0.44945,     0.45045,     0.45145,     0.45245,     0.45345,     0.45445,     0.45546,\n",
       "           0.45646,     0.45746,     0.45846,     0.45946,     0.46046,     0.46146,     0.46246,     0.46346,     0.46446,     0.46547,     0.46647,     0.46747,     0.46847,     0.46947,     0.47047,     0.47147,     0.47247,     0.47347,     0.47447,     0.47548,     0.47648,     0.47748,     0.47848,     0.47948,\n",
       "           0.48048,     0.48148,     0.48248,     0.48348,     0.48448,     0.48549,     0.48649,     0.48749,     0.48849,     0.48949,     0.49049,     0.49149,     0.49249,     0.49349,     0.49449,      0.4955,      0.4965,      0.4975,      0.4985,      0.4995,      0.5005,      0.5015,      0.5025,      0.5035,\n",
       "            0.5045,     0.50551,     0.50651,     0.50751,     0.50851,     0.50951,     0.51051,     0.51151,     0.51251,     0.51351,     0.51451,     0.51552,     0.51652,     0.51752,     0.51852,     0.51952,     0.52052,     0.52152,     0.52252,     0.52352,     0.52452,     0.52553,     0.52653,     0.52753,\n",
       "           0.52853,     0.52953,     0.53053,     0.53153,     0.53253,     0.53353,     0.53453,     0.53554,     0.53654,     0.53754,     0.53854,     0.53954,     0.54054,     0.54154,     0.54254,     0.54354,     0.54454,     0.54555,     0.54655,     0.54755,     0.54855,     0.54955,     0.55055,     0.55155,\n",
       "           0.55255,     0.55355,     0.55455,     0.55556,     0.55656,     0.55756,     0.55856,     0.55956,     0.56056,     0.56156,     0.56256,     0.56356,     0.56456,     0.56557,     0.56657,     0.56757,     0.56857,     0.56957,     0.57057,     0.57157,     0.57257,     0.57357,     0.57457,     0.57558,\n",
       "           0.57658,     0.57758,     0.57858,     0.57958,     0.58058,     0.58158,     0.58258,     0.58358,     0.58458,     0.58559,     0.58659,     0.58759,     0.58859,     0.58959,     0.59059,     0.59159,     0.59259,     0.59359,     0.59459,      0.5956,      0.5966,      0.5976,      0.5986,      0.5996,\n",
       "            0.6006,      0.6016,      0.6026,      0.6036,      0.6046,     0.60561,     0.60661,     0.60761,     0.60861,     0.60961,     0.61061,     0.61161,     0.61261,     0.61361,     0.61461,     0.61562,     0.61662,     0.61762,     0.61862,     0.61962,     0.62062,     0.62162,     0.62262,     0.62362,\n",
       "           0.62462,     0.62563,     0.62663,     0.62763,     0.62863,     0.62963,     0.63063,     0.63163,     0.63263,     0.63363,     0.63463,     0.63564,     0.63664,     0.63764,     0.63864,     0.63964,     0.64064,     0.64164,     0.64264,     0.64364,     0.64464,     0.64565,     0.64665,     0.64765,\n",
       "           0.64865,     0.64965,     0.65065,     0.65165,     0.65265,     0.65365,     0.65465,     0.65566,     0.65666,     0.65766,     0.65866,     0.65966,     0.66066,     0.66166,     0.66266,     0.66366,     0.66466,     0.66567,     0.66667,     0.66767,     0.66867,     0.66967,     0.67067,     0.67167,\n",
       "           0.67267,     0.67367,     0.67467,     0.67568,     0.67668,     0.67768,     0.67868,     0.67968,     0.68068,     0.68168,     0.68268,     0.68368,     0.68468,     0.68569,     0.68669,     0.68769,     0.68869,     0.68969,     0.69069,     0.69169,     0.69269,     0.69369,     0.69469,      0.6957,\n",
       "            0.6967,      0.6977,      0.6987,      0.6997,      0.7007,      0.7017,      0.7027,      0.7037,      0.7047,     0.70571,     0.70671,     0.70771,     0.70871,     0.70971,     0.71071,     0.71171,     0.71271,     0.71371,     0.71471,     0.71572,     0.71672,     0.71772,     0.71872,     0.71972,\n",
       "           0.72072,     0.72172,     0.72272,     0.72372,     0.72472,     0.72573,     0.72673,     0.72773,     0.72873,     0.72973,     0.73073,     0.73173,     0.73273,     0.73373,     0.73473,     0.73574,     0.73674,     0.73774,     0.73874,     0.73974,     0.74074,     0.74174,     0.74274,     0.74374,\n",
       "           0.74474,     0.74575,     0.74675,     0.74775,     0.74875,     0.74975,     0.75075,     0.75175,     0.75275,     0.75375,     0.75475,     0.75576,     0.75676,     0.75776,     0.75876,     0.75976,     0.76076,     0.76176,     0.76276,     0.76376,     0.76476,     0.76577,     0.76677,     0.76777,\n",
       "           0.76877,     0.76977,     0.77077,     0.77177,     0.77277,     0.77377,     0.77477,     0.77578,     0.77678,     0.77778,     0.77878,     0.77978,     0.78078,     0.78178,     0.78278,     0.78378,     0.78478,     0.78579,     0.78679,     0.78779,     0.78879,     0.78979,     0.79079,     0.79179,\n",
       "           0.79279,     0.79379,     0.79479,      0.7958,      0.7968,      0.7978,      0.7988,      0.7998,      0.8008,      0.8018,      0.8028,      0.8038,      0.8048,     0.80581,     0.80681,     0.80781,     0.80881,     0.80981,     0.81081,     0.81181,     0.81281,     0.81381,     0.81481,     0.81582,\n",
       "           0.81682,     0.81782,     0.81882,     0.81982,     0.82082,     0.82182,     0.82282,     0.82382,     0.82482,     0.82583,     0.82683,     0.82783,     0.82883,     0.82983,     0.83083,     0.83183,     0.83283,     0.83383,     0.83483,     0.83584,     0.83684,     0.83784,     0.83884,     0.83984,\n",
       "           0.84084,     0.84184,     0.84284,     0.84384,     0.84484,     0.84585,     0.84685,     0.84785,     0.84885,     0.84985,     0.85085,     0.85185,     0.85285,     0.85385,     0.85485,     0.85586,     0.85686,     0.85786,     0.85886,     0.85986,     0.86086,     0.86186,     0.86286,     0.86386,\n",
       "           0.86486,     0.86587,     0.86687,     0.86787,     0.86887,     0.86987,     0.87087,     0.87187,     0.87287,     0.87387,     0.87487,     0.87588,     0.87688,     0.87788,     0.87888,     0.87988,     0.88088,     0.88188,     0.88288,     0.88388,     0.88488,     0.88589,     0.88689,     0.88789,\n",
       "           0.88889,     0.88989,     0.89089,     0.89189,     0.89289,     0.89389,     0.89489,      0.8959,      0.8969,      0.8979,      0.8989,      0.8999,      0.9009,      0.9019,      0.9029,      0.9039,      0.9049,     0.90591,     0.90691,     0.90791,     0.90891,     0.90991,     0.91091,     0.91191,\n",
       "           0.91291,     0.91391,     0.91491,     0.91592,     0.91692,     0.91792,     0.91892,     0.91992,     0.92092,     0.92192,     0.92292,     0.92392,     0.92492,     0.92593,     0.92693,     0.92793,     0.92893,     0.92993,     0.93093,     0.93193,     0.93293,     0.93393,     0.93493,     0.93594,\n",
       "           0.93694,     0.93794,     0.93894,     0.93994,     0.94094,     0.94194,     0.94294,     0.94394,     0.94494,     0.94595,     0.94695,     0.94795,     0.94895,     0.94995,     0.95095,     0.95195,     0.95295,     0.95395,     0.95495,     0.95596,     0.95696,     0.95796,     0.95896,     0.95996,\n",
       "           0.96096,     0.96196,     0.96296,     0.96396,     0.96496,     0.96597,     0.96697,     0.96797,     0.96897,     0.96997,     0.97097,     0.97197,     0.97297,     0.97397,     0.97497,     0.97598,     0.97698,     0.97798,     0.97898,     0.97998,     0.98098,     0.98198,     0.98298,     0.98398,\n",
       "           0.98498,     0.98599,     0.98699,     0.98799,     0.98899,     0.98999,     0.99099,     0.99199,     0.99299,     0.99399,     0.99499,       0.996,       0.997,       0.998,       0.999,           1]), array([[          1,           1,           1,           1,           1,           1,           1,           1,           1,           1,           1,           1,           1,           1,           1,           1,           1,           1,           1,           1,           1,           1,           1,\n",
       "                  1,           1,     0.98413,     0.98413,     0.98413,     0.98413,     0.98413,     0.98413,     0.98413,     0.98413,     0.98413,     0.98413,     0.98413,     0.98413,     0.98413,     0.98413,     0.98413,     0.98413,     0.98413,     0.98413,     0.98413,     0.98413,     0.98413,\n",
       "            0.98413,     0.98413,     0.98413,     0.98413,     0.98413,     0.98413,     0.98413,     0.98413,     0.98413,     0.98413,     0.98413,     0.98413,     0.98413,     0.98413,     0.98413,     0.98413,     0.98413,     0.98413,     0.98413,     0.98413,     0.98413,     0.98413,     0.98413,\n",
       "            0.98413,     0.98413,     0.98413,     0.98413,     0.98413,     0.98413,     0.97183,     0.97183,     0.97183,     0.97183,     0.97183,     0.97183,     0.97183,     0.97183,     0.97183,      0.9589,     0.94667,     0.93902,     0.93902,     0.93902,     0.93902,     0.93902,     0.93902,\n",
       "            0.93902,     0.93902,     0.93182,     0.93182,     0.93182,     0.93182,     0.93182,     0.93182,     0.92708,     0.92708,     0.92708,     0.92708,     0.92708,     0.92708,     0.92708,     0.92708,     0.92079,     0.92079,     0.92079,     0.92079,     0.92079,     0.91736,     0.91736,\n",
       "            0.91736,     0.91736,     0.91736,     0.91736,     0.91736,     0.91736,     0.91736,     0.91736,     0.91736,     0.91736,     0.91736,     0.91736,     0.91736,     0.91736,     0.91736,     0.91736,     0.91736,     0.91736,     0.91736,     0.91736,       0.912,       0.912,       0.912,\n",
       "            0.90625,     0.90625,     0.90625,      0.9058,      0.9058,      0.9058,      0.9058,      0.9058,      0.9058,      0.9058,      0.9058,      0.9058,      0.9058,      0.9058,     0.90071,     0.90071,      0.8951,     0.89041,     0.89041,     0.89041,     0.88571,     0.88571,     0.88571,\n",
       "            0.88571,     0.88571,     0.88571,     0.88571,     0.88571,     0.88571,     0.88571,     0.88571,     0.88571,     0.88571,     0.88571,     0.88571,     0.88571,     0.88571,     0.88571,     0.88571,     0.88571,     0.88571,     0.88571,     0.88571,     0.88571,     0.88571,     0.88571,\n",
       "            0.88571,     0.88571,     0.88571,     0.88571,     0.88136,       0.875,       0.875,       0.875,       0.875,       0.875,       0.875,     0.87166,     0.87166,     0.87166,     0.86842,     0.86842,     0.86598,     0.86598,     0.86598,     0.86598,     0.86224,      0.8593,      0.8593,\n",
       "            0.85202,     0.85202,     0.85202,     0.85202,     0.85202,     0.85202,     0.85202,     0.85202,     0.85202,     0.85202,     0.85202,     0.85202,     0.85202,     0.85202,     0.85202,     0.85202,     0.85202,     0.85202,     0.85202,     0.85202,     0.85202,     0.85202,     0.85202,\n",
       "            0.83843,     0.83843,     0.83843,      0.8355,     0.83404,     0.83404,     0.83404,     0.83404,     0.83264,     0.83264,     0.83264,     0.82988,     0.82716,     0.82716,     0.82114,     0.81928,     0.81928,     0.81818,     0.81818,     0.81818,     0.81818,     0.80695,     0.80695,\n",
       "            0.80657,     0.80657,     0.80657,     0.80657,     0.80657,     0.80657,     0.80657,     0.80657,     0.80657,     0.80657,     0.80657,     0.80657,     0.80657,     0.80657,     0.80657,     0.80576,     0.80576,     0.80576,     0.80556,     0.80556,     0.80556,     0.80556,     0.80556,\n",
       "            0.80556,     0.80556,     0.80556,     0.80556,     0.80556,     0.79866,     0.79866,     0.79866,     0.79866,     0.79866,     0.79866,     0.79866,     0.79139,     0.79139,     0.79016,     0.79016,     0.78896,     0.78896,     0.78778,     0.78778,     0.78778,     0.78594,     0.78413,\n",
       "            0.77019,     0.76994,     0.76994,     0.76994,     0.76994,     0.76829,     0.76737,     0.76737,     0.76737,     0.76577,     0.76488,     0.76488,     0.76331,     0.76331,     0.76246,     0.76246,     0.76232,     0.76232,     0.76232,     0.76232,     0.76056,     0.76056,     0.76056,\n",
       "            0.76056,     0.76056,     0.76056,     0.76056,     0.76056,     0.76045,     0.76045,     0.76045,     0.76045,     0.75824,     0.75824,     0.75824,     0.75683,     0.75683,     0.75543,     0.75202,     0.75066,     0.75066,     0.75066,     0.75066,     0.75066,     0.75066,     0.75066,\n",
       "            0.75066,        0.75,        0.75,        0.75,      0.7487,     0.74807,     0.74807,      0.7449,      0.7449,     0.74365,     0.73333,     0.73333,     0.73333,     0.73333,     0.73333,     0.73012,     0.73012,     0.73012,     0.73012,     0.73012,     0.73012,     0.73012,     0.72967,\n",
       "            0.72967,       0.726,       0.726,       0.726,       0.726,       0.726,       0.726,     0.72494,     0.72494,     0.71233,     0.71082,     0.71082,     0.71082,     0.71082,     0.71082,     0.71082,     0.71082,     0.71082,     0.71082,     0.71082,     0.71082,     0.71082,     0.70678,\n",
       "            0.70499,     0.70499,     0.70499,      0.7041,     0.69936,     0.69936,     0.69851,     0.69392,     0.69392,     0.69392,     0.69311,     0.69215,     0.69215,     0.69215,     0.69215,      0.6856,      0.6856,      0.6856,     0.68485,     0.68485,      0.6841,     0.68317,     0.68317,\n",
       "            0.68317,     0.68317,     0.68317,     0.68317,     0.68245,     0.67773,     0.67442,     0.67375,     0.67375,     0.67308,     0.66985,     0.66541,     0.66353,     0.66045,     0.66045,     0.65619,     0.65562,     0.65505,     0.65162,     0.65162,     0.65162,     0.65162,     0.65162,\n",
       "            0.65108,     0.64591,     0.64591,     0.64211,     0.64211,     0.64211,     0.64161,        0.64,        0.64,     0.63511,     0.62775,     0.62775,     0.62732,     0.62689,     0.62689,     0.62437,     0.62396,     0.61905,     0.61905,     0.61264,     0.61264,     0.61031,     0.60222,\n",
       "            0.60095,      0.5938,      0.5938,      0.5938,     0.58896,     0.58869,     0.58841,     0.58815,     0.58815,     0.58234,     0.58234,     0.58122,      0.5731,      0.5731,      0.5731,     0.57039,     0.56936,     0.56509,     0.56472,     0.56472,     0.56472,     0.56276,     0.56276,\n",
       "            0.56259,     0.56241,     0.56224,     0.56224,     0.55586,     0.55418,     0.54791,     0.54791,     0.54791,     0.54778,     0.54692,     0.54521,     0.54521,     0.54365,     0.54365,     0.54068,     0.53956,     0.53956,     0.53956,     0.53956,     0.53956,     0.53935,     0.53935,\n",
       "            0.53925,     0.53299,     0.53291,     0.53291,     0.52949,     0.52287,     0.52153,      0.5164,      0.5164,     0.51387,     0.49479,     0.48922,     0.48922,     0.48922,     0.48922,     0.48922,     0.48761,     0.48761,     0.48546,     0.48066,     0.48066,     0.47812,     0.47812,\n",
       "            0.47204,     0.47204,     0.46958,     0.46958,     0.45985,     0.45946,     0.45623,     0.45306,     0.45178,     0.45178,     0.44745,     0.44745,     0.44489,      0.4428,      0.4428,     0.44248,     0.43629,     0.43629,       0.436,     0.43457,     0.43457,     0.43457,     0.43305,\n",
       "            0.43236,     0.42924,     0.41727,     0.41727,     0.41367,     0.41197,     0.41114,     0.41114,     0.41114,     0.41114,     0.41114,     0.40734,     0.40433,      0.4038,      0.4038,     0.40292,     0.40102,     0.39185,     0.38657,     0.38455,     0.38455,     0.38257,     0.38214,\n",
       "            0.38099,     0.38099,     0.36761,     0.36761,     0.36761,     0.36753,     0.36003,     0.34602,     0.33541,     0.33541,     0.33541,      0.3266,     0.32207,     0.31851,     0.31633,     0.31633,     0.31633,     0.31633,     0.31454,     0.31418,     0.31418,     0.31191,     0.31191,\n",
       "            0.31191,     0.31082,     0.31082,     0.31082,     0.31071,     0.31071,     0.30883,     0.30793,     0.30369,     0.30369,     0.29525,     0.29525,     0.29309,     0.29062,     0.29062,     0.29062,     0.29062,      0.2897,     0.28928,     0.27863,     0.27863,     0.27497,        0.27,\n",
       "            0.25559,     0.25457,     0.25158,     0.25158,     0.25158,     0.24388,     0.23431,     0.23413,     0.21992,     0.21992,     0.21723,     0.21665,     0.21653,      0.2144,      0.2144,      0.2144,      0.2144,     0.21188,     0.21084,     0.20776,     0.20776,     0.20605,     0.19501,\n",
       "            0.18533,     0.18169,     0.18169,     0.18169,     0.18169,     0.18111,     0.17933,     0.17765,     0.17561,     0.17561,     0.16739,     0.16687,     0.16687,      0.1657,     0.16411,     0.16411,     0.16313,     0.16246,     0.15889,     0.15583,     0.15244,     0.15244,     0.14763,\n",
       "            0.14763,     0.14401,      0.1426,      0.1426,     0.14012,     0.14012,     0.13894,     0.13894,     0.13647,     0.13647,     0.13619,     0.13617,     0.13435,     0.13335,     0.13202,     0.13202,     0.12974,     0.12899,     0.12702,     0.12547,     0.11911,     0.11911,     0.11795,\n",
       "            0.11795,     0.11429,     0.11176,     0.11176,     0.11047,     0.11039,     0.10928,     0.10899,     0.10806,     0.10806,     0.10501,     0.10466,     0.10342,     0.10294,     0.10087,     0.10087,    0.099506,    0.098253,    0.096445,    0.094555,    0.092698,    0.092698,    0.092698,\n",
       "           0.091402,    0.090951,    0.090923,    0.090895,    0.090895,    0.088459,    0.087634,    0.087634,    0.085813,    0.085813,    0.084775,    0.084708,    0.084708,    0.084708,    0.082749,    0.082749,    0.082422,    0.080684,    0.080602,    0.079319,    0.078525,    0.078525,     0.07832,\n",
       "           0.076049,    0.074173,    0.073446,    0.073369,    0.073369,    0.073369,    0.073156,    0.069327,    0.068006,    0.068006,    0.066081,    0.065857,    0.065001,    0.057521,    0.057291,    0.057061,    0.056831,    0.056601,    0.056371,    0.056141,    0.055911,    0.055681,     0.05545,\n",
       "            0.05522,     0.05499,     0.05476,     0.05453,      0.0543,     0.05407,     0.05384,     0.05361,     0.05338,     0.05315,     0.05292,    0.052689,    0.052459,    0.052229,    0.051999,    0.051769,    0.051539,    0.051309,    0.051079,    0.050849,    0.050619,    0.050389,    0.050158,\n",
       "           0.049928,    0.049698,    0.049468,    0.049238,    0.049008,    0.048778,    0.048548,    0.048318,    0.048088,    0.047858,    0.047628,    0.047397,    0.047167,    0.046937,    0.046707,    0.046477,    0.046247,    0.046017,    0.045787,    0.045557,    0.045327,    0.045097,    0.044867,\n",
       "           0.044636,    0.044406,    0.044176,    0.043946,    0.043716,    0.043486,    0.043256,    0.043026,    0.042796,    0.042566,    0.042336,    0.042106,    0.041875,    0.041645,    0.041415,    0.041185,    0.040955,    0.040725,    0.040495,    0.040265,    0.040035,    0.039805,    0.039575,\n",
       "           0.039345,    0.039114,    0.038884,    0.038654,    0.038424,    0.038194,    0.037964,    0.037734,    0.037504,    0.037274,    0.037044,    0.036814,    0.036583,    0.036353,    0.036123,    0.035893,    0.035663,    0.035433,    0.035203,    0.034973,    0.034743,    0.034513,    0.034283,\n",
       "           0.034053,    0.033822,    0.033592,    0.033362,    0.033132,    0.032902,    0.032672,    0.032442,    0.032212,    0.031982,    0.031752,    0.031522,    0.031292,    0.031061,    0.030831,    0.030601,    0.030371,    0.030141,    0.029911,    0.029681,    0.029451,    0.029221,    0.028991,\n",
       "           0.028761,    0.028531,      0.0283,     0.02807,     0.02784,     0.02761,     0.02738,     0.02715,     0.02692,     0.02669,     0.02646,     0.02623,       0.026,     0.02577,    0.025539,    0.025309,    0.025079,    0.024849,    0.024619,    0.024389,    0.024159,    0.023929,    0.023699,\n",
       "           0.023469,    0.023239,    0.023008,    0.022778,    0.022548,    0.022318,    0.022088,    0.021858,    0.021628,    0.021398,    0.021168,    0.020938,    0.020708,    0.020478,    0.020247,    0.020017,    0.019787,    0.019557,    0.019327,    0.019097,    0.018867,    0.018637,    0.018407,\n",
       "           0.018177,    0.017947,    0.017717,    0.017486,    0.017256,    0.017026,    0.016796,    0.016566,    0.016336,    0.016106,    0.015876,    0.015646,    0.015416,    0.015186,    0.014956,    0.014725,    0.014495,    0.014265,    0.014035,    0.013805,    0.013575,    0.013345,    0.013115,\n",
       "           0.012885,    0.012655,    0.012425,    0.012194,    0.011964,    0.011734,    0.011504,    0.011274,    0.011044,    0.010814,    0.010584,    0.010354,    0.010124,   0.0098936,   0.0096636,   0.0094335,   0.0092034,   0.0089733,   0.0087432,   0.0085131,   0.0082831,    0.008053,   0.0078229,\n",
       "          0.0075928,   0.0073627,   0.0071326,   0.0069025,   0.0066725,   0.0064424,   0.0062123,   0.0059822,   0.0057521,    0.005522,    0.005292,   0.0050619,   0.0048318,   0.0046017,   0.0043716,   0.0041415,   0.0039114,   0.0036814,   0.0034513,   0.0032212,   0.0029911,    0.002761,   0.0025309,\n",
       "          0.0023008,   0.0020708,   0.0018407,   0.0016106,   0.0013805,   0.0011504,  0.00092034,  0.00069025,  0.00046017,  0.00023008,           0]]), 'Recall', 'Precision'], [array([          0,    0.001001,    0.002002,    0.003003,    0.004004,    0.005005,    0.006006,    0.007007,    0.008008,    0.009009,     0.01001,    0.011011,    0.012012,    0.013013,    0.014014,    0.015015,    0.016016,    0.017017,    0.018018,    0.019019,     0.02002,    0.021021,    0.022022,    0.023023,\n",
       "          0.024024,    0.025025,    0.026026,    0.027027,    0.028028,    0.029029,     0.03003,    0.031031,    0.032032,    0.033033,    0.034034,    0.035035,    0.036036,    0.037037,    0.038038,    0.039039,     0.04004,    0.041041,    0.042042,    0.043043,    0.044044,    0.045045,    0.046046,    0.047047,\n",
       "          0.048048,    0.049049,     0.05005,    0.051051,    0.052052,    0.053053,    0.054054,    0.055055,    0.056056,    0.057057,    0.058058,    0.059059,     0.06006,    0.061061,    0.062062,    0.063063,    0.064064,    0.065065,    0.066066,    0.067067,    0.068068,    0.069069,     0.07007,    0.071071,\n",
       "          0.072072,    0.073073,    0.074074,    0.075075,    0.076076,    0.077077,    0.078078,    0.079079,     0.08008,    0.081081,    0.082082,    0.083083,    0.084084,    0.085085,    0.086086,    0.087087,    0.088088,    0.089089,     0.09009,    0.091091,    0.092092,    0.093093,    0.094094,    0.095095,\n",
       "          0.096096,    0.097097,    0.098098,    0.099099,      0.1001,      0.1011,      0.1021,      0.1031,      0.1041,     0.10511,     0.10611,     0.10711,     0.10811,     0.10911,     0.11011,     0.11111,     0.11211,     0.11311,     0.11411,     0.11512,     0.11612,     0.11712,     0.11812,     0.11912,\n",
       "           0.12012,     0.12112,     0.12212,     0.12312,     0.12412,     0.12513,     0.12613,     0.12713,     0.12813,     0.12913,     0.13013,     0.13113,     0.13213,     0.13313,     0.13413,     0.13514,     0.13614,     0.13714,     0.13814,     0.13914,     0.14014,     0.14114,     0.14214,     0.14314,\n",
       "           0.14414,     0.14515,     0.14615,     0.14715,     0.14815,     0.14915,     0.15015,     0.15115,     0.15215,     0.15315,     0.15415,     0.15516,     0.15616,     0.15716,     0.15816,     0.15916,     0.16016,     0.16116,     0.16216,     0.16316,     0.16416,     0.16517,     0.16617,     0.16717,\n",
       "           0.16817,     0.16917,     0.17017,     0.17117,     0.17217,     0.17317,     0.17417,     0.17518,     0.17618,     0.17718,     0.17818,     0.17918,     0.18018,     0.18118,     0.18218,     0.18318,     0.18418,     0.18519,     0.18619,     0.18719,     0.18819,     0.18919,     0.19019,     0.19119,\n",
       "           0.19219,     0.19319,     0.19419,      0.1952,      0.1962,      0.1972,      0.1982,      0.1992,      0.2002,      0.2012,      0.2022,      0.2032,      0.2042,     0.20521,     0.20621,     0.20721,     0.20821,     0.20921,     0.21021,     0.21121,     0.21221,     0.21321,     0.21421,     0.21522,\n",
       "           0.21622,     0.21722,     0.21822,     0.21922,     0.22022,     0.22122,     0.22222,     0.22322,     0.22422,     0.22523,     0.22623,     0.22723,     0.22823,     0.22923,     0.23023,     0.23123,     0.23223,     0.23323,     0.23423,     0.23524,     0.23624,     0.23724,     0.23824,     0.23924,\n",
       "           0.24024,     0.24124,     0.24224,     0.24324,     0.24424,     0.24525,     0.24625,     0.24725,     0.24825,     0.24925,     0.25025,     0.25125,     0.25225,     0.25325,     0.25425,     0.25526,     0.25626,     0.25726,     0.25826,     0.25926,     0.26026,     0.26126,     0.26226,     0.26326,\n",
       "           0.26426,     0.26527,     0.26627,     0.26727,     0.26827,     0.26927,     0.27027,     0.27127,     0.27227,     0.27327,     0.27427,     0.27528,     0.27628,     0.27728,     0.27828,     0.27928,     0.28028,     0.28128,     0.28228,     0.28328,     0.28428,     0.28529,     0.28629,     0.28729,\n",
       "           0.28829,     0.28929,     0.29029,     0.29129,     0.29229,     0.29329,     0.29429,      0.2953,      0.2963,      0.2973,      0.2983,      0.2993,      0.3003,      0.3013,      0.3023,      0.3033,      0.3043,     0.30531,     0.30631,     0.30731,     0.30831,     0.30931,     0.31031,     0.31131,\n",
       "           0.31231,     0.31331,     0.31431,     0.31532,     0.31632,     0.31732,     0.31832,     0.31932,     0.32032,     0.32132,     0.32232,     0.32332,     0.32432,     0.32533,     0.32633,     0.32733,     0.32833,     0.32933,     0.33033,     0.33133,     0.33233,     0.33333,     0.33433,     0.33534,\n",
       "           0.33634,     0.33734,     0.33834,     0.33934,     0.34034,     0.34134,     0.34234,     0.34334,     0.34434,     0.34535,     0.34635,     0.34735,     0.34835,     0.34935,     0.35035,     0.35135,     0.35235,     0.35335,     0.35435,     0.35536,     0.35636,     0.35736,     0.35836,     0.35936,\n",
       "           0.36036,     0.36136,     0.36236,     0.36336,     0.36436,     0.36537,     0.36637,     0.36737,     0.36837,     0.36937,     0.37037,     0.37137,     0.37237,     0.37337,     0.37437,     0.37538,     0.37638,     0.37738,     0.37838,     0.37938,     0.38038,     0.38138,     0.38238,     0.38338,\n",
       "           0.38438,     0.38539,     0.38639,     0.38739,     0.38839,     0.38939,     0.39039,     0.39139,     0.39239,     0.39339,     0.39439,      0.3954,      0.3964,      0.3974,      0.3984,      0.3994,      0.4004,      0.4014,      0.4024,      0.4034,      0.4044,     0.40541,     0.40641,     0.40741,\n",
       "           0.40841,     0.40941,     0.41041,     0.41141,     0.41241,     0.41341,     0.41441,     0.41542,     0.41642,     0.41742,     0.41842,     0.41942,     0.42042,     0.42142,     0.42242,     0.42342,     0.42442,     0.42543,     0.42643,     0.42743,     0.42843,     0.42943,     0.43043,     0.43143,\n",
       "           0.43243,     0.43343,     0.43443,     0.43544,     0.43644,     0.43744,     0.43844,     0.43944,     0.44044,     0.44144,     0.44244,     0.44344,     0.44444,     0.44545,     0.44645,     0.44745,     0.44845,     0.44945,     0.45045,     0.45145,     0.45245,     0.45345,     0.45445,     0.45546,\n",
       "           0.45646,     0.45746,     0.45846,     0.45946,     0.46046,     0.46146,     0.46246,     0.46346,     0.46446,     0.46547,     0.46647,     0.46747,     0.46847,     0.46947,     0.47047,     0.47147,     0.47247,     0.47347,     0.47447,     0.47548,     0.47648,     0.47748,     0.47848,     0.47948,\n",
       "           0.48048,     0.48148,     0.48248,     0.48348,     0.48448,     0.48549,     0.48649,     0.48749,     0.48849,     0.48949,     0.49049,     0.49149,     0.49249,     0.49349,     0.49449,      0.4955,      0.4965,      0.4975,      0.4985,      0.4995,      0.5005,      0.5015,      0.5025,      0.5035,\n",
       "            0.5045,     0.50551,     0.50651,     0.50751,     0.50851,     0.50951,     0.51051,     0.51151,     0.51251,     0.51351,     0.51451,     0.51552,     0.51652,     0.51752,     0.51852,     0.51952,     0.52052,     0.52152,     0.52252,     0.52352,     0.52452,     0.52553,     0.52653,     0.52753,\n",
       "           0.52853,     0.52953,     0.53053,     0.53153,     0.53253,     0.53353,     0.53453,     0.53554,     0.53654,     0.53754,     0.53854,     0.53954,     0.54054,     0.54154,     0.54254,     0.54354,     0.54454,     0.54555,     0.54655,     0.54755,     0.54855,     0.54955,     0.55055,     0.55155,\n",
       "           0.55255,     0.55355,     0.55455,     0.55556,     0.55656,     0.55756,     0.55856,     0.55956,     0.56056,     0.56156,     0.56256,     0.56356,     0.56456,     0.56557,     0.56657,     0.56757,     0.56857,     0.56957,     0.57057,     0.57157,     0.57257,     0.57357,     0.57457,     0.57558,\n",
       "           0.57658,     0.57758,     0.57858,     0.57958,     0.58058,     0.58158,     0.58258,     0.58358,     0.58458,     0.58559,     0.58659,     0.58759,     0.58859,     0.58959,     0.59059,     0.59159,     0.59259,     0.59359,     0.59459,      0.5956,      0.5966,      0.5976,      0.5986,      0.5996,\n",
       "            0.6006,      0.6016,      0.6026,      0.6036,      0.6046,     0.60561,     0.60661,     0.60761,     0.60861,     0.60961,     0.61061,     0.61161,     0.61261,     0.61361,     0.61461,     0.61562,     0.61662,     0.61762,     0.61862,     0.61962,     0.62062,     0.62162,     0.62262,     0.62362,\n",
       "           0.62462,     0.62563,     0.62663,     0.62763,     0.62863,     0.62963,     0.63063,     0.63163,     0.63263,     0.63363,     0.63463,     0.63564,     0.63664,     0.63764,     0.63864,     0.63964,     0.64064,     0.64164,     0.64264,     0.64364,     0.64464,     0.64565,     0.64665,     0.64765,\n",
       "           0.64865,     0.64965,     0.65065,     0.65165,     0.65265,     0.65365,     0.65465,     0.65566,     0.65666,     0.65766,     0.65866,     0.65966,     0.66066,     0.66166,     0.66266,     0.66366,     0.66466,     0.66567,     0.66667,     0.66767,     0.66867,     0.66967,     0.67067,     0.67167,\n",
       "           0.67267,     0.67367,     0.67467,     0.67568,     0.67668,     0.67768,     0.67868,     0.67968,     0.68068,     0.68168,     0.68268,     0.68368,     0.68468,     0.68569,     0.68669,     0.68769,     0.68869,     0.68969,     0.69069,     0.69169,     0.69269,     0.69369,     0.69469,      0.6957,\n",
       "            0.6967,      0.6977,      0.6987,      0.6997,      0.7007,      0.7017,      0.7027,      0.7037,      0.7047,     0.70571,     0.70671,     0.70771,     0.70871,     0.70971,     0.71071,     0.71171,     0.71271,     0.71371,     0.71471,     0.71572,     0.71672,     0.71772,     0.71872,     0.71972,\n",
       "           0.72072,     0.72172,     0.72272,     0.72372,     0.72472,     0.72573,     0.72673,     0.72773,     0.72873,     0.72973,     0.73073,     0.73173,     0.73273,     0.73373,     0.73473,     0.73574,     0.73674,     0.73774,     0.73874,     0.73974,     0.74074,     0.74174,     0.74274,     0.74374,\n",
       "           0.74474,     0.74575,     0.74675,     0.74775,     0.74875,     0.74975,     0.75075,     0.75175,     0.75275,     0.75375,     0.75475,     0.75576,     0.75676,     0.75776,     0.75876,     0.75976,     0.76076,     0.76176,     0.76276,     0.76376,     0.76476,     0.76577,     0.76677,     0.76777,\n",
       "           0.76877,     0.76977,     0.77077,     0.77177,     0.77277,     0.77377,     0.77477,     0.77578,     0.77678,     0.77778,     0.77878,     0.77978,     0.78078,     0.78178,     0.78278,     0.78378,     0.78478,     0.78579,     0.78679,     0.78779,     0.78879,     0.78979,     0.79079,     0.79179,\n",
       "           0.79279,     0.79379,     0.79479,      0.7958,      0.7968,      0.7978,      0.7988,      0.7998,      0.8008,      0.8018,      0.8028,      0.8038,      0.8048,     0.80581,     0.80681,     0.80781,     0.80881,     0.80981,     0.81081,     0.81181,     0.81281,     0.81381,     0.81481,     0.81582,\n",
       "           0.81682,     0.81782,     0.81882,     0.81982,     0.82082,     0.82182,     0.82282,     0.82382,     0.82482,     0.82583,     0.82683,     0.82783,     0.82883,     0.82983,     0.83083,     0.83183,     0.83283,     0.83383,     0.83483,     0.83584,     0.83684,     0.83784,     0.83884,     0.83984,\n",
       "           0.84084,     0.84184,     0.84284,     0.84384,     0.84484,     0.84585,     0.84685,     0.84785,     0.84885,     0.84985,     0.85085,     0.85185,     0.85285,     0.85385,     0.85485,     0.85586,     0.85686,     0.85786,     0.85886,     0.85986,     0.86086,     0.86186,     0.86286,     0.86386,\n",
       "           0.86486,     0.86587,     0.86687,     0.86787,     0.86887,     0.86987,     0.87087,     0.87187,     0.87287,     0.87387,     0.87487,     0.87588,     0.87688,     0.87788,     0.87888,     0.87988,     0.88088,     0.88188,     0.88288,     0.88388,     0.88488,     0.88589,     0.88689,     0.88789,\n",
       "           0.88889,     0.88989,     0.89089,     0.89189,     0.89289,     0.89389,     0.89489,      0.8959,      0.8969,      0.8979,      0.8989,      0.8999,      0.9009,      0.9019,      0.9029,      0.9039,      0.9049,     0.90591,     0.90691,     0.90791,     0.90891,     0.90991,     0.91091,     0.91191,\n",
       "           0.91291,     0.91391,     0.91491,     0.91592,     0.91692,     0.91792,     0.91892,     0.91992,     0.92092,     0.92192,     0.92292,     0.92392,     0.92492,     0.92593,     0.92693,     0.92793,     0.92893,     0.92993,     0.93093,     0.93193,     0.93293,     0.93393,     0.93493,     0.93594,\n",
       "           0.93694,     0.93794,     0.93894,     0.93994,     0.94094,     0.94194,     0.94294,     0.94394,     0.94494,     0.94595,     0.94695,     0.94795,     0.94895,     0.94995,     0.95095,     0.95195,     0.95295,     0.95395,     0.95495,     0.95596,     0.95696,     0.95796,     0.95896,     0.95996,\n",
       "           0.96096,     0.96196,     0.96296,     0.96396,     0.96496,     0.96597,     0.96697,     0.96797,     0.96897,     0.96997,     0.97097,     0.97197,     0.97297,     0.97397,     0.97497,     0.97598,     0.97698,     0.97798,     0.97898,     0.97998,     0.98098,     0.98198,     0.98298,     0.98398,\n",
       "           0.98498,     0.98599,     0.98699,     0.98799,     0.98899,     0.98999,     0.99099,     0.99199,     0.99299,     0.99399,     0.99499,       0.996,       0.997,       0.998,       0.999,           1]), array([[    0.10698,     0.10699,     0.12659,     0.14349,     0.15768,     0.16958,     0.18244,     0.19584,      0.2091,     0.22251,     0.23237,     0.24361,     0.25578,     0.26522,     0.27464,     0.28247,     0.28893,     0.29743,     0.30526,     0.31258,     0.31936,     0.32514,     0.33594,\n",
       "            0.34228,      0.3496,     0.35614,     0.36154,     0.36725,      0.3746,     0.38065,     0.38855,     0.39465,     0.39937,     0.40571,     0.41026,     0.41157,     0.41569,      0.4216,     0.42651,     0.43173,     0.43815,     0.44306,     0.44808,     0.44853,     0.45186,     0.45642,\n",
       "             0.4583,     0.45944,     0.46135,     0.46397,      0.4654,     0.46962,     0.47063,     0.47182,      0.4727,     0.47431,      0.4736,     0.47429,     0.47538,     0.47683,     0.48106,     0.48249,     0.48398,      0.4848,     0.48539,     0.48475,     0.48614,     0.48833,      0.4881,\n",
       "            0.48877,     0.48944,     0.49068,     0.49086,     0.49192,     0.49222,     0.49384,     0.49587,      0.4988,     0.49952,     0.50073,     0.50132,     0.50185,     0.50312,     0.50452,     0.50483,     0.50433,     0.50435,      0.5037,     0.50323,     0.50444,     0.50501,     0.50558,\n",
       "            0.50711,      0.5102,     0.51044,     0.51122,     0.51156,     0.51231,     0.51395,     0.51407,     0.51527,     0.51633,     0.51692,     0.51737,     0.51731,     0.51817,     0.51952,     0.52044,     0.52038,     0.52074,     0.52209,     0.52125,     0.52065,     0.51819,     0.51905,\n",
       "            0.51917,     0.51889,     0.51843,     0.51822,      0.5188,     0.51725,     0.51778,     0.51881,     0.51911,     0.51966,     0.51972,      0.5203,     0.52094,     0.52109,     0.52018,     0.51844,      0.5182,     0.51929,     0.51837,      0.5181,     0.51833,     0.51788,     0.51829,\n",
       "            0.51895,     0.51889,     0.51746,     0.51747,       0.518,     0.51864,     0.51909,     0.52015,     0.52065,     0.52024,     0.52042,     0.52009,     0.52149,     0.52099,      0.5207,     0.52007,     0.52021,     0.51961,     0.51865,     0.51902,      0.5192,     0.51987,       0.519,\n",
       "            0.51972,     0.52155,     0.52123,     0.52189,     0.52294,     0.52342,     0.52283,     0.52296,      0.5231,     0.52346,     0.52327,     0.52348,     0.52394,     0.52499,     0.52368,     0.52496,     0.52523,     0.52458,     0.52466,     0.52436,     0.52409,     0.52344,     0.52183,\n",
       "            0.52304,     0.52361,     0.52432,     0.52353,     0.52382,     0.52476,     0.52356,     0.52241,     0.52142,     0.52289,     0.52212,     0.52333,     0.52373,     0.52299,     0.52139,     0.51982,     0.51941,     0.52061,     0.51999,     0.51843,     0.51901,     0.51975,     0.51885,\n",
       "            0.51901,     0.51932,     0.51969,      0.5188,     0.51848,     0.51863,     0.51878,     0.51924,     0.51947,     0.51979,     0.51915,     0.51991,     0.51912,     0.51849,     0.51778,     0.51784,     0.51905,     0.51811,     0.51771,     0.51521,     0.51401,     0.51414,     0.51427,\n",
       "            0.51344,     0.51305,     0.51291,     0.51253,     0.51215,     0.51136,     0.50936,     0.51021,     0.51042,     0.51058,     0.51079,     0.51122,     0.51048,     0.50989,     0.50939,     0.50869,     0.50812,     0.50845,     0.50854,     0.50863,     0.50872,     0.50881,     0.50805,\n",
       "            0.50682,     0.50704,     0.50716,     0.50728,     0.50619,     0.50484,     0.50451,     0.50526,     0.50273,     0.50295,     0.50334,     0.50331,     0.50307,     0.50282,     0.50258,     0.50234,     0.50269,     0.50227,     0.50025,     0.49907,     0.49719,      0.4966,     0.49622,\n",
       "            0.49584,     0.49484,     0.49248,     0.49255,     0.49287,     0.49337,     0.49362,     0.49287,     0.49301,     0.49316,     0.49398,     0.49557,     0.49452,     0.49472,     0.49437,     0.49374,     0.49215,      0.4917,     0.49125,     0.48949,     0.48906,      0.4894,     0.48979,\n",
       "            0.48984,     0.48871,     0.48823,     0.48778,     0.48733,     0.48692,     0.48655,     0.48617,     0.48487,     0.48194,     0.48149,     0.48168,     0.48198,     0.48231,      0.4812,     0.47921,     0.47772,     0.47799,     0.47813,     0.47827,     0.47919,     0.47996,     0.48016,\n",
       "            0.48005,     0.47914,     0.47928,     0.47942,     0.47832,     0.47852,     0.47852,      0.4775,      0.4767,      0.4765,       0.476,     0.47571,     0.47597,     0.47376,     0.47172,     0.46963,     0.46888,     0.46902,     0.46915,       0.468,     0.46618,      0.4655,      0.4657,\n",
       "            0.46592,     0.46615,     0.46507,     0.46561,     0.46525,     0.46489,     0.46453,     0.46469,     0.46442,     0.46403,     0.46363,     0.46301,     0.46151,     0.46008,     0.46057,     0.46004,     0.45952,     0.45885,     0.45817,     0.45748,     0.45692,     0.45608,     0.45289,\n",
       "            0.45135,     0.45046,     0.44857,     0.44827,     0.44865,     0.44916,     0.44756,     0.44697,      0.4462,     0.44524,     0.44541,     0.44555,     0.44386,     0.44309,     0.44316,     0.44216,     0.44038,     0.43874,     0.43879,     0.43849,     0.43819,     0.43789,     0.43737,\n",
       "            0.43656,      0.4359,     0.43554,     0.43576,      0.4323,       0.431,     0.43114,     0.43133,     0.43212,     0.43278,     0.43245,     0.43212,      0.4318,     0.43168,     0.43157,     0.43095,     0.42923,     0.42831,     0.42589,     0.42607,     0.42504,     0.42364,     0.42348,\n",
       "            0.42361,     0.42373,     0.42243,     0.42305,      0.4213,     0.41889,     0.41843,     0.41798,     0.41579,     0.41554,      0.4159,     0.41616,     0.41622,     0.41629,     0.41636,     0.41643,     0.41649,     0.41339,     0.41248,      0.4102,     0.40917,     0.40809,     0.40662,\n",
       "            0.40675,     0.40676,     0.40574,     0.40569,     0.40528,     0.40456,     0.40365,     0.40269,     0.40184,     0.40154,     0.40171,     0.40149,     0.40054,     0.39861,     0.39824,     0.39787,     0.39751,     0.39708,     0.39664,      0.3962,     0.39484,     0.39262,     0.39207,\n",
       "            0.39167,     0.39135,     0.39038,     0.38909,     0.38847,      0.3879,     0.38772,     0.38674,     0.38516,     0.38454,     0.38392,      0.3828,     0.38239,      0.3826,     0.38307,     0.38326,     0.38177,     0.37924,     0.37631,     0.37567,     0.37597,     0.37365,     0.37249,\n",
       "            0.37127,     0.37044,     0.36999,     0.36954,     0.36914,     0.36942,     0.36872,     0.36802,     0.36712,     0.36568,     0.36504,     0.36477,     0.36389,      0.3637,     0.36379,     0.36388,     0.36397,     0.36131,     0.36142,     0.36162,     0.36175,     0.36187,     0.36223,\n",
       "            0.36134,     0.36045,     0.35954,     0.35868,     0.35787,     0.35608,     0.35242,     0.34869,     0.34759,     0.34703,     0.34678,     0.34584,     0.34461,     0.34316,     0.34158,     0.33822,     0.33681,     0.33601,     0.33398,     0.33415,     0.33434,     0.33335,     0.33362,\n",
       "            0.33238,     0.33042,     0.33048,     0.33054,     0.33061,     0.33067,      0.3304,     0.32913,      0.3292,     0.32926,     0.32932,     0.32939,     0.32828,     0.32638,     0.32555,     0.32489,     0.32479,     0.32364,     0.32159,     0.32177,     0.32055,     0.31962,     0.31894,\n",
       "            0.31872,     0.31529,     0.31402,      0.3105,     0.31062,     0.31073,     0.31092,     0.31058,     0.30947,     0.30826,     0.30742,     0.30679,      0.3061,     0.30525,       0.304,     0.30146,     0.30049,     0.29969,     0.29764,      0.2968,     0.29599,     0.29543,     0.29488,\n",
       "            0.29418,     0.29213,     0.29096,     0.29008,     0.28921,     0.28929,     0.28939,      0.2882,     0.28722,     0.28665,     0.28608,     0.28201,     0.28104,      0.2801,     0.27737,     0.27682,     0.27627,     0.27502,     0.27351,      0.2729,      0.2723,     0.27135,     0.27005,\n",
       "            0.26793,     0.26709,     0.26725,     0.26729,     0.26733,     0.26737,     0.26741,     0.26745,     0.26723,     0.26496,     0.26407,      0.2624,     0.25913,     0.25712,     0.25463,     0.25096,     0.24971,     0.24907,     0.24844,     0.24583,       0.243,     0.24306,     0.24265,\n",
       "            0.24225,     0.24185,     0.24144,     0.23979,     0.23957,     0.23747,     0.23612,     0.23419,     0.23436,     0.23357,     0.23236,     0.23159,     0.23082,     0.23011,     0.22942,     0.22873,     0.22812,      0.2275,     0.22686,     0.22605,     0.22524,     0.22268,     0.21996,\n",
       "             0.2152,     0.21468,     0.21416,     0.21347,     0.21086,     0.20768,     0.20678,     0.20571,     0.20392,     0.20292,     0.20219,     0.20233,     0.20193,     0.20135,     0.20078,     0.20051,     0.19998,     0.19646,     0.19295,     0.19292,     0.19208,     0.19123,     0.18617,\n",
       "            0.18298,     0.18164,     0.17927,     0.17705,     0.17504,     0.17061,     0.16886,     0.16743,     0.16706,     0.16669,     0.16632,     0.16595,     0.16558,     0.16098,      0.1575,     0.15541,     0.15454,     0.15368,     0.15345,     0.15269,     0.15194,     0.15053,      0.1487,\n",
       "            0.14725,     0.14643,     0.14562,     0.13939,      0.1306,     0.12581,     0.12351,     0.12042,     0.11937,     0.11832,     0.11488,     0.11072,     0.10937,     0.10868,     0.10799,     0.10714,     0.10599,      0.1046,     0.10271,     0.10013,    0.098569,    0.097746,    0.096923,\n",
       "           0.096181,    0.095476,    0.094771,    0.092009,    0.091201,    0.090393,    0.089032,    0.086726,    0.084718,    0.083367,    0.081809,    0.079144,      0.0785,    0.077998,    0.077495,    0.076992,    0.076388,    0.075686,    0.074983,    0.073972,    0.072304,    0.071545,     0.07081,\n",
       "           0.070074,    0.068781,    0.065029,    0.062903,    0.061983,    0.061062,    0.057987,    0.056953,    0.054868,    0.052757,    0.050949,    0.049333,    0.048497,     0.04766,    0.047242,    0.047274,    0.043548,    0.039584,    0.038595,    0.037403,    0.035908,    0.034931,    0.034051,\n",
       "           0.033139,    0.032094,    0.031049,    0.030514,    0.030011,    0.029507,    0.029003,    0.028178,    0.026525,    0.024948,    0.021507,    0.020587,    0.019667,    0.018967,     0.01851,    0.018053,    0.017596,    0.017139,    0.016463,    0.015204,    0.014088,    0.013207,    0.012325,\n",
       "          0.0095275,   0.0091916,   0.0088555,   0.0085194,   0.0081831,   0.0078467,   0.0075102,   0.0071165,   0.0064798,   0.0058426,   0.0052051,   0.0046943,   0.0043637,   0.0040331,   0.0037023,   0.0033714,   0.0030404,   0.0027093,           0,           0,           0,           0,           0,\n",
       "                  0,           0,           0,           0,           0,           0,           0,           0,           0,           0,           0,           0,           0,           0,           0,           0,           0,           0,           0,           0,           0,           0,           0,\n",
       "                  0,           0,           0,           0,           0,           0,           0,           0,           0,           0,           0,           0,           0,           0,           0,           0,           0,           0,           0,           0,           0,           0,           0,\n",
       "                  0,           0,           0,           0,           0,           0,           0,           0,           0,           0,           0,           0,           0,           0,           0,           0,           0,           0,           0,           0,           0,           0,           0,\n",
       "                  0,           0,           0,           0,           0,           0,           0,           0,           0,           0,           0,           0,           0,           0,           0,           0,           0,           0,           0,           0,           0,           0,           0,\n",
       "                  0,           0,           0,           0,           0,           0,           0,           0,           0,           0,           0,           0,           0,           0,           0,           0,           0,           0,           0,           0,           0,           0,           0,\n",
       "                  0,           0,           0,           0,           0,           0,           0,           0,           0,           0,           0,           0,           0,           0,           0,           0,           0,           0,           0,           0,           0,           0,           0,\n",
       "                  0,           0,           0,           0,           0,           0,           0,           0,           0,           0,           0,           0,           0,           0,           0,           0,           0,           0,           0,           0,           0,           0,           0,\n",
       "                  0,           0,           0,           0,           0,           0,           0,           0,           0,           0,           0,           0,           0,           0,           0,           0,           0,           0,           0,           0,           0,           0,           0,\n",
       "                  0,           0,           0,           0,           0,           0,           0,           0,           0,           0,           0]]), 'Confidence', 'F1'], [array([          0,    0.001001,    0.002002,    0.003003,    0.004004,    0.005005,    0.006006,    0.007007,    0.008008,    0.009009,     0.01001,    0.011011,    0.012012,    0.013013,    0.014014,    0.015015,    0.016016,    0.017017,    0.018018,    0.019019,     0.02002,    0.021021,    0.022022,    0.023023,\n",
       "          0.024024,    0.025025,    0.026026,    0.027027,    0.028028,    0.029029,     0.03003,    0.031031,    0.032032,    0.033033,    0.034034,    0.035035,    0.036036,    0.037037,    0.038038,    0.039039,     0.04004,    0.041041,    0.042042,    0.043043,    0.044044,    0.045045,    0.046046,    0.047047,\n",
       "          0.048048,    0.049049,     0.05005,    0.051051,    0.052052,    0.053053,    0.054054,    0.055055,    0.056056,    0.057057,    0.058058,    0.059059,     0.06006,    0.061061,    0.062062,    0.063063,    0.064064,    0.065065,    0.066066,    0.067067,    0.068068,    0.069069,     0.07007,    0.071071,\n",
       "          0.072072,    0.073073,    0.074074,    0.075075,    0.076076,    0.077077,    0.078078,    0.079079,     0.08008,    0.081081,    0.082082,    0.083083,    0.084084,    0.085085,    0.086086,    0.087087,    0.088088,    0.089089,     0.09009,    0.091091,    0.092092,    0.093093,    0.094094,    0.095095,\n",
       "          0.096096,    0.097097,    0.098098,    0.099099,      0.1001,      0.1011,      0.1021,      0.1031,      0.1041,     0.10511,     0.10611,     0.10711,     0.10811,     0.10911,     0.11011,     0.11111,     0.11211,     0.11311,     0.11411,     0.11512,     0.11612,     0.11712,     0.11812,     0.11912,\n",
       "           0.12012,     0.12112,     0.12212,     0.12312,     0.12412,     0.12513,     0.12613,     0.12713,     0.12813,     0.12913,     0.13013,     0.13113,     0.13213,     0.13313,     0.13413,     0.13514,     0.13614,     0.13714,     0.13814,     0.13914,     0.14014,     0.14114,     0.14214,     0.14314,\n",
       "           0.14414,     0.14515,     0.14615,     0.14715,     0.14815,     0.14915,     0.15015,     0.15115,     0.15215,     0.15315,     0.15415,     0.15516,     0.15616,     0.15716,     0.15816,     0.15916,     0.16016,     0.16116,     0.16216,     0.16316,     0.16416,     0.16517,     0.16617,     0.16717,\n",
       "           0.16817,     0.16917,     0.17017,     0.17117,     0.17217,     0.17317,     0.17417,     0.17518,     0.17618,     0.17718,     0.17818,     0.17918,     0.18018,     0.18118,     0.18218,     0.18318,     0.18418,     0.18519,     0.18619,     0.18719,     0.18819,     0.18919,     0.19019,     0.19119,\n",
       "           0.19219,     0.19319,     0.19419,      0.1952,      0.1962,      0.1972,      0.1982,      0.1992,      0.2002,      0.2012,      0.2022,      0.2032,      0.2042,     0.20521,     0.20621,     0.20721,     0.20821,     0.20921,     0.21021,     0.21121,     0.21221,     0.21321,     0.21421,     0.21522,\n",
       "           0.21622,     0.21722,     0.21822,     0.21922,     0.22022,     0.22122,     0.22222,     0.22322,     0.22422,     0.22523,     0.22623,     0.22723,     0.22823,     0.22923,     0.23023,     0.23123,     0.23223,     0.23323,     0.23423,     0.23524,     0.23624,     0.23724,     0.23824,     0.23924,\n",
       "           0.24024,     0.24124,     0.24224,     0.24324,     0.24424,     0.24525,     0.24625,     0.24725,     0.24825,     0.24925,     0.25025,     0.25125,     0.25225,     0.25325,     0.25425,     0.25526,     0.25626,     0.25726,     0.25826,     0.25926,     0.26026,     0.26126,     0.26226,     0.26326,\n",
       "           0.26426,     0.26527,     0.26627,     0.26727,     0.26827,     0.26927,     0.27027,     0.27127,     0.27227,     0.27327,     0.27427,     0.27528,     0.27628,     0.27728,     0.27828,     0.27928,     0.28028,     0.28128,     0.28228,     0.28328,     0.28428,     0.28529,     0.28629,     0.28729,\n",
       "           0.28829,     0.28929,     0.29029,     0.29129,     0.29229,     0.29329,     0.29429,      0.2953,      0.2963,      0.2973,      0.2983,      0.2993,      0.3003,      0.3013,      0.3023,      0.3033,      0.3043,     0.30531,     0.30631,     0.30731,     0.30831,     0.30931,     0.31031,     0.31131,\n",
       "           0.31231,     0.31331,     0.31431,     0.31532,     0.31632,     0.31732,     0.31832,     0.31932,     0.32032,     0.32132,     0.32232,     0.32332,     0.32432,     0.32533,     0.32633,     0.32733,     0.32833,     0.32933,     0.33033,     0.33133,     0.33233,     0.33333,     0.33433,     0.33534,\n",
       "           0.33634,     0.33734,     0.33834,     0.33934,     0.34034,     0.34134,     0.34234,     0.34334,     0.34434,     0.34535,     0.34635,     0.34735,     0.34835,     0.34935,     0.35035,     0.35135,     0.35235,     0.35335,     0.35435,     0.35536,     0.35636,     0.35736,     0.35836,     0.35936,\n",
       "           0.36036,     0.36136,     0.36236,     0.36336,     0.36436,     0.36537,     0.36637,     0.36737,     0.36837,     0.36937,     0.37037,     0.37137,     0.37237,     0.37337,     0.37437,     0.37538,     0.37638,     0.37738,     0.37838,     0.37938,     0.38038,     0.38138,     0.38238,     0.38338,\n",
       "           0.38438,     0.38539,     0.38639,     0.38739,     0.38839,     0.38939,     0.39039,     0.39139,     0.39239,     0.39339,     0.39439,      0.3954,      0.3964,      0.3974,      0.3984,      0.3994,      0.4004,      0.4014,      0.4024,      0.4034,      0.4044,     0.40541,     0.40641,     0.40741,\n",
       "           0.40841,     0.40941,     0.41041,     0.41141,     0.41241,     0.41341,     0.41441,     0.41542,     0.41642,     0.41742,     0.41842,     0.41942,     0.42042,     0.42142,     0.42242,     0.42342,     0.42442,     0.42543,     0.42643,     0.42743,     0.42843,     0.42943,     0.43043,     0.43143,\n",
       "           0.43243,     0.43343,     0.43443,     0.43544,     0.43644,     0.43744,     0.43844,     0.43944,     0.44044,     0.44144,     0.44244,     0.44344,     0.44444,     0.44545,     0.44645,     0.44745,     0.44845,     0.44945,     0.45045,     0.45145,     0.45245,     0.45345,     0.45445,     0.45546,\n",
       "           0.45646,     0.45746,     0.45846,     0.45946,     0.46046,     0.46146,     0.46246,     0.46346,     0.46446,     0.46547,     0.46647,     0.46747,     0.46847,     0.46947,     0.47047,     0.47147,     0.47247,     0.47347,     0.47447,     0.47548,     0.47648,     0.47748,     0.47848,     0.47948,\n",
       "           0.48048,     0.48148,     0.48248,     0.48348,     0.48448,     0.48549,     0.48649,     0.48749,     0.48849,     0.48949,     0.49049,     0.49149,     0.49249,     0.49349,     0.49449,      0.4955,      0.4965,      0.4975,      0.4985,      0.4995,      0.5005,      0.5015,      0.5025,      0.5035,\n",
       "            0.5045,     0.50551,     0.50651,     0.50751,     0.50851,     0.50951,     0.51051,     0.51151,     0.51251,     0.51351,     0.51451,     0.51552,     0.51652,     0.51752,     0.51852,     0.51952,     0.52052,     0.52152,     0.52252,     0.52352,     0.52452,     0.52553,     0.52653,     0.52753,\n",
       "           0.52853,     0.52953,     0.53053,     0.53153,     0.53253,     0.53353,     0.53453,     0.53554,     0.53654,     0.53754,     0.53854,     0.53954,     0.54054,     0.54154,     0.54254,     0.54354,     0.54454,     0.54555,     0.54655,     0.54755,     0.54855,     0.54955,     0.55055,     0.55155,\n",
       "           0.55255,     0.55355,     0.55455,     0.55556,     0.55656,     0.55756,     0.55856,     0.55956,     0.56056,     0.56156,     0.56256,     0.56356,     0.56456,     0.56557,     0.56657,     0.56757,     0.56857,     0.56957,     0.57057,     0.57157,     0.57257,     0.57357,     0.57457,     0.57558,\n",
       "           0.57658,     0.57758,     0.57858,     0.57958,     0.58058,     0.58158,     0.58258,     0.58358,     0.58458,     0.58559,     0.58659,     0.58759,     0.58859,     0.58959,     0.59059,     0.59159,     0.59259,     0.59359,     0.59459,      0.5956,      0.5966,      0.5976,      0.5986,      0.5996,\n",
       "            0.6006,      0.6016,      0.6026,      0.6036,      0.6046,     0.60561,     0.60661,     0.60761,     0.60861,     0.60961,     0.61061,     0.61161,     0.61261,     0.61361,     0.61461,     0.61562,     0.61662,     0.61762,     0.61862,     0.61962,     0.62062,     0.62162,     0.62262,     0.62362,\n",
       "           0.62462,     0.62563,     0.62663,     0.62763,     0.62863,     0.62963,     0.63063,     0.63163,     0.63263,     0.63363,     0.63463,     0.63564,     0.63664,     0.63764,     0.63864,     0.63964,     0.64064,     0.64164,     0.64264,     0.64364,     0.64464,     0.64565,     0.64665,     0.64765,\n",
       "           0.64865,     0.64965,     0.65065,     0.65165,     0.65265,     0.65365,     0.65465,     0.65566,     0.65666,     0.65766,     0.65866,     0.65966,     0.66066,     0.66166,     0.66266,     0.66366,     0.66466,     0.66567,     0.66667,     0.66767,     0.66867,     0.66967,     0.67067,     0.67167,\n",
       "           0.67267,     0.67367,     0.67467,     0.67568,     0.67668,     0.67768,     0.67868,     0.67968,     0.68068,     0.68168,     0.68268,     0.68368,     0.68468,     0.68569,     0.68669,     0.68769,     0.68869,     0.68969,     0.69069,     0.69169,     0.69269,     0.69369,     0.69469,      0.6957,\n",
       "            0.6967,      0.6977,      0.6987,      0.6997,      0.7007,      0.7017,      0.7027,      0.7037,      0.7047,     0.70571,     0.70671,     0.70771,     0.70871,     0.70971,     0.71071,     0.71171,     0.71271,     0.71371,     0.71471,     0.71572,     0.71672,     0.71772,     0.71872,     0.71972,\n",
       "           0.72072,     0.72172,     0.72272,     0.72372,     0.72472,     0.72573,     0.72673,     0.72773,     0.72873,     0.72973,     0.73073,     0.73173,     0.73273,     0.73373,     0.73473,     0.73574,     0.73674,     0.73774,     0.73874,     0.73974,     0.74074,     0.74174,     0.74274,     0.74374,\n",
       "           0.74474,     0.74575,     0.74675,     0.74775,     0.74875,     0.74975,     0.75075,     0.75175,     0.75275,     0.75375,     0.75475,     0.75576,     0.75676,     0.75776,     0.75876,     0.75976,     0.76076,     0.76176,     0.76276,     0.76376,     0.76476,     0.76577,     0.76677,     0.76777,\n",
       "           0.76877,     0.76977,     0.77077,     0.77177,     0.77277,     0.77377,     0.77477,     0.77578,     0.77678,     0.77778,     0.77878,     0.77978,     0.78078,     0.78178,     0.78278,     0.78378,     0.78478,     0.78579,     0.78679,     0.78779,     0.78879,     0.78979,     0.79079,     0.79179,\n",
       "           0.79279,     0.79379,     0.79479,      0.7958,      0.7968,      0.7978,      0.7988,      0.7998,      0.8008,      0.8018,      0.8028,      0.8038,      0.8048,     0.80581,     0.80681,     0.80781,     0.80881,     0.80981,     0.81081,     0.81181,     0.81281,     0.81381,     0.81481,     0.81582,\n",
       "           0.81682,     0.81782,     0.81882,     0.81982,     0.82082,     0.82182,     0.82282,     0.82382,     0.82482,     0.82583,     0.82683,     0.82783,     0.82883,     0.82983,     0.83083,     0.83183,     0.83283,     0.83383,     0.83483,     0.83584,     0.83684,     0.83784,     0.83884,     0.83984,\n",
       "           0.84084,     0.84184,     0.84284,     0.84384,     0.84484,     0.84585,     0.84685,     0.84785,     0.84885,     0.84985,     0.85085,     0.85185,     0.85285,     0.85385,     0.85485,     0.85586,     0.85686,     0.85786,     0.85886,     0.85986,     0.86086,     0.86186,     0.86286,     0.86386,\n",
       "           0.86486,     0.86587,     0.86687,     0.86787,     0.86887,     0.86987,     0.87087,     0.87187,     0.87287,     0.87387,     0.87487,     0.87588,     0.87688,     0.87788,     0.87888,     0.87988,     0.88088,     0.88188,     0.88288,     0.88388,     0.88488,     0.88589,     0.88689,     0.88789,\n",
       "           0.88889,     0.88989,     0.89089,     0.89189,     0.89289,     0.89389,     0.89489,      0.8959,      0.8969,      0.8979,      0.8989,      0.8999,      0.9009,      0.9019,      0.9029,      0.9039,      0.9049,     0.90591,     0.90691,     0.90791,     0.90891,     0.90991,     0.91091,     0.91191,\n",
       "           0.91291,     0.91391,     0.91491,     0.91592,     0.91692,     0.91792,     0.91892,     0.91992,     0.92092,     0.92192,     0.92292,     0.92392,     0.92492,     0.92593,     0.92693,     0.92793,     0.92893,     0.92993,     0.93093,     0.93193,     0.93293,     0.93393,     0.93493,     0.93594,\n",
       "           0.93694,     0.93794,     0.93894,     0.93994,     0.94094,     0.94194,     0.94294,     0.94394,     0.94494,     0.94595,     0.94695,     0.94795,     0.94895,     0.94995,     0.95095,     0.95195,     0.95295,     0.95395,     0.95495,     0.95596,     0.95696,     0.95796,     0.95896,     0.95996,\n",
       "           0.96096,     0.96196,     0.96296,     0.96396,     0.96496,     0.96597,     0.96697,     0.96797,     0.96897,     0.96997,     0.97097,     0.97197,     0.97297,     0.97397,     0.97497,     0.97598,     0.97698,     0.97798,     0.97898,     0.97998,     0.98098,     0.98198,     0.98298,     0.98398,\n",
       "           0.98498,     0.98599,     0.98699,     0.98799,     0.98899,     0.98999,     0.99099,     0.99199,     0.99299,     0.99399,     0.99499,       0.996,       0.997,       0.998,       0.999,           1]), array([[   0.057603,    0.057605,    0.069176,    0.079537,    0.088565,    0.096324,     0.10486,     0.11405,     0.12329,     0.13295,     0.14053,     0.14907,     0.15843,     0.16612,     0.17383,     0.18043,     0.18624,     0.19337,     0.20015,     0.20662,     0.21298,     0.21902,      0.2291,\n",
       "            0.23537,     0.24235,     0.24888,     0.25479,     0.26071,     0.26817,     0.27478,     0.28347,     0.29055,      0.2974,     0.30479,     0.31059,     0.31509,     0.32173,     0.32925,     0.33607,      0.3426,      0.3512,     0.35754,     0.36461,     0.36665,     0.37112,     0.37732,\n",
       "            0.38046,     0.38415,     0.38739,      0.3911,     0.39371,     0.39979,     0.40247,     0.40545,     0.40738,     0.40978,     0.41066,     0.41302,     0.41535,     0.41826,     0.42481,     0.42704,     0.43011,     0.43289,     0.43535,     0.43663,     0.43889,     0.44247,     0.44369,\n",
       "            0.44562,     0.44841,      0.4505,      0.4525,     0.45431,     0.45568,     0.45938,     0.46382,     0.46896,     0.47119,     0.47528,     0.47832,      0.4803,     0.48263,     0.48521,     0.48683,       0.488,      0.4891,     0.48895,     0.48914,     0.49253,     0.49362,     0.49582,\n",
       "            0.49876,     0.50478,     0.50526,     0.50677,     0.50745,     0.50893,     0.51217,     0.51361,     0.51628,     0.51938,     0.52122,     0.52275,     0.52388,     0.52566,     0.52845,     0.53166,     0.53285,     0.53496,     0.53782,     0.53876,     0.53935,     0.53916,     0.54245,\n",
       "            0.54418,     0.54473,     0.54546,     0.54649,     0.54777,      0.5473,     0.55002,     0.55237,     0.55386,     0.55585,     0.55757,     0.55891,     0.56039,     0.56182,     0.56181,     0.56185,     0.56215,     0.56472,     0.56413,     0.56697,     0.56887,      0.5698,     0.57087,\n",
       "            0.57247,      0.5729,     0.57198,     0.57242,     0.57372,     0.57528,     0.57638,     0.57902,     0.58025,     0.58107,     0.58213,     0.58442,      0.5881,     0.58779,     0.58785,     0.58817,     0.58865,     0.58827,     0.58841,     0.58936,     0.58982,     0.59156,     0.59326,\n",
       "            0.59516,     0.60072,     0.60119,     0.60504,     0.60785,     0.60916,     0.60969,     0.61006,     0.61042,     0.61141,     0.61225,     0.61364,      0.6149,     0.61781,     0.61798,     0.62222,     0.62297,     0.62345,     0.62422,     0.62512,     0.62668,     0.62716,     0.62729,\n",
       "            0.63079,     0.63244,     0.63499,     0.63467,     0.63551,     0.63966,     0.64163,     0.64095,     0.64094,     0.64581,     0.64567,     0.64938,     0.65099,     0.65056,     0.65152,      0.6506,      0.6507,     0.65448,     0.65532,     0.65597,     0.65782,      0.6602,     0.66018,\n",
       "             0.6607,      0.6617,     0.66289,     0.66291,     0.66483,     0.66531,      0.6658,     0.66733,     0.66809,     0.66915,     0.67006,     0.67259,     0.67299,     0.67396,     0.67464,       0.678,      0.6824,     0.68187,     0.68278,     0.68136,     0.68087,     0.68134,     0.68181,\n",
       "            0.68219,     0.68416,     0.68466,     0.68444,     0.68422,     0.68495,     0.68456,     0.68764,     0.68838,     0.68897,     0.68973,     0.69131,     0.69161,     0.69128,     0.69099,      0.6906,     0.69056,     0.69176,      0.6921,     0.69243,     0.69277,     0.69311,      0.6939,\n",
       "            0.69659,     0.69743,     0.69788,     0.69833,     0.69793,      0.6984,     0.69904,     0.70194,     0.70372,     0.70458,     0.70611,     0.70667,     0.70654,     0.70641,     0.70627,     0.70615,     0.70754,     0.71013,     0.70903,     0.70974,     0.70871,     0.70838,     0.70817,\n",
       "            0.70796,      0.7074,     0.70609,     0.70767,     0.70899,     0.71109,     0.71213,     0.71332,     0.71392,     0.71451,     0.71796,     0.72492,     0.72435,     0.72558,     0.72576,     0.72542,     0.72457,     0.72432,     0.72408,     0.72313,     0.72397,     0.72547,     0.72716,\n",
       "            0.72939,     0.72879,     0.73007,     0.72983,     0.72959,     0.72937,     0.72917,     0.72897,     0.72983,     0.72826,     0.72853,     0.72939,      0.7308,     0.73229,     0.73262,     0.73155,     0.73131,     0.73256,     0.73321,     0.73386,     0.73822,     0.74188,     0.74285,\n",
       "            0.74351,     0.74329,     0.74395,     0.74462,     0.74472,      0.7457,     0.74782,     0.74729,     0.74771,      0.7485,     0.74824,     0.74842,      0.7497,     0.74995,     0.74952,     0.74843,     0.74827,     0.74897,     0.74967,     0.74936,     0.74841,     0.74857,     0.74963,\n",
       "            0.75076,     0.75195,     0.75233,     0.75541,     0.75522,     0.75503,     0.75485,     0.75643,     0.75665,     0.75645,     0.75624,      0.7578,     0.75703,     0.75628,     0.76035,     0.76008,     0.75981,     0.75946,     0.75911,     0.75875,     0.75881,     0.75996,      0.7583,\n",
       "            0.75749,     0.75703,     0.75603,     0.75703,     0.75921,      0.7623,     0.76147,     0.76116,     0.76076,     0.76041,     0.76145,     0.76244,     0.76156,     0.76115,     0.76249,     0.76377,     0.76386,     0.76509,     0.76723,     0.76707,     0.76691,     0.76676,     0.76649,\n",
       "            0.76606,     0.76785,     0.76852,     0.76989,     0.76813,     0.76963,     0.77234,     0.77361,     0.77866,     0.78404,     0.78388,     0.78371,     0.78355,     0.78409,     0.78575,     0.78775,     0.78693,      0.7872,     0.78826,     0.78945,      0.7896,     0.78891,     0.78946,\n",
       "            0.79033,     0.79119,     0.79118,     0.79557,      0.7976,     0.79642,      0.7962,     0.79598,      0.7949,     0.79827,     0.80094,     0.80286,     0.80336,     0.80387,     0.80437,     0.80488,     0.80538,     0.80406,     0.80363,     0.80252,     0.80202,     0.80149,      0.8016,\n",
       "            0.80264,     0.80352,     0.80302,     0.80491,     0.80551,     0.80516,     0.80471,     0.80425,     0.80383,     0.80436,      0.8057,     0.80641,     0.80595,       0.805,     0.80482,     0.80464,     0.80446,     0.80425,     0.80403,     0.80381,     0.80313,     0.80202,     0.80174,\n",
       "            0.80221,     0.80422,     0.80373,     0.80308,     0.80276,     0.80248,     0.80411,     0.80477,      0.8069,     0.80659,     0.80628,     0.80571,     0.80654,      0.8084,      0.8126,     0.81432,     0.81726,     0.81603,     0.82087,      0.8235,     0.82712,     0.83205,     0.83207,\n",
       "            0.83151,     0.83113,     0.83092,     0.83071,     0.83072,     0.83402,      0.8337,     0.83338,     0.83296,     0.83229,     0.83399,     0.83531,      0.8349,     0.83546,     0.83642,     0.83737,     0.83833,     0.83721,     0.84288,     0.84513,     0.84647,     0.84781,     0.85201,\n",
       "            0.85163,     0.85125,     0.85086,     0.85049,     0.85014,     0.84936,     0.84774,     0.84607,     0.84557,     0.84532,      0.8486,     0.84862,     0.84806,      0.8474,     0.84668,     0.84513,     0.84447,      0.8441,     0.84317,     0.84532,     0.84768,     0.85527,     0.85879,\n",
       "            0.85874,     0.85815,     0.85898,     0.85981,     0.86064,     0.86147,     0.86211,     0.86215,     0.86302,      0.8639,     0.86477,     0.86565,      0.8655,     0.86469,     0.86433,     0.86405,     0.86826,     0.86793,     0.86839,     0.87091,     0.87113,     0.87074,     0.87046,\n",
       "            0.87358,     0.87355,     0.87302,      0.8724,     0.87422,     0.87604,     0.87905,     0.88116,     0.88219,     0.88516,     0.88483,     0.88458,     0.88431,     0.88397,     0.88348,     0.88246,     0.88206,     0.88174,     0.88089,     0.88054,      0.8802,     0.87997,     0.87974,\n",
       "            0.87944,     0.87857,     0.87807,     0.87769,     0.87731,     0.87923,     0.88124,     0.88218,     0.88177,     0.88152,     0.88128,     0.87952,      0.8791,     0.88421,     0.88304,      0.8828,     0.88256,     0.88202,     0.88135,     0.88108,     0.88081,     0.88038,      0.8798,\n",
       "            0.87883,     0.88168,     0.88512,     0.88603,     0.88693,     0.88783,     0.88873,     0.88963,      0.8903,     0.88933,     0.89242,     0.89455,     0.90079,     0.90495,     0.90399,     0.90253,     0.90203,     0.90177,     0.90152,     0.90044,     0.90104,      0.9062,     0.90604,\n",
       "            0.90587,     0.90571,     0.90555,     0.90488,     0.91193,     0.91113,      0.9106,     0.91017,     0.91541,     0.91704,     0.91659,      0.9163,     0.91601,     0.91575,     0.91548,     0.91522,     0.91498,     0.91475,      0.9145,     0.91418,     0.91387,     0.91285,     0.91174,\n",
       "            0.90975,     0.90952,      0.9093,       0.909,     0.90785,     0.90643,     0.90601,     0.90552,     0.90469,     0.90421,     0.90526,     0.91125,     0.91243,     0.91217,     0.91192,     0.91502,     0.92052,     0.91907,     0.92226,     0.92703,      0.9267,     0.92637,     0.92432,\n",
       "            0.92298,      0.9224,     0.92294,     0.93088,     0.93007,     0.92822,     0.93875,     0.93821,     0.93807,     0.93793,     0.93779,     0.93765,     0.93751,     0.93568,     0.93927,     0.95881,     0.95857,     0.95846,     0.97175,     0.97161,     0.97146,     0.97118,      0.9708,\n",
       "             0.9705,     0.97033,     0.97016,     0.97463,     0.98299,      0.9823,     0.98196,     0.98148,      0.9813,     0.98113,     0.98054,     0.97978,     0.97952,     0.97939,     0.97925,     0.97908,     0.97885,     0.97856,     0.97815,     0.97757,      0.9772,     0.97701,     0.97681,\n",
       "            0.97662,     0.97644,     0.97627,     0.97554,     0.97531,     0.97509,      0.9747,     0.97401,     0.97339,     0.97295,     0.97243,     0.97149,     0.97125,     0.97106,     0.97087,     0.97068,     0.97045,     0.97017,     0.96989,     0.96947,     0.96877,     0.96843,      0.9681,\n",
       "            0.96777,     0.96715,     0.96526,     0.96409,     0.96356,     0.96302,     0.96107,     0.96037,     0.95888,     0.95726,     0.95577,     0.95436,     0.95358,     0.95279,     0.96569,     0.99337,           1,           1,           1,           1,           1,           1,           1,\n",
       "                  1,           1,           1,           1,           1,           1,           1,           1,           1,           1,           1,           1,           1,           1,           1,           1,           1,           1,           1,           1,           1,           1,           1,\n",
       "                  1,           1,           1,           1,           1,           1,           1,           1,           1,           1,           1,           1,           1,           1,           1,           1,           1,           1,           1,           1,           1,           1,           1,\n",
       "                  1,           1,           1,           1,           1,           1,           1,           1,           1,           1,           1,           1,           1,           1,           1,           1,           1,           1,           1,           1,           1,           1,           1,\n",
       "                  1,           1,           1,           1,           1,           1,           1,           1,           1,           1,           1,           1,           1,           1,           1,           1,           1,           1,           1,           1,           1,           1,           1,\n",
       "                  1,           1,           1,           1,           1,           1,           1,           1,           1,           1,           1,           1,           1,           1,           1,           1,           1,           1,           1,           1,           1,           1,           1,\n",
       "                  1,           1,           1,           1,           1,           1,           1,           1,           1,           1,           1,           1,           1,           1,           1,           1,           1,           1,           1,           1,           1,           1,           1,\n",
       "                  1,           1,           1,           1,           1,           1,           1,           1,           1,           1,           1,           1,           1,           1,           1,           1,           1,           1,           1,           1,           1,           1,           1,\n",
       "                  1,           1,           1,           1,           1,           1,           1,           1,           1,           1,           1,           1,           1,           1,           1,           1,           1,           1,           1,           1,           1,           1,           1,\n",
       "                  1,           1,           1,           1,           1,           1,           1,           1,           1,           1,           1,           1,           1,           1,           1,           1,           1,           1,           1,           1,           1,           1,           1,\n",
       "                  1,           1,           1,           1,           1,           1,           1,           1,           1,           1,           1,           1,           1,           1,           1,           1,           1,           1,           1,           1,           1,           1,           1,\n",
       "                  1,           1,           1,           1,           1,           1,           1,           1,           1,           1,           1]]), 'Confidence', 'Precision'], [array([          0,    0.001001,    0.002002,    0.003003,    0.004004,    0.005005,    0.006006,    0.007007,    0.008008,    0.009009,     0.01001,    0.011011,    0.012012,    0.013013,    0.014014,    0.015015,    0.016016,    0.017017,    0.018018,    0.019019,     0.02002,    0.021021,    0.022022,    0.023023,\n",
       "          0.024024,    0.025025,    0.026026,    0.027027,    0.028028,    0.029029,     0.03003,    0.031031,    0.032032,    0.033033,    0.034034,    0.035035,    0.036036,    0.037037,    0.038038,    0.039039,     0.04004,    0.041041,    0.042042,    0.043043,    0.044044,    0.045045,    0.046046,    0.047047,\n",
       "          0.048048,    0.049049,     0.05005,    0.051051,    0.052052,    0.053053,    0.054054,    0.055055,    0.056056,    0.057057,    0.058058,    0.059059,     0.06006,    0.061061,    0.062062,    0.063063,    0.064064,    0.065065,    0.066066,    0.067067,    0.068068,    0.069069,     0.07007,    0.071071,\n",
       "          0.072072,    0.073073,    0.074074,    0.075075,    0.076076,    0.077077,    0.078078,    0.079079,     0.08008,    0.081081,    0.082082,    0.083083,    0.084084,    0.085085,    0.086086,    0.087087,    0.088088,    0.089089,     0.09009,    0.091091,    0.092092,    0.093093,    0.094094,    0.095095,\n",
       "          0.096096,    0.097097,    0.098098,    0.099099,      0.1001,      0.1011,      0.1021,      0.1031,      0.1041,     0.10511,     0.10611,     0.10711,     0.10811,     0.10911,     0.11011,     0.11111,     0.11211,     0.11311,     0.11411,     0.11512,     0.11612,     0.11712,     0.11812,     0.11912,\n",
       "           0.12012,     0.12112,     0.12212,     0.12312,     0.12412,     0.12513,     0.12613,     0.12713,     0.12813,     0.12913,     0.13013,     0.13113,     0.13213,     0.13313,     0.13413,     0.13514,     0.13614,     0.13714,     0.13814,     0.13914,     0.14014,     0.14114,     0.14214,     0.14314,\n",
       "           0.14414,     0.14515,     0.14615,     0.14715,     0.14815,     0.14915,     0.15015,     0.15115,     0.15215,     0.15315,     0.15415,     0.15516,     0.15616,     0.15716,     0.15816,     0.15916,     0.16016,     0.16116,     0.16216,     0.16316,     0.16416,     0.16517,     0.16617,     0.16717,\n",
       "           0.16817,     0.16917,     0.17017,     0.17117,     0.17217,     0.17317,     0.17417,     0.17518,     0.17618,     0.17718,     0.17818,     0.17918,     0.18018,     0.18118,     0.18218,     0.18318,     0.18418,     0.18519,     0.18619,     0.18719,     0.18819,     0.18919,     0.19019,     0.19119,\n",
       "           0.19219,     0.19319,     0.19419,      0.1952,      0.1962,      0.1972,      0.1982,      0.1992,      0.2002,      0.2012,      0.2022,      0.2032,      0.2042,     0.20521,     0.20621,     0.20721,     0.20821,     0.20921,     0.21021,     0.21121,     0.21221,     0.21321,     0.21421,     0.21522,\n",
       "           0.21622,     0.21722,     0.21822,     0.21922,     0.22022,     0.22122,     0.22222,     0.22322,     0.22422,     0.22523,     0.22623,     0.22723,     0.22823,     0.22923,     0.23023,     0.23123,     0.23223,     0.23323,     0.23423,     0.23524,     0.23624,     0.23724,     0.23824,     0.23924,\n",
       "           0.24024,     0.24124,     0.24224,     0.24324,     0.24424,     0.24525,     0.24625,     0.24725,     0.24825,     0.24925,     0.25025,     0.25125,     0.25225,     0.25325,     0.25425,     0.25526,     0.25626,     0.25726,     0.25826,     0.25926,     0.26026,     0.26126,     0.26226,     0.26326,\n",
       "           0.26426,     0.26527,     0.26627,     0.26727,     0.26827,     0.26927,     0.27027,     0.27127,     0.27227,     0.27327,     0.27427,     0.27528,     0.27628,     0.27728,     0.27828,     0.27928,     0.28028,     0.28128,     0.28228,     0.28328,     0.28428,     0.28529,     0.28629,     0.28729,\n",
       "           0.28829,     0.28929,     0.29029,     0.29129,     0.29229,     0.29329,     0.29429,      0.2953,      0.2963,      0.2973,      0.2983,      0.2993,      0.3003,      0.3013,      0.3023,      0.3033,      0.3043,     0.30531,     0.30631,     0.30731,     0.30831,     0.30931,     0.31031,     0.31131,\n",
       "           0.31231,     0.31331,     0.31431,     0.31532,     0.31632,     0.31732,     0.31832,     0.31932,     0.32032,     0.32132,     0.32232,     0.32332,     0.32432,     0.32533,     0.32633,     0.32733,     0.32833,     0.32933,     0.33033,     0.33133,     0.33233,     0.33333,     0.33433,     0.33534,\n",
       "           0.33634,     0.33734,     0.33834,     0.33934,     0.34034,     0.34134,     0.34234,     0.34334,     0.34434,     0.34535,     0.34635,     0.34735,     0.34835,     0.34935,     0.35035,     0.35135,     0.35235,     0.35335,     0.35435,     0.35536,     0.35636,     0.35736,     0.35836,     0.35936,\n",
       "           0.36036,     0.36136,     0.36236,     0.36336,     0.36436,     0.36537,     0.36637,     0.36737,     0.36837,     0.36937,     0.37037,     0.37137,     0.37237,     0.37337,     0.37437,     0.37538,     0.37638,     0.37738,     0.37838,     0.37938,     0.38038,     0.38138,     0.38238,     0.38338,\n",
       "           0.38438,     0.38539,     0.38639,     0.38739,     0.38839,     0.38939,     0.39039,     0.39139,     0.39239,     0.39339,     0.39439,      0.3954,      0.3964,      0.3974,      0.3984,      0.3994,      0.4004,      0.4014,      0.4024,      0.4034,      0.4044,     0.40541,     0.40641,     0.40741,\n",
       "           0.40841,     0.40941,     0.41041,     0.41141,     0.41241,     0.41341,     0.41441,     0.41542,     0.41642,     0.41742,     0.41842,     0.41942,     0.42042,     0.42142,     0.42242,     0.42342,     0.42442,     0.42543,     0.42643,     0.42743,     0.42843,     0.42943,     0.43043,     0.43143,\n",
       "           0.43243,     0.43343,     0.43443,     0.43544,     0.43644,     0.43744,     0.43844,     0.43944,     0.44044,     0.44144,     0.44244,     0.44344,     0.44444,     0.44545,     0.44645,     0.44745,     0.44845,     0.44945,     0.45045,     0.45145,     0.45245,     0.45345,     0.45445,     0.45546,\n",
       "           0.45646,     0.45746,     0.45846,     0.45946,     0.46046,     0.46146,     0.46246,     0.46346,     0.46446,     0.46547,     0.46647,     0.46747,     0.46847,     0.46947,     0.47047,     0.47147,     0.47247,     0.47347,     0.47447,     0.47548,     0.47648,     0.47748,     0.47848,     0.47948,\n",
       "           0.48048,     0.48148,     0.48248,     0.48348,     0.48448,     0.48549,     0.48649,     0.48749,     0.48849,     0.48949,     0.49049,     0.49149,     0.49249,     0.49349,     0.49449,      0.4955,      0.4965,      0.4975,      0.4985,      0.4995,      0.5005,      0.5015,      0.5025,      0.5035,\n",
       "            0.5045,     0.50551,     0.50651,     0.50751,     0.50851,     0.50951,     0.51051,     0.51151,     0.51251,     0.51351,     0.51451,     0.51552,     0.51652,     0.51752,     0.51852,     0.51952,     0.52052,     0.52152,     0.52252,     0.52352,     0.52452,     0.52553,     0.52653,     0.52753,\n",
       "           0.52853,     0.52953,     0.53053,     0.53153,     0.53253,     0.53353,     0.53453,     0.53554,     0.53654,     0.53754,     0.53854,     0.53954,     0.54054,     0.54154,     0.54254,     0.54354,     0.54454,     0.54555,     0.54655,     0.54755,     0.54855,     0.54955,     0.55055,     0.55155,\n",
       "           0.55255,     0.55355,     0.55455,     0.55556,     0.55656,     0.55756,     0.55856,     0.55956,     0.56056,     0.56156,     0.56256,     0.56356,     0.56456,     0.56557,     0.56657,     0.56757,     0.56857,     0.56957,     0.57057,     0.57157,     0.57257,     0.57357,     0.57457,     0.57558,\n",
       "           0.57658,     0.57758,     0.57858,     0.57958,     0.58058,     0.58158,     0.58258,     0.58358,     0.58458,     0.58559,     0.58659,     0.58759,     0.58859,     0.58959,     0.59059,     0.59159,     0.59259,     0.59359,     0.59459,      0.5956,      0.5966,      0.5976,      0.5986,      0.5996,\n",
       "            0.6006,      0.6016,      0.6026,      0.6036,      0.6046,     0.60561,     0.60661,     0.60761,     0.60861,     0.60961,     0.61061,     0.61161,     0.61261,     0.61361,     0.61461,     0.61562,     0.61662,     0.61762,     0.61862,     0.61962,     0.62062,     0.62162,     0.62262,     0.62362,\n",
       "           0.62462,     0.62563,     0.62663,     0.62763,     0.62863,     0.62963,     0.63063,     0.63163,     0.63263,     0.63363,     0.63463,     0.63564,     0.63664,     0.63764,     0.63864,     0.63964,     0.64064,     0.64164,     0.64264,     0.64364,     0.64464,     0.64565,     0.64665,     0.64765,\n",
       "           0.64865,     0.64965,     0.65065,     0.65165,     0.65265,     0.65365,     0.65465,     0.65566,     0.65666,     0.65766,     0.65866,     0.65966,     0.66066,     0.66166,     0.66266,     0.66366,     0.66466,     0.66567,     0.66667,     0.66767,     0.66867,     0.66967,     0.67067,     0.67167,\n",
       "           0.67267,     0.67367,     0.67467,     0.67568,     0.67668,     0.67768,     0.67868,     0.67968,     0.68068,     0.68168,     0.68268,     0.68368,     0.68468,     0.68569,     0.68669,     0.68769,     0.68869,     0.68969,     0.69069,     0.69169,     0.69269,     0.69369,     0.69469,      0.6957,\n",
       "            0.6967,      0.6977,      0.6987,      0.6997,      0.7007,      0.7017,      0.7027,      0.7037,      0.7047,     0.70571,     0.70671,     0.70771,     0.70871,     0.70971,     0.71071,     0.71171,     0.71271,     0.71371,     0.71471,     0.71572,     0.71672,     0.71772,     0.71872,     0.71972,\n",
       "           0.72072,     0.72172,     0.72272,     0.72372,     0.72472,     0.72573,     0.72673,     0.72773,     0.72873,     0.72973,     0.73073,     0.73173,     0.73273,     0.73373,     0.73473,     0.73574,     0.73674,     0.73774,     0.73874,     0.73974,     0.74074,     0.74174,     0.74274,     0.74374,\n",
       "           0.74474,     0.74575,     0.74675,     0.74775,     0.74875,     0.74975,     0.75075,     0.75175,     0.75275,     0.75375,     0.75475,     0.75576,     0.75676,     0.75776,     0.75876,     0.75976,     0.76076,     0.76176,     0.76276,     0.76376,     0.76476,     0.76577,     0.76677,     0.76777,\n",
       "           0.76877,     0.76977,     0.77077,     0.77177,     0.77277,     0.77377,     0.77477,     0.77578,     0.77678,     0.77778,     0.77878,     0.77978,     0.78078,     0.78178,     0.78278,     0.78378,     0.78478,     0.78579,     0.78679,     0.78779,     0.78879,     0.78979,     0.79079,     0.79179,\n",
       "           0.79279,     0.79379,     0.79479,      0.7958,      0.7968,      0.7978,      0.7988,      0.7998,      0.8008,      0.8018,      0.8028,      0.8038,      0.8048,     0.80581,     0.80681,     0.80781,     0.80881,     0.80981,     0.81081,     0.81181,     0.81281,     0.81381,     0.81481,     0.81582,\n",
       "           0.81682,     0.81782,     0.81882,     0.81982,     0.82082,     0.82182,     0.82282,     0.82382,     0.82482,     0.82583,     0.82683,     0.82783,     0.82883,     0.82983,     0.83083,     0.83183,     0.83283,     0.83383,     0.83483,     0.83584,     0.83684,     0.83784,     0.83884,     0.83984,\n",
       "           0.84084,     0.84184,     0.84284,     0.84384,     0.84484,     0.84585,     0.84685,     0.84785,     0.84885,     0.84985,     0.85085,     0.85185,     0.85285,     0.85385,     0.85485,     0.85586,     0.85686,     0.85786,     0.85886,     0.85986,     0.86086,     0.86186,     0.86286,     0.86386,\n",
       "           0.86486,     0.86587,     0.86687,     0.86787,     0.86887,     0.86987,     0.87087,     0.87187,     0.87287,     0.87387,     0.87487,     0.87588,     0.87688,     0.87788,     0.87888,     0.87988,     0.88088,     0.88188,     0.88288,     0.88388,     0.88488,     0.88589,     0.88689,     0.88789,\n",
       "           0.88889,     0.88989,     0.89089,     0.89189,     0.89289,     0.89389,     0.89489,      0.8959,      0.8969,      0.8979,      0.8989,      0.8999,      0.9009,      0.9019,      0.9029,      0.9039,      0.9049,     0.90591,     0.90691,     0.90791,     0.90891,     0.90991,     0.91091,     0.91191,\n",
       "           0.91291,     0.91391,     0.91491,     0.91592,     0.91692,     0.91792,     0.91892,     0.91992,     0.92092,     0.92192,     0.92292,     0.92392,     0.92492,     0.92593,     0.92693,     0.92793,     0.92893,     0.92993,     0.93093,     0.93193,     0.93293,     0.93393,     0.93493,     0.93594,\n",
       "           0.93694,     0.93794,     0.93894,     0.93994,     0.94094,     0.94194,     0.94294,     0.94394,     0.94494,     0.94595,     0.94695,     0.94795,     0.94895,     0.94995,     0.95095,     0.95195,     0.95295,     0.95395,     0.95495,     0.95596,     0.95696,     0.95796,     0.95896,     0.95996,\n",
       "           0.96096,     0.96196,     0.96296,     0.96396,     0.96496,     0.96597,     0.96697,     0.96797,     0.96897,     0.96997,     0.97097,     0.97197,     0.97297,     0.97397,     0.97497,     0.97598,     0.97698,     0.97798,     0.97898,     0.97998,     0.98098,     0.98198,     0.98298,     0.98398,\n",
       "           0.98498,     0.98599,     0.98699,     0.98799,     0.98899,     0.98999,     0.99099,     0.99199,     0.99299,     0.99399,     0.99499,       0.996,       0.997,       0.998,       0.999,           1]), array([[    0.74939,     0.74939,     0.74455,     0.73245,     0.71792,     0.70823,     0.70097,     0.69249,     0.68765,      0.6816,      0.6707,     0.66586,     0.66344,     0.65738,     0.65375,     0.65012,     0.64407,     0.64407,     0.64286,     0.64165,     0.63801,     0.63075,     0.62954,\n",
       "            0.62712,     0.62712,     0.62591,     0.62228,     0.62107,     0.62107,     0.61926,     0.61743,     0.61501,     0.60775,     0.60654,     0.60412,     0.59322,     0.58717,     0.58596,     0.58354,     0.58354,     0.58232,     0.58232,     0.58111,     0.57748,     0.57748,     0.57748,\n",
       "            0.57618,     0.57143,     0.57022,     0.57022,     0.56901,     0.56901,     0.56659,     0.56416,     0.56295,     0.56295,     0.55932,      0.5569,     0.55569,     0.55448,     0.55448,     0.55448,     0.55327,     0.55085,     0.54843,     0.54479,     0.54479,     0.54479,     0.54237,\n",
       "            0.54116,     0.53874,     0.53874,     0.53632,     0.53632,     0.53514,      0.5339,     0.53269,     0.53269,     0.53148,     0.52906,     0.52663,     0.52542,     0.52542,     0.52542,     0.52421,     0.52179,     0.52058,     0.51937,     0.51816,     0.51695,     0.51695,     0.51574,\n",
       "            0.51574,     0.51574,     0.51574,     0.51574,     0.51574,     0.51574,     0.51574,     0.51453,     0.51427,     0.51332,     0.51269,     0.51211,      0.5109,      0.5109,      0.5109,     0.50969,     0.50847,     0.50726,     0.50726,     0.50484,      0.5032,     0.49879,     0.49758,\n",
       "            0.49637,      0.4954,     0.49395,     0.49274,     0.49274,     0.49032,      0.4891,      0.4891,     0.48847,     0.48789,     0.48668,     0.48668,     0.48668,     0.48587,     0.48429,     0.48125,     0.48063,     0.48063,     0.47947,       0.477,     0.47603,     0.47464,     0.47458,\n",
       "            0.47458,     0.47419,     0.47242,     0.47215,     0.47215,     0.47215,     0.47215,     0.47215,     0.47215,     0.47094,     0.47054,     0.46852,     0.46843,     0.46783,     0.46731,      0.4661,     0.46603,      0.4653,     0.46368,     0.46368,     0.46368,     0.46368,     0.46126,\n",
       "            0.46126,     0.46082,     0.46005,     0.45884,     0.45884,     0.45884,     0.45763,     0.45763,     0.45763,     0.45763,     0.45687,     0.45642,     0.45642,     0.45642,     0.45436,       0.454,       0.454,     0.45278,     0.45249,     0.45157,     0.45036,     0.44915,     0.44673,\n",
       "            0.44673,     0.44673,     0.44651,     0.44552,     0.44552,     0.44486,     0.44219,     0.44088,     0.43947,     0.43928,     0.43826,     0.43826,     0.43809,     0.43725,     0.43459,     0.43282,      0.4322,      0.4322,     0.43099,     0.42857,     0.42857,     0.42857,     0.42736,\n",
       "            0.42736,     0.42736,     0.42736,     0.42615,     0.42494,     0.42494,     0.42494,     0.42494,     0.42494,     0.42494,     0.42373,     0.42373,     0.42252,     0.42131,      0.4201,     0.41889,      0.4188,     0.41778,     0.41692,     0.41421,     0.41283,     0.41283,     0.41283,\n",
       "            0.41162,     0.41041,     0.41005,     0.40964,     0.40923,     0.40797,     0.40557,     0.40557,     0.40557,     0.40557,     0.40557,     0.40557,     0.40454,     0.40391,     0.40338,     0.40263,     0.40194,     0.40194,     0.40194,     0.40194,     0.40194,     0.40194,     0.40073,\n",
       "            0.39831,     0.39831,     0.39831,     0.39831,     0.39709,     0.39529,     0.39467,     0.39467,     0.39104,     0.39104,     0.39104,     0.39083,     0.39058,     0.39033,     0.39008,     0.38983,     0.38983,     0.38854,     0.38646,     0.38484,     0.38291,     0.38231,     0.38191,\n",
       "            0.38152,      0.3805,      0.3781,     0.37772,     0.37772,     0.37772,     0.37772,     0.37651,     0.37651,     0.37651,     0.37651,     0.37646,      0.3754,      0.3753,     0.37486,     0.37423,     0.37263,     0.37217,     0.37172,     0.36996,     0.36925,     0.36925,     0.36925,\n",
       "            0.36874,     0.36761,     0.36674,      0.3663,     0.36585,     0.36544,     0.36507,      0.3647,     0.36303,     0.36014,     0.35956,     0.35956,     0.35956,     0.35956,     0.35825,     0.35631,     0.35472,     0.35472,     0.35472,     0.35472,     0.35472,     0.35472,     0.35472,\n",
       "            0.35445,     0.35351,     0.35351,     0.35351,      0.3523,      0.3523,     0.35182,     0.35084,     0.34988,      0.3495,     0.34901,     0.34867,     0.34867,     0.34625,     0.34416,     0.34217,      0.3414,      0.3414,      0.3414,     0.34025,     0.33852,     0.33777,     0.33777,\n",
       "            0.33777,     0.33777,     0.33656,     0.33651,     0.33617,     0.33583,     0.33549,     0.33535,     0.33503,     0.33466,     0.33428,     0.33334,     0.33194,     0.33059,     0.33033,     0.32984,     0.32935,     0.32873,      0.3281,     0.32746,     0.32688,      0.3258,     0.32285,\n",
       "            0.32144,     0.32062,     0.31889,      0.3184,      0.3184,     0.31837,     0.31691,     0.31637,     0.31568,     0.31477,     0.31477,     0.31473,      0.3132,     0.31251,     0.31235,     0.31114,     0.30937,     0.30755,     0.30726,     0.30699,     0.30672,     0.30645,     0.30599,\n",
       "            0.30526,     0.30433,     0.30387,     0.30387,     0.30079,     0.29931,     0.29903,     0.29903,     0.29903,     0.29887,     0.29859,      0.2983,     0.29801,     0.29782,     0.29748,     0.29661,      0.2951,     0.29419,     0.29177,     0.29177,     0.29078,     0.28957,     0.28935,\n",
       "            0.28935,     0.28935,     0.28814,     0.28814,     0.28625,     0.28418,     0.28379,      0.2834,     0.28152,     0.28087,     0.28087,     0.28087,     0.28087,     0.28087,     0.28087,     0.28087,     0.28087,     0.27821,     0.27745,     0.27551,     0.27464,     0.27373,      0.2724,\n",
       "             0.2724,      0.2723,     0.27145,     0.27119,     0.27076,     0.27015,     0.26939,     0.26859,     0.26788,     0.26755,     0.26755,     0.26728,     0.26649,     0.26489,     0.26458,     0.26428,     0.26397,     0.26362,     0.26325,     0.26289,     0.26177,     0.25993,     0.25948,\n",
       "            0.25908,      0.2586,      0.2578,     0.25674,     0.25623,     0.25576,     0.25545,     0.25453,     0.25295,     0.25245,     0.25194,     0.25103,     0.25061,     0.25061,     0.25061,     0.25061,     0.24906,     0.24702,     0.24411,     0.24334,     0.24327,     0.24092,     0.23995,\n",
       "            0.23899,     0.23833,     0.23798,     0.23762,     0.23729,     0.23725,      0.2367,     0.23615,     0.23544,     0.23432,     0.23366,     0.23334,     0.23264,     0.23245,     0.23245,     0.23245,     0.23245,     0.23037,     0.23002,     0.23002,     0.23002,     0.23002,     0.23001,\n",
       "            0.22932,     0.22863,     0.22793,     0.22726,     0.22663,     0.22526,     0.22245,      0.2196,     0.21875,     0.21833,     0.21792,     0.21717,     0.21624,     0.21514,     0.21395,     0.21141,     0.21035,     0.20976,     0.20823,     0.20823,     0.20823,     0.20702,     0.20702,\n",
       "            0.20607,      0.2046,      0.2046,      0.2046,      0.2046,      0.2046,     0.20436,     0.20339,     0.20339,     0.20339,     0.20339,     0.20339,     0.20255,     0.20115,     0.20054,     0.20006,     0.19976,      0.1989,     0.19734,     0.19734,     0.19641,     0.19574,     0.19524,\n",
       "            0.19492,     0.19236,     0.19144,     0.18886,     0.18886,     0.18886,     0.18886,     0.18851,     0.18765,     0.18663,     0.18602,     0.18557,     0.18508,     0.18447,     0.18359,     0.18178,     0.18109,     0.18052,     0.17908,     0.17848,     0.17791,     0.17752,     0.17712,\n",
       "            0.17663,     0.17519,     0.17437,     0.17375,     0.17315,     0.17312,     0.17312,     0.17224,     0.17155,     0.17115,     0.17075,     0.16793,     0.16725,      0.1664,     0.16453,     0.16415,     0.16377,     0.16291,     0.16187,     0.16146,     0.16104,     0.16039,      0.1595,\n",
       "            0.15806,     0.15738,     0.15738,     0.15738,     0.15738,     0.15738,     0.15738,     0.15738,     0.15721,     0.15567,     0.15496,     0.15375,     0.15133,     0.14985,     0.14818,     0.14574,     0.14491,     0.14449,     0.14407,     0.14235,     0.14044,     0.14035,     0.14009,\n",
       "            0.13982,     0.13956,     0.13929,      0.1382,      0.1379,     0.13653,     0.13564,     0.13438,     0.13438,     0.13383,     0.13305,     0.13254,     0.13204,     0.13159,     0.13114,      0.1307,      0.1303,      0.1299,     0.12949,     0.12897,     0.12845,     0.12681,     0.12507,\n",
       "            0.12203,      0.1217,     0.12138,     0.12093,     0.11928,     0.11728,     0.11671,     0.11603,     0.11491,     0.11428,      0.1138,      0.1138,     0.11352,     0.11317,     0.11281,     0.11259,     0.11218,     0.10998,     0.10775,     0.10766,     0.10714,     0.10662,     0.10351,\n",
       "            0.10156,     0.10074,    0.099274,    0.097826,    0.096614,    0.093937,    0.092776,    0.091915,    0.091694,    0.091473,    0.091251,     0.09103,    0.090808,    0.088066,    0.085956,    0.084555,    0.084044,    0.083535,      0.0833,    0.082858,    0.082415,    0.081585,    0.080517,\n",
       "           0.079668,    0.079192,    0.078716,    0.075061,    0.069946,    0.067208,    0.065901,    0.064145,    0.063551,    0.062957,    0.061012,    0.058677,    0.057916,    0.057531,    0.057146,    0.056668,    0.056027,    0.055253,    0.054202,     0.05277,    0.051902,    0.051447,    0.050991,\n",
       "           0.050581,    0.050192,    0.049803,    0.048281,    0.047837,    0.047393,    0.046646,    0.045383,    0.044286,    0.043549,    0.042701,    0.041252,    0.040903,    0.040631,    0.040358,    0.040086,    0.039759,    0.039379,    0.038999,    0.038453,    0.037553,    0.037145,    0.036749,\n",
       "           0.036353,    0.035659,    0.033648,    0.032512,    0.032022,    0.031531,    0.029895,    0.029347,    0.028242,    0.027126,    0.026172,    0.025321,    0.024881,    0.024441,    0.024213,    0.024213,    0.022259,    0.020192,    0.019677,    0.019058,    0.018282,    0.017776,     0.01732,\n",
       "           0.016849,    0.016309,    0.015769,    0.015494,    0.015234,    0.014974,    0.014715,     0.01429,    0.013441,    0.012632,     0.01087,    0.010401,    0.009931,   0.0095743,   0.0093416,    0.009109,   0.0088763,   0.0086437,   0.0082998,   0.0076602,    0.007094,   0.0066473,   0.0062007,\n",
       "          0.0047866,    0.004617,   0.0044475,   0.0042779,   0.0041083,   0.0039388,   0.0037692,    0.003571,   0.0032504,   0.0029299,   0.0026093,   0.0023527,   0.0021866,   0.0020206,   0.0018546,   0.0016886,   0.0015225,   0.0013565,           0,           0,           0,           0,           0,\n",
       "                  0,           0,           0,           0,           0,           0,           0,           0,           0,           0,           0,           0,           0,           0,           0,           0,           0,           0,           0,           0,           0,           0,           0,\n",
       "                  0,           0,           0,           0,           0,           0,           0,           0,           0,           0,           0,           0,           0,           0,           0,           0,           0,           0,           0,           0,           0,           0,           0,\n",
       "                  0,           0,           0,           0,           0,           0,           0,           0,           0,           0,           0,           0,           0,           0,           0,           0,           0,           0,           0,           0,           0,           0,           0,\n",
       "                  0,           0,           0,           0,           0,           0,           0,           0,           0,           0,           0,           0,           0,           0,           0,           0,           0,           0,           0,           0,           0,           0,           0,\n",
       "                  0,           0,           0,           0,           0,           0,           0,           0,           0,           0,           0,           0,           0,           0,           0,           0,           0,           0,           0,           0,           0,           0,           0,\n",
       "                  0,           0,           0,           0,           0,           0,           0,           0,           0,           0,           0,           0,           0,           0,           0,           0,           0,           0,           0,           0,           0,           0,           0,\n",
       "                  0,           0,           0,           0,           0,           0,           0,           0,           0,           0,           0,           0,           0,           0,           0,           0,           0,           0,           0,           0,           0,           0,           0,\n",
       "                  0,           0,           0,           0,           0,           0,           0,           0,           0,           0,           0,           0,           0,           0,           0,           0,           0,           0,           0,           0,           0,           0,           0,\n",
       "                  0,           0,           0,           0,           0,           0,           0,           0,           0,           0,           0]]), 'Confidence', 'Recall']]\n",
       "fitness: 0.5311660746746434\n",
       "keys: ['metrics/precision(B)', 'metrics/recall(B)', 'metrics/mAP50(B)', 'metrics/mAP50-95(B)', 'metrics/precision(M)', 'metrics/recall(M)', 'metrics/mAP50(M)', 'metrics/mAP50-95(M)']\n",
       "maps: array([    0.47359])\n",
       "names: {0: 'vessel'}\n",
       "plot: True\n",
       "results_dict: {'metrics/precision(B)': 0.6562172249655829, 'metrics/recall(B)': 0.5351089588377724, 'metrics/mAP50(B)': 0.5695228393774776, 'metrics/mAP50-95(B)': 0.28325847275659344, 'metrics/precision(M)': 0.5884148517748989, 'metrics/recall(M)': 0.463680387409201, 'metrics/mAP50(M)': 0.47981594467700467, 'metrics/mAP50-95(M)': 0.1903328564314012, 'fitness': 0.5311660746746434}\n",
       "save_dir: WindowsPath('runs/segment/train17')\n",
       "seg: ultralytics.utils.metrics.Metric object\n",
       "speed: {'preprocess': 3.2198484553847204, 'inference': 442.39447283190356, 'loss': 0.0, 'postprocess': 3.8268898808678915}\n",
       "task: 'segment'"
      ]
     },
     "execution_count": 5,
     "metadata": {},
     "output_type": "execute_result"
    },
    {
     "name": "stdout",
     "output_type": "stream",
     "text": [
      "2024-07-26 01:45:53,372 - clearml.Task - INFO - Completed model upload to https://files.clear.ml/synovial_img_segmentation/yolo8s-seg_vessels.1a97c1a375a0413ba456faa8e87e34f9/models/best.pt\n"
     ]
    },
    {
     "name": "stderr",
     "output_type": "stream",
     "text": [
      "Retrying (Retry(total=237, connect=237, read=240, redirect=240, status=240)) after connection broken by 'NewConnectionError('<urllib3.connection.HTTPSConnection object at 0x000001CD3E0CCA00>: Failed to establish a new connection: [Errno 11001] getaddrinfo failed')': /v2.23/tasks.get_all\n",
      "Retrying (Retry(total=237, connect=237, read=240, redirect=240, status=240)) after connection broken by 'NewConnectionError('<urllib3.connection.HTTPSConnection object at 0x000001CD3C023880>: Failed to establish a new connection: [Errno 11001] getaddrinfo failed')': /v2.23/tasks.get_all\n",
      "Retrying (Retry(total=236, connect=236, read=240, redirect=240, status=240)) after connection broken by 'NewConnectionError('<urllib3.connection.HTTPSConnection object at 0x000001CD3C0230A0>: Failed to establish a new connection: [Errno 11001] getaddrinfo failed')': /v2.23/tasks.get_all\n",
      "Retrying (Retry(total=236, connect=236, read=240, redirect=240, status=240)) after connection broken by 'NewConnectionError('<urllib3.connection.HTTPSConnection object at 0x000001CD3C023910>: Failed to establish a new connection: [Errno 11001] getaddrinfo failed')': /v2.23/tasks.get_all\n"
     ]
    },
    {
     "name": "stdout",
     "output_type": "stream",
     "text": [
      "2024-07-28 14:59:50,467 - clearml.Task - WARNING - ### TASK STOPPED - USER ABORTED - STATUS CHANGED ###\n"
     ]
    },
    {
     "ename": "",
     "evalue": "",
     "output_type": "error",
     "traceback": [
      "\u001b[1;31mThe Kernel crashed while executing code in the current cell or a previous cell. \n",
      "\u001b[1;31mPlease review the code in the cell(s) to identify a possible cause of the failure. \n",
      "\u001b[1;31mClick <a href='https://aka.ms/vscodeJupyterKernelCrash'>here</a> for more info. \n",
      "\u001b[1;31mView Jupyter <a href='command:jupyter.viewOutput'>log</a> for further details."
     ]
    }
   ],
   "source": [
    "seg_s_model.train(data=PATH_TO_DATA,  degrees = 360, flipud = 0.2, fliplr = 0.2, epochs=100)"
   ]
  },
  {
   "cell_type": "code",
   "execution_count": 7,
   "metadata": {},
   "outputs": [
    {
     "name": "stdout",
     "output_type": "stream",
     "text": [
      "Ultralytics YOLOv8.1.15 🚀 Python-3.9.10 torch-2.1.1+cpu CPU (Intel Core(TM) i3-10110U 2.10GHz)\n",
      "YOLOv8s-seg summary (fused): 195 layers, 11779987 parameters, 0 gradients, 42.4 GFLOPs\n",
      "\n",
      "\u001b[34m\u001b[1mPyTorch:\u001b[0m starting from 'C:\\ide\\master\\runs\\segment\\train17\\weights\\best.pt' with input shape (1, 3, 640, 640) BCHW and output shape(s) ((1, 37, 8400), (1, 32, 160, 160)) (22.7 MB)\n",
      "\n",
      "\u001b[34m\u001b[1mONNX:\u001b[0m starting export with onnx 1.15.0 opset 17...\n",
      "\u001b[34m\u001b[1mONNX:\u001b[0m export success ✅ 4.2s, saved as 'C:\\ide\\master\\runs\\segment\\train17\\weights\\best.onnx' (45.1 MB)\n",
      "\n",
      "Export complete (8.5s)\n",
      "Results saved to \u001b[1mC:\\ide\\master\\runs\\segment\\train17\\weights\u001b[0m\n",
      "Predict:         yolo predict task=segment model=C:\\ide\\master\\runs\\segment\\train17\\weights\\best.onnx imgsz=640  \n",
      "Validate:        yolo val task=segment model=C:\\ide\\master\\runs\\segment\\train17\\weights\\best.onnx imgsz=640 data=C:/ide/github/yolo_v8/config.yaml  \n",
      "Visualize:       https://netron.app\n"
     ]
    }
   ],
   "source": [
    "path_s = seg_s_model.export(format=\"onnx\") "
   ]
  }
 ],
 "metadata": {
  "kernelspec": {
   "display_name": "Python 3",
   "language": "python",
   "name": "python3"
  },
  "language_info": {
   "codemirror_mode": {
    "name": "ipython",
    "version": 3
   },
   "file_extension": ".py",
   "mimetype": "text/x-python",
   "name": "python",
   "nbconvert_exporter": "python",
   "pygments_lexer": "ipython3",
   "version": "3.9.10"
  }
 },
 "nbformat": 4,
 "nbformat_minor": 2
}
