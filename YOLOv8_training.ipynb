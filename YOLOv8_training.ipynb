{
 "cells": [
  {
   "cell_type": "code",
   "execution_count": null,
   "metadata": {},
   "outputs": [],
   "source": [
    "import json\n",
    "import re\n",
    "import numpy as np\n",
    "import os\n",
    "import glob\n",
    "import sklearn as sk\n",
    "from sklearn.model_selection import train_test_split\n",
    "import shutil"
   ]
  },
  {
   "cell_type": "code",
   "execution_count": null,
   "metadata": {},
   "outputs": [],
   "source": [
    "def get_txt_annotation(path_to_file, path_to_txt_folder, filename):\n",
    "  \n",
    "  '''\n",
    "Create a txt file with normalized coordinates of single-class polygon annotations from geojson\n",
    "Создаёт текстовый файл с нормализованными координатами полигональных аннотаций единственного класса из файл формата geojson\n",
    "\n",
    "  path_to_file: path to geojson/json file with img annotations\n",
    "  filename: name of existing/new txt file used as final txt file with img annotations\n",
    "  '''\n",
    "  coords_list = []\n",
    "  str_coords_list = []\n",
    "  f = open(os.path.join(path_to_txt_folder, filename),'w')\n",
    "  with open(path_to_file) as file:\n",
    "        j_file = json.load(file)\n",
    "\n",
    "  for dict_ in j_file:\n",
    "        geometry = dict_['geometry']\n",
    "        coords = geometry['coordinates']\n",
    "        coords_list.append(coords)\n",
    "\n",
    "  for coord in coords_list:\n",
    "        coord = str(coord)\n",
    "        str_coord = re.sub('[^\\d\\.]',' ', coord)\n",
    "        str_coords_list.append(str_coord)\n",
    "\n",
    "  for s in str_coords_list:\n",
    "        # получить списки с координатами масок на изображении внутри цикла for\n",
    "        a = [float(x) for x in s.split()]\n",
    "        # создадим список с нормализованными значениями\n",
    "        norm_list = []\n",
    "        for coord in a:\n",
    "            if a.index(coord) % 2:\n",
    "                norm_list.append(coord/942)\n",
    "            else:\n",
    "                norm_list.append(coord/1716)\n",
    "\n",
    "        # удалить символы запятых и квадратных скобок\n",
    "        str_a = ' '.join(map(str,norm_list))\n",
    "        # добавить метку единственного класса 0\n",
    "        str_a = '0 ' + str_a\n",
    "        #записать в txt файл каждую строку с новой строки\n",
    "        f.write(str_a + \"\\n\")"
   ]
  },
  {
   "cell_type": "code",
   "execution_count": null,
   "metadata": {},
   "outputs": [],
   "source": [
    "path_to_folder = 'synovial_annots_json/*'\n",
    "path_to_txt_folder = 'txt_annots'"
   ]
  },
  {
   "cell_type": "code",
   "execution_count": 16,
   "metadata": {},
   "outputs": [],
   "source": [
    "for path_to_file in glob.glob(path_to_folder):\n",
    "    txt_filename = os.path.basename(path_to_file).rstrip('json') + 'txt'\n",
    "    try:\n",
    "        get_txt_annotation(path_to_file, path_to_txt_folder, txt_filename)\n",
    "        pass\n",
    "    except:\n",
    "        continue"
   ]
  },
  {
   "cell_type": "code",
   "execution_count": 17,
   "metadata": {},
   "outputs": [],
   "source": [
    "img_names = [] # create a list of file names\n",
    "\n",
    "for file in glob.glob(path_to_txt_folder + '/*'):\n",
    "    file_name = os.path.basename(file)\n",
    "    img_names.append(file_name)"
   ]
  },
  {
   "cell_type": "code",
   "execution_count": null,
   "metadata": {},
   "outputs": [],
   "source": [
    "# create YAML-format dirs\n",
    "os.makedirs(\"yolo_v8/valid/labels\")\n",
    "os.makedirs(\"yolo_v8/train/labels\")\n",
    "os.makedirs(\"yolo_v8/valid/images\")\n",
    "os.makedirs(\"yolo_v8/train/images\")"
   ]
  },
  {
   "cell_type": "code",
   "execution_count": 18,
   "metadata": {},
   "outputs": [],
   "source": [
    "# split file names to train and valid \n",
    "X_train, X_val, y_train, y_val = sk.model_selection.train_test_split(img_names, img_names, train_size=0.8, random_state=42)"
   ]
  },
  {
   "cell_type": "code",
   "execution_count": 19,
   "metadata": {},
   "outputs": [],
   "source": [
    "path_to_img = 'synovial_images'"
   ]
  },
  {
   "cell_type": "code",
   "execution_count": 20,
   "metadata": {},
   "outputs": [],
   "source": [
    "#val_labels, images\n",
    "for txt_id in X_val:\n",
    "    shutil.move(os.path.join(path_to_txt_folder, txt_id), 'yolo_v8/valid/labels')\n",
    "    shutil.move(os.path.join(path_to_img, txt_id.rstrip('.txt') + '.tif'), 'yolo_v8/valid/images')\n",
    "    \n",
    "\n",
    "#train_labels, images\n",
    "for txt_id in X_train:\n",
    "    shutil.move(os.path.join(path_to_txt_folder, txt_id), 'yolo_v8/train/labels')\n",
    "    shutil.move(os.path.join(path_to_img, txt_id.rstrip('.txt') + '.tif'), 'yolo_v8/train/images')"
   ]
  }
 ],
 "metadata": {
  "kernelspec": {
   "display_name": "Python 3",
   "language": "python",
   "name": "python3"
  },
  "language_info": {
   "codemirror_mode": {
    "name": "ipython",
    "version": 3
   },
   "file_extension": ".py",
   "mimetype": "text/x-python",
   "name": "python",
   "nbconvert_exporter": "python",
   "pygments_lexer": "ipython3",
   "version": "3.10.13"
  }
 },
 "nbformat": 4,
 "nbformat_minor": 2
}
